{
 "cells": [
  {
   "cell_type": "markdown",
   "metadata": {},
   "source": [
    "# Multiple Linear Regression for House Price Prediction in Vancouver\n",
    "#### Instructor: Martha Essak\n"
   ]
  },
  {
   "cell_type": "markdown",
   "metadata": {},
   "source": [
    "### Names of students:\n",
    "Kai Li (28707610)  \n",
    "Fanting Qi (93217750) "
   ]
  },
  {
   "cell_type": "markdown",
   "metadata": {},
   "source": [
    "<div class=\"alert alert-block alert-warning\">\n",
    "\n",
    "# Table of Contents\n"
   ]
  },
  {
   "cell_type": "markdown",
   "metadata": {},
   "source": [
    "\n",
    "[Project description](#Description)  \n",
    "[Introduction](#Introduction)  \n",
    "[Exploratory Data Analysis](#EDA)  \n",
    "[Model fit to training data, checking assumptions](#Model_fit)  \n",
    "[Hypothesis tests](#Hyp_tests)  \n",
    "[Using the model for prediction](#Prediction)  \n",
    "[Comparing to other candidate models](#Compare) \n",
    "[Discussion](#Discussion)\n",
    "\n",
    "\n",
    "[Visualizing appropriate transformations](#Transformations)  \n",
    "[Other candidate models](#Other_models)\n",
    "\n",
    "---"
   ]
  },
  {
   "cell_type": "markdown",
   "metadata": {},
   "source": [
    "<div class=\"alert alert-block alert-warning\">\n",
    "<a id=\"Description\"></a>\n",
    "    \n",
    "# Project description\n"
   ]
  },
  {
   "cell_type": "markdown",
   "metadata": {},
   "source": [
    "A multiple linear regression model will predict house sale prices (in $CAD) in Vancouver using these potential quantitative variables:  \n",
    "- Days on market (days)\n",
    "- Total floor area (square feet)\n",
    "- Age (years); this is calculated from Year Built so you do not need to use Year Built\n",
    "- Lot Size (square feet)\n",
    "\n",
    "The data was collected from detached homes with sale prices of at most \\\\$3 million in 2019 and early 2020, prior to any impacts of the pandemic on the real estate market in Vancouver. Because all houses with prices over \\\\$3 million are excluded, the data may appear truncated.   \n",
    "\n",
    "### Methods  \n",
    "  \n",
    "To develop the model, the dataset will be split into training and validation sets. The training set will be used for model development, and variables will be transformed. Exploratory data analysis will visualize variable relationships and transformations.\n",
    "\n",
    "In the main part of the project, the results of your best model (referred to as the final model) will be presented. The final model selection will consider:\n",
    "- checking assumptions are met\n",
    "- assessing goodness of fit to the training set\n",
    "- considering the variables and complexity of the model\n",
    "- assessing how well the model predicts new data (using the validation set as new data)\n",
    "\n",
    "At the end of the project, other considered candidate models will be explored. Strengths and limitations of the final model will be discussed, along with recommendations to address limitations.\n",
    "\n",
    "---"
   ]
  },
  {
   "cell_type": "markdown",
   "metadata": {},
   "source": [
    "<div class=\"alert alert-block alert-warning\">\n",
    "<a id=\"Introduction\"></a>\n",
    "    \n",
    "# Introduction "
   ]
  },
  {
   "cell_type": "markdown",
   "metadata": {},
   "source": [
    "This project aims to develop a multiple linear regression model to predict the sale price of houses (CAD) in Vancouver and validate the model’s prediction accuracy. The data is collected from detached homes with sale prices of at most $3 million in 2019 and early 2020 before the pandemic. This helps to exclude the impact of “Black Swan\" incidents such as the epidemic on the real estate market in Vancouver, which makes the housing price prediction model more universal. \n",
    "\n",
    "The sale price of houses is an important indicator reflecting the performance of the economy. Both real estate developers and buyers pay close attention to the fluctuations in housing prices. It is of great significance to build an effective housing price prediction model for the market. For this purpose, we first try to find the association between the response variable and each of the four different explanatory variables to analyze the factors affecting the housing price. Secondly, we input the explanatory variables covering different properties of housing into the trained model to obtain the predicted values of housing prices, followed by validation of the trained model. Comparison with other candidate models and discussions of the strengths and limitations of this model are conducted in the end. \n",
    "\n",
    "The primary advantage of using a model is that it can improve the speed and accuracy of price predictions. We can analyze multiple variables at once, which provides complete and clear insights at relatively low costs. Moreover, a regression model also can demonstrate how the value of the response variable changes when any one of the explanatory variables is varied, while other explanatory variables are held constant. Another benefit of using regression models is that it indicates significant relationships between explanatory variables and a response variable. The strength of the impact of multiple explanatory variables on a response variable is shown and the evolution of house prices over a period of time can also be seen intuitively (Panchotia, 2020)\n",
    "\n",
    "Reference:\n",
    "Panchotia, R. (2020, August 4). *Predictive modelling using linear regression*. Medium. Retrieved September 25, 2022, from https://medium.com/swlh/predictive-modelling-using-linear-regression-e0e399dc4745 "
   ]
  },
  {
   "cell_type": "code",
   "execution_count": 1,
   "metadata": {
    "scrolled": true
   },
   "outputs": [
    {
     "data": {
      "text/html": [
       "<table class=\"dataframe\">\n",
       "<caption>A data.frame: 1302 × 9</caption>\n",
       "<thead>\n",
       "\t<tr><th scope=col>Number</th><th scope=col>Address</th><th scope=col>List.Date</th><th scope=col>Price</th><th scope=col>Days.on.market</th><th scope=col>Total.floor.area</th><th scope=col>Year.Built</th><th scope=col>Age</th><th scope=col>Lot.Size</th></tr>\n",
       "\t<tr><th scope=col>&lt;int&gt;</th><th scope=col>&lt;chr&gt;</th><th scope=col>&lt;chr&gt;</th><th scope=col>&lt;int&gt;</th><th scope=col>&lt;int&gt;</th><th scope=col>&lt;int&gt;</th><th scope=col>&lt;int&gt;</th><th scope=col>&lt;int&gt;</th><th scope=col>&lt;dbl&gt;</th></tr>\n",
       "</thead>\n",
       "<tbody>\n",
       "\t<tr><td> 1</td><td>3178 GRAVELEY STREET     </td><td>5/8/2020  </td><td>1500000</td><td> 18</td><td>2447</td><td>1946</td><td> 74</td><td>5674.00</td></tr>\n",
       "\t<tr><td> 2</td><td>1438 E 28TH AVENUE       </td><td>1/22/2020 </td><td>1300000</td><td>  7</td><td>2146</td><td>1982</td><td> 38</td><td>3631.98</td></tr>\n",
       "\t<tr><td> 3</td><td>2831 W 49TH AVENUE       </td><td>6/18/2019 </td><td>2650000</td><td>  1</td><td>3108</td><td>1929</td><td> 90</td><td>9111.00</td></tr>\n",
       "\t<tr><td> 4</td><td>2645 TRIUMPH STREET      </td><td>6/18/2019 </td><td>1385000</td><td> 28</td><td>2602</td><td>1922</td><td> 97</td><td>4022.70</td></tr>\n",
       "\t<tr><td> 5</td><td>741-743 E 10TH AVENUE    </td><td>11/28/2019</td><td>1590000</td><td> 17</td><td>1843</td><td>1970</td><td> 49</td><td>4026.00</td></tr>\n",
       "\t<tr><td> 6</td><td>86 W 21ST AVENUE         </td><td>3/3/2020  </td><td>2565000</td><td>  7</td><td>2439</td><td>1989</td><td> 31</td><td>4026.00</td></tr>\n",
       "\t<tr><td> 7</td><td>2418 E 54TH AVENUE       </td><td>8/12/2019 </td><td>1303000</td><td>  9</td><td>2100</td><td>1979</td><td> 40</td><td>3298.48</td></tr>\n",
       "\t<tr><td> 8</td><td>1787 E 57TH AVENUE       </td><td>6/13/2019 </td><td>1150000</td><td> 10</td><td>1900</td><td>1950</td><td> 69</td><td>6574.82</td></tr>\n",
       "\t<tr><td> 9</td><td>2926 TRIMBLE STREET      </td><td>8/16/2019 </td><td>2500000</td><td> 10</td><td>2133</td><td>2005</td><td> 14</td><td>3360.00</td></tr>\n",
       "\t<tr><td>10</td><td>466 E 60TH AVENUE        </td><td>10/17/2019</td><td>2400000</td><td> 44</td><td>3989</td><td>2019</td><td>  0</td><td>4412.00</td></tr>\n",
       "\t<tr><td>11</td><td>150 W 42ND AVENUE        </td><td>10/24/2019</td><td>2870000</td><td> 22</td><td>3509</td><td>1995</td><td> 24</td><td>5859.00</td></tr>\n",
       "\t<tr><td>12</td><td>4010 INVERNESS STREET    </td><td>9/23/2019 </td><td>1355000</td><td> 71</td><td>1902</td><td>1926</td><td> 93</td><td>3196.85</td></tr>\n",
       "\t<tr><td>13</td><td>8233 FRENCH STREET       </td><td>3/20/2019 </td><td>1638000</td><td>168</td><td>2317</td><td>1988</td><td> 31</td><td>3752.10</td></tr>\n",
       "\t<tr><td>14</td><td>2855 W 38TH AVENUE       </td><td>5/25/2020 </td><td>2880000</td><td>  2</td><td>2286</td><td>1941</td><td> 79</td><td>5808.00</td></tr>\n",
       "\t<tr><td>15</td><td>3238 E PENDER STREET     </td><td>2/11/2020 </td><td>1270000</td><td>  1</td><td>3128</td><td>1910</td><td>110</td><td>5424.00</td></tr>\n",
       "\t<tr><td>16</td><td>4329 PERRY STREET        </td><td>2/3/2020  </td><td>1175000</td><td> 25</td><td>1368</td><td>1948</td><td> 72</td><td>3644.10</td></tr>\n",
       "\t<tr><td>17</td><td>2907 W 30TH AVENUE       </td><td>10/30/2019</td><td>2725000</td><td> 12</td><td>3222</td><td>1936</td><td> 83</td><td>5676.75</td></tr>\n",
       "\t<tr><td>18</td><td>2095 E 28TH AVENUE       </td><td>1/5/2020  </td><td>1910000</td><td> 37</td><td>3011</td><td>2020</td><td>  0</td><td>3465.00</td></tr>\n",
       "\t<tr><td>19</td><td>4030 PRINCE ALBERT STREET</td><td>1/6/2020  </td><td>1181000</td><td> 60</td><td>1929</td><td>1923</td><td> 97</td><td>3484.80</td></tr>\n",
       "\t<tr><td>20</td><td>2241 E 4TH AVENUE        </td><td>3/23/2020 </td><td>2489000</td><td>  4</td><td>3452</td><td>2001</td><td> 19</td><td>4550.00</td></tr>\n",
       "\t<tr><td>21</td><td>6168 COMMERCIAL STREET   </td><td>8/7/2019  </td><td>1480000</td><td> 31</td><td>2373</td><td>1992</td><td> 27</td><td>3877.50</td></tr>\n",
       "\t<tr><td>22</td><td>1431 RUPERT STREET       </td><td>4/23/2019 </td><td>1300000</td><td>108</td><td>2610</td><td>1971</td><td> 48</td><td>4127.13</td></tr>\n",
       "\t<tr><td>23</td><td>6192 LARCH STREET        </td><td>10/26/2019</td><td>2700000</td><td> 65</td><td>2602</td><td>1925</td><td> 95</td><td>6227.10</td></tr>\n",
       "\t<tr><td>24</td><td>235 E 62ND AVENUE        </td><td>2/3/2020  </td><td>1300000</td><td> 22</td><td>1920</td><td>1968</td><td> 52</td><td>3267.00</td></tr>\n",
       "\t<tr><td>25</td><td>342 E 23RD AVENUE        </td><td>7/16/2019 </td><td>2910000</td><td>  7</td><td>3330</td><td>2019</td><td>  0</td><td>4048.00</td></tr>\n",
       "\t<tr><td>26</td><td>2277 BONNYVALE AVENUE    </td><td>5/28/2019 </td><td>1498000</td><td> 16</td><td>2150</td><td>1953</td><td> 66</td><td>5607.10</td></tr>\n",
       "\t<tr><td>27</td><td>5515 ARGYLE STREET       </td><td>3/28/2019 </td><td>2240000</td><td>143</td><td>3612</td><td>2019</td><td>  0</td><td>4108.50</td></tr>\n",
       "\t<tr><td>28</td><td>3775 WINDSOR STREET      </td><td>3/16/2020 </td><td>2275000</td><td>  5</td><td>3316</td><td>1925</td><td> 95</td><td>4026.00</td></tr>\n",
       "\t<tr><td>29</td><td>2783 E 27TH AVENUE       </td><td>5/22/2019 </td><td>1410000</td><td> 22</td><td>3166</td><td>2019</td><td>  0</td><td>3630.00</td></tr>\n",
       "\t<tr><td>30</td><td>495 E 60TH AVENUE        </td><td>5/1/2020  </td><td>1240000</td><td>  4</td><td>1600</td><td>1949</td><td> 71</td><td>4082.34</td></tr>\n",
       "\t<tr><td>⋮</td><td>⋮</td><td>⋮</td><td>⋮</td><td>⋮</td><td>⋮</td><td>⋮</td><td>⋮</td><td>⋮</td></tr>\n",
       "\t<tr><td>1273</td><td>385 W 22ND AVENUE        </td><td>3/21/2020 </td><td>2450000</td><td> 20</td><td>2754</td><td>1930</td><td> 90</td><td>4026.00</td></tr>\n",
       "\t<tr><td>1274</td><td>3781 W 27TH AVENUE       </td><td>3/3/2020  </td><td>2350000</td><td>  1</td><td>2578</td><td>1926</td><td> 94</td><td>6443.42</td></tr>\n",
       "\t<tr><td>1275</td><td>1733 E 1ST AVENUE        </td><td>2/3/2019  </td><td>2125000</td><td>321</td><td>2621</td><td>1904</td><td>116</td><td>6214.72</td></tr>\n",
       "\t<tr><td>1276</td><td>1280 E 27 AVENUE         </td><td>4/23/2019 </td><td>1258000</td><td> 56</td><td>1845</td><td>1955</td><td> 64</td><td>4752.00</td></tr>\n",
       "\t<tr><td>1277</td><td>3892 W 50TH AVENUE       </td><td>11/1/2019 </td><td>2135000</td><td>125</td><td>1980</td><td>1948</td><td> 72</td><td>7809.00</td></tr>\n",
       "\t<tr><td>1278</td><td>535 E 31ST AVENUE        </td><td>3/18/2020 </td><td>1903000</td><td>  5</td><td>2562</td><td>2005</td><td> 15</td><td>3150.00</td></tr>\n",
       "\t<tr><td>1279</td><td>4258 ONTARIO STREET      </td><td>7/24/2019 </td><td>1928000</td><td>  6</td><td>2017</td><td>1977</td><td> 42</td><td>2643.00</td></tr>\n",
       "\t<tr><td>1280</td><td>7458 INVERNESS STREET    </td><td>3/19/2019 </td><td>1540000</td><td> 78</td><td>2262</td><td>2000</td><td> 19</td><td>4343.00</td></tr>\n",
       "\t<tr><td>1281</td><td>2690 NAPIER STREET       </td><td>11/4/2019 </td><td>1210000</td><td>122</td><td>1710</td><td>1944</td><td> 76</td><td>3564.00</td></tr>\n",
       "\t<tr><td>1282</td><td>2011 E 4TH AVENUE        </td><td>7/15/2019 </td><td>1590000</td><td>  8</td><td>1953</td><td>1928</td><td> 91</td><td>4026.00</td></tr>\n",
       "\t<tr><td>1283</td><td>3569 ANZIO DRIVE         </td><td>7/2/2019  </td><td>1820000</td><td>  6</td><td>3979</td><td>1989</td><td> 30</td><td>6600.00</td></tr>\n",
       "\t<tr><td>1284</td><td>2890 W 11TH AVENUE       </td><td>3/2/2020  </td><td>2585000</td><td>  7</td><td>2558</td><td>1932</td><td> 88</td><td>4026.00</td></tr>\n",
       "\t<tr><td>1285</td><td>4443 W 14TH AVENUE       </td><td>3/9/2020  </td><td>2780000</td><td>  8</td><td>2447</td><td>1994</td><td> 26</td><td>4026.00</td></tr>\n",
       "\t<tr><td>1286</td><td>6061 KERR STREET         </td><td>9/16/2019 </td><td>1518000</td><td> 14</td><td>2454</td><td>1966</td><td> 53</td><td>5404.00</td></tr>\n",
       "\t<tr><td>1287</td><td>7087 CYPRESS STREET      </td><td>5/30/2019 </td><td>3000000</td><td>  6</td><td>4040</td><td>1928</td><td> 91</td><td>8580.00</td></tr>\n",
       "\t<tr><td>1288</td><td>3470 W 6TH AVENUE        </td><td>5/29/2019 </td><td>2135000</td><td> 26</td><td>2985</td><td>1920</td><td> 99</td><td>3630.00</td></tr>\n",
       "\t<tr><td>1289</td><td>6140 LANARK STREET       </td><td>10/23/2019</td><td>1361400</td><td>  5</td><td>2630</td><td>1982</td><td> 37</td><td>4049.00</td></tr>\n",
       "\t<tr><td>1290</td><td>4866 MANOR STREET        </td><td>3/16/2019 </td><td> 880000</td><td>257</td><td>1747</td><td>1911</td><td>108</td><td>3267.00</td></tr>\n",
       "\t<tr><td>1291</td><td>526 E 61ST AVENUE        </td><td>8/21/2019 </td><td>1029000</td><td> 38</td><td>1700</td><td>1953</td><td> 66</td><td>3465.00</td></tr>\n",
       "\t<tr><td>1292</td><td>3081 E 6TH AVENUE        </td><td>1/10/2020 </td><td>1425000</td><td> 24</td><td>2090</td><td>1969</td><td> 51</td><td>4026.00</td></tr>\n",
       "\t<tr><td>1293</td><td>628 E 19TH AVENUE        </td><td>10/8/2019 </td><td>1909750</td><td> 12</td><td>2100</td><td>2013</td><td>  6</td><td>3019.50</td></tr>\n",
       "\t<tr><td>1294</td><td>1826 E 12TH AVENUE       </td><td>3/25/2020 </td><td>1050000</td><td> 22</td><td>2200</td><td>1912</td><td>108</td><td>4092.00</td></tr>\n",
       "\t<tr><td>1295</td><td>5260 INVERNESS STREET    </td><td>4/1/2019  </td><td>1180000</td><td>279</td><td>1840</td><td>1910</td><td>110</td><td>3383.00</td></tr>\n",
       "\t<tr><td>1296</td><td>2716 E 24TH AVENUE       </td><td>9/16/2019 </td><td>1375000</td><td> 12</td><td>2337</td><td>1948</td><td> 71</td><td>4026.00</td></tr>\n",
       "\t<tr><td>1297</td><td>1697 E 22ND AVENUE       </td><td>1/22/2020 </td><td>1930000</td><td> 22</td><td>4272</td><td>1928</td><td> 92</td><td>5696.17</td></tr>\n",
       "\t<tr><td>1298</td><td>65 W KING EDWARD AVENUE  </td><td>8/22/2019 </td><td>2630000</td><td> 42</td><td>3035</td><td>1939</td><td> 80</td><td>7456.00</td></tr>\n",
       "\t<tr><td>1299</td><td>3150 E 52ND AVENUE       </td><td>8/17/2019 </td><td>1450000</td><td> 14</td><td>2282</td><td>1974</td><td> 45</td><td>3993.00</td></tr>\n",
       "\t<tr><td>1300</td><td>4478 PRINCE ALBERT STREET</td><td>2/24/2020 </td><td>2798000</td><td>  4</td><td>3501</td><td>2016</td><td>  4</td><td>3960.00</td></tr>\n",
       "\t<tr><td>1301</td><td>4038 MILLER STREET       </td><td>4/5/2019  </td><td> 900000</td><td>194</td><td>2440</td><td>1912</td><td>107</td><td>3297.00</td></tr>\n",
       "\t<tr><td>1302</td><td>2040 E 39TH AVENUE       </td><td>3/3/2020  </td><td>1600000</td><td>  7</td><td>2627</td><td>1974</td><td> 46</td><td>4697.00</td></tr>\n",
       "</tbody>\n",
       "</table>\n"
      ],
      "text/latex": [
       "A data.frame: 1302 × 9\n",
       "\\begin{tabular}{lllllllll}\n",
       " Number & Address & List.Date & Price & Days.on.market & Total.floor.area & Year.Built & Age & Lot.Size\\\\\n",
       " <int> & <chr> & <chr> & <int> & <int> & <int> & <int> & <int> & <dbl>\\\\\n",
       "\\hline\n",
       "\t  1 & 3178 GRAVELEY STREET      & 5/8/2020   & 1500000 &  18 & 2447 & 1946 &  74 & 5674.00\\\\\n",
       "\t  2 & 1438 E 28TH AVENUE        & 1/22/2020  & 1300000 &   7 & 2146 & 1982 &  38 & 3631.98\\\\\n",
       "\t  3 & 2831 W 49TH AVENUE        & 6/18/2019  & 2650000 &   1 & 3108 & 1929 &  90 & 9111.00\\\\\n",
       "\t  4 & 2645 TRIUMPH STREET       & 6/18/2019  & 1385000 &  28 & 2602 & 1922 &  97 & 4022.70\\\\\n",
       "\t  5 & 741-743 E 10TH AVENUE     & 11/28/2019 & 1590000 &  17 & 1843 & 1970 &  49 & 4026.00\\\\\n",
       "\t  6 & 86 W 21ST AVENUE          & 3/3/2020   & 2565000 &   7 & 2439 & 1989 &  31 & 4026.00\\\\\n",
       "\t  7 & 2418 E 54TH AVENUE        & 8/12/2019  & 1303000 &   9 & 2100 & 1979 &  40 & 3298.48\\\\\n",
       "\t  8 & 1787 E 57TH AVENUE        & 6/13/2019  & 1150000 &  10 & 1900 & 1950 &  69 & 6574.82\\\\\n",
       "\t  9 & 2926 TRIMBLE STREET       & 8/16/2019  & 2500000 &  10 & 2133 & 2005 &  14 & 3360.00\\\\\n",
       "\t 10 & 466 E 60TH AVENUE         & 10/17/2019 & 2400000 &  44 & 3989 & 2019 &   0 & 4412.00\\\\\n",
       "\t 11 & 150 W 42ND AVENUE         & 10/24/2019 & 2870000 &  22 & 3509 & 1995 &  24 & 5859.00\\\\\n",
       "\t 12 & 4010 INVERNESS STREET     & 9/23/2019  & 1355000 &  71 & 1902 & 1926 &  93 & 3196.85\\\\\n",
       "\t 13 & 8233 FRENCH STREET        & 3/20/2019  & 1638000 & 168 & 2317 & 1988 &  31 & 3752.10\\\\\n",
       "\t 14 & 2855 W 38TH AVENUE        & 5/25/2020  & 2880000 &   2 & 2286 & 1941 &  79 & 5808.00\\\\\n",
       "\t 15 & 3238 E PENDER STREET      & 2/11/2020  & 1270000 &   1 & 3128 & 1910 & 110 & 5424.00\\\\\n",
       "\t 16 & 4329 PERRY STREET         & 2/3/2020   & 1175000 &  25 & 1368 & 1948 &  72 & 3644.10\\\\\n",
       "\t 17 & 2907 W 30TH AVENUE        & 10/30/2019 & 2725000 &  12 & 3222 & 1936 &  83 & 5676.75\\\\\n",
       "\t 18 & 2095 E 28TH AVENUE        & 1/5/2020   & 1910000 &  37 & 3011 & 2020 &   0 & 3465.00\\\\\n",
       "\t 19 & 4030 PRINCE ALBERT STREET & 1/6/2020   & 1181000 &  60 & 1929 & 1923 &  97 & 3484.80\\\\\n",
       "\t 20 & 2241 E 4TH AVENUE         & 3/23/2020  & 2489000 &   4 & 3452 & 2001 &  19 & 4550.00\\\\\n",
       "\t 21 & 6168 COMMERCIAL STREET    & 8/7/2019   & 1480000 &  31 & 2373 & 1992 &  27 & 3877.50\\\\\n",
       "\t 22 & 1431 RUPERT STREET        & 4/23/2019  & 1300000 & 108 & 2610 & 1971 &  48 & 4127.13\\\\\n",
       "\t 23 & 6192 LARCH STREET         & 10/26/2019 & 2700000 &  65 & 2602 & 1925 &  95 & 6227.10\\\\\n",
       "\t 24 & 235 E 62ND AVENUE         & 2/3/2020   & 1300000 &  22 & 1920 & 1968 &  52 & 3267.00\\\\\n",
       "\t 25 & 342 E 23RD AVENUE         & 7/16/2019  & 2910000 &   7 & 3330 & 2019 &   0 & 4048.00\\\\\n",
       "\t 26 & 2277 BONNYVALE AVENUE     & 5/28/2019  & 1498000 &  16 & 2150 & 1953 &  66 & 5607.10\\\\\n",
       "\t 27 & 5515 ARGYLE STREET        & 3/28/2019  & 2240000 & 143 & 3612 & 2019 &   0 & 4108.50\\\\\n",
       "\t 28 & 3775 WINDSOR STREET       & 3/16/2020  & 2275000 &   5 & 3316 & 1925 &  95 & 4026.00\\\\\n",
       "\t 29 & 2783 E 27TH AVENUE        & 5/22/2019  & 1410000 &  22 & 3166 & 2019 &   0 & 3630.00\\\\\n",
       "\t 30 & 495 E 60TH AVENUE         & 5/1/2020   & 1240000 &   4 & 1600 & 1949 &  71 & 4082.34\\\\\n",
       "\t ⋮ & ⋮ & ⋮ & ⋮ & ⋮ & ⋮ & ⋮ & ⋮ & ⋮\\\\\n",
       "\t 1273 & 385 W 22ND AVENUE         & 3/21/2020  & 2450000 &  20 & 2754 & 1930 &  90 & 4026.00\\\\\n",
       "\t 1274 & 3781 W 27TH AVENUE        & 3/3/2020   & 2350000 &   1 & 2578 & 1926 &  94 & 6443.42\\\\\n",
       "\t 1275 & 1733 E 1ST AVENUE         & 2/3/2019   & 2125000 & 321 & 2621 & 1904 & 116 & 6214.72\\\\\n",
       "\t 1276 & 1280 E 27 AVENUE          & 4/23/2019  & 1258000 &  56 & 1845 & 1955 &  64 & 4752.00\\\\\n",
       "\t 1277 & 3892 W 50TH AVENUE        & 11/1/2019  & 2135000 & 125 & 1980 & 1948 &  72 & 7809.00\\\\\n",
       "\t 1278 & 535 E 31ST AVENUE         & 3/18/2020  & 1903000 &   5 & 2562 & 2005 &  15 & 3150.00\\\\\n",
       "\t 1279 & 4258 ONTARIO STREET       & 7/24/2019  & 1928000 &   6 & 2017 & 1977 &  42 & 2643.00\\\\\n",
       "\t 1280 & 7458 INVERNESS STREET     & 3/19/2019  & 1540000 &  78 & 2262 & 2000 &  19 & 4343.00\\\\\n",
       "\t 1281 & 2690 NAPIER STREET        & 11/4/2019  & 1210000 & 122 & 1710 & 1944 &  76 & 3564.00\\\\\n",
       "\t 1282 & 2011 E 4TH AVENUE         & 7/15/2019  & 1590000 &   8 & 1953 & 1928 &  91 & 4026.00\\\\\n",
       "\t 1283 & 3569 ANZIO DRIVE          & 7/2/2019   & 1820000 &   6 & 3979 & 1989 &  30 & 6600.00\\\\\n",
       "\t 1284 & 2890 W 11TH AVENUE        & 3/2/2020   & 2585000 &   7 & 2558 & 1932 &  88 & 4026.00\\\\\n",
       "\t 1285 & 4443 W 14TH AVENUE        & 3/9/2020   & 2780000 &   8 & 2447 & 1994 &  26 & 4026.00\\\\\n",
       "\t 1286 & 6061 KERR STREET          & 9/16/2019  & 1518000 &  14 & 2454 & 1966 &  53 & 5404.00\\\\\n",
       "\t 1287 & 7087 CYPRESS STREET       & 5/30/2019  & 3000000 &   6 & 4040 & 1928 &  91 & 8580.00\\\\\n",
       "\t 1288 & 3470 W 6TH AVENUE         & 5/29/2019  & 2135000 &  26 & 2985 & 1920 &  99 & 3630.00\\\\\n",
       "\t 1289 & 6140 LANARK STREET        & 10/23/2019 & 1361400 &   5 & 2630 & 1982 &  37 & 4049.00\\\\\n",
       "\t 1290 & 4866 MANOR STREET         & 3/16/2019  &  880000 & 257 & 1747 & 1911 & 108 & 3267.00\\\\\n",
       "\t 1291 & 526 E 61ST AVENUE         & 8/21/2019  & 1029000 &  38 & 1700 & 1953 &  66 & 3465.00\\\\\n",
       "\t 1292 & 3081 E 6TH AVENUE         & 1/10/2020  & 1425000 &  24 & 2090 & 1969 &  51 & 4026.00\\\\\n",
       "\t 1293 & 628 E 19TH AVENUE         & 10/8/2019  & 1909750 &  12 & 2100 & 2013 &   6 & 3019.50\\\\\n",
       "\t 1294 & 1826 E 12TH AVENUE        & 3/25/2020  & 1050000 &  22 & 2200 & 1912 & 108 & 4092.00\\\\\n",
       "\t 1295 & 5260 INVERNESS STREET     & 4/1/2019   & 1180000 & 279 & 1840 & 1910 & 110 & 3383.00\\\\\n",
       "\t 1296 & 2716 E 24TH AVENUE        & 9/16/2019  & 1375000 &  12 & 2337 & 1948 &  71 & 4026.00\\\\\n",
       "\t 1297 & 1697 E 22ND AVENUE        & 1/22/2020  & 1930000 &  22 & 4272 & 1928 &  92 & 5696.17\\\\\n",
       "\t 1298 & 65 W KING EDWARD AVENUE   & 8/22/2019  & 2630000 &  42 & 3035 & 1939 &  80 & 7456.00\\\\\n",
       "\t 1299 & 3150 E 52ND AVENUE        & 8/17/2019  & 1450000 &  14 & 2282 & 1974 &  45 & 3993.00\\\\\n",
       "\t 1300 & 4478 PRINCE ALBERT STREET & 2/24/2020  & 2798000 &   4 & 3501 & 2016 &   4 & 3960.00\\\\\n",
       "\t 1301 & 4038 MILLER STREET        & 4/5/2019   &  900000 & 194 & 2440 & 1912 & 107 & 3297.00\\\\\n",
       "\t 1302 & 2040 E 39TH AVENUE        & 3/3/2020   & 1600000 &   7 & 2627 & 1974 &  46 & 4697.00\\\\\n",
       "\\end{tabular}\n"
      ],
      "text/markdown": [
       "\n",
       "A data.frame: 1302 × 9\n",
       "\n",
       "| Number &lt;int&gt; | Address &lt;chr&gt; | List.Date &lt;chr&gt; | Price &lt;int&gt; | Days.on.market &lt;int&gt; | Total.floor.area &lt;int&gt; | Year.Built &lt;int&gt; | Age &lt;int&gt; | Lot.Size &lt;dbl&gt; |\n",
       "|---|---|---|---|---|---|---|---|---|\n",
       "|  1 | 3178 GRAVELEY STREET      | 5/8/2020   | 1500000 |  18 | 2447 | 1946 |  74 | 5674.00 |\n",
       "|  2 | 1438 E 28TH AVENUE        | 1/22/2020  | 1300000 |   7 | 2146 | 1982 |  38 | 3631.98 |\n",
       "|  3 | 2831 W 49TH AVENUE        | 6/18/2019  | 2650000 |   1 | 3108 | 1929 |  90 | 9111.00 |\n",
       "|  4 | 2645 TRIUMPH STREET       | 6/18/2019  | 1385000 |  28 | 2602 | 1922 |  97 | 4022.70 |\n",
       "|  5 | 741-743 E 10TH AVENUE     | 11/28/2019 | 1590000 |  17 | 1843 | 1970 |  49 | 4026.00 |\n",
       "|  6 | 86 W 21ST AVENUE          | 3/3/2020   | 2565000 |   7 | 2439 | 1989 |  31 | 4026.00 |\n",
       "|  7 | 2418 E 54TH AVENUE        | 8/12/2019  | 1303000 |   9 | 2100 | 1979 |  40 | 3298.48 |\n",
       "|  8 | 1787 E 57TH AVENUE        | 6/13/2019  | 1150000 |  10 | 1900 | 1950 |  69 | 6574.82 |\n",
       "|  9 | 2926 TRIMBLE STREET       | 8/16/2019  | 2500000 |  10 | 2133 | 2005 |  14 | 3360.00 |\n",
       "| 10 | 466 E 60TH AVENUE         | 10/17/2019 | 2400000 |  44 | 3989 | 2019 |   0 | 4412.00 |\n",
       "| 11 | 150 W 42ND AVENUE         | 10/24/2019 | 2870000 |  22 | 3509 | 1995 |  24 | 5859.00 |\n",
       "| 12 | 4010 INVERNESS STREET     | 9/23/2019  | 1355000 |  71 | 1902 | 1926 |  93 | 3196.85 |\n",
       "| 13 | 8233 FRENCH STREET        | 3/20/2019  | 1638000 | 168 | 2317 | 1988 |  31 | 3752.10 |\n",
       "| 14 | 2855 W 38TH AVENUE        | 5/25/2020  | 2880000 |   2 | 2286 | 1941 |  79 | 5808.00 |\n",
       "| 15 | 3238 E PENDER STREET      | 2/11/2020  | 1270000 |   1 | 3128 | 1910 | 110 | 5424.00 |\n",
       "| 16 | 4329 PERRY STREET         | 2/3/2020   | 1175000 |  25 | 1368 | 1948 |  72 | 3644.10 |\n",
       "| 17 | 2907 W 30TH AVENUE        | 10/30/2019 | 2725000 |  12 | 3222 | 1936 |  83 | 5676.75 |\n",
       "| 18 | 2095 E 28TH AVENUE        | 1/5/2020   | 1910000 |  37 | 3011 | 2020 |   0 | 3465.00 |\n",
       "| 19 | 4030 PRINCE ALBERT STREET | 1/6/2020   | 1181000 |  60 | 1929 | 1923 |  97 | 3484.80 |\n",
       "| 20 | 2241 E 4TH AVENUE         | 3/23/2020  | 2489000 |   4 | 3452 | 2001 |  19 | 4550.00 |\n",
       "| 21 | 6168 COMMERCIAL STREET    | 8/7/2019   | 1480000 |  31 | 2373 | 1992 |  27 | 3877.50 |\n",
       "| 22 | 1431 RUPERT STREET        | 4/23/2019  | 1300000 | 108 | 2610 | 1971 |  48 | 4127.13 |\n",
       "| 23 | 6192 LARCH STREET         | 10/26/2019 | 2700000 |  65 | 2602 | 1925 |  95 | 6227.10 |\n",
       "| 24 | 235 E 62ND AVENUE         | 2/3/2020   | 1300000 |  22 | 1920 | 1968 |  52 | 3267.00 |\n",
       "| 25 | 342 E 23RD AVENUE         | 7/16/2019  | 2910000 |   7 | 3330 | 2019 |   0 | 4048.00 |\n",
       "| 26 | 2277 BONNYVALE AVENUE     | 5/28/2019  | 1498000 |  16 | 2150 | 1953 |  66 | 5607.10 |\n",
       "| 27 | 5515 ARGYLE STREET        | 3/28/2019  | 2240000 | 143 | 3612 | 2019 |   0 | 4108.50 |\n",
       "| 28 | 3775 WINDSOR STREET       | 3/16/2020  | 2275000 |   5 | 3316 | 1925 |  95 | 4026.00 |\n",
       "| 29 | 2783 E 27TH AVENUE        | 5/22/2019  | 1410000 |  22 | 3166 | 2019 |   0 | 3630.00 |\n",
       "| 30 | 495 E 60TH AVENUE         | 5/1/2020   | 1240000 |   4 | 1600 | 1949 |  71 | 4082.34 |\n",
       "| ⋮ | ⋮ | ⋮ | ⋮ | ⋮ | ⋮ | ⋮ | ⋮ | ⋮ |\n",
       "| 1273 | 385 W 22ND AVENUE         | 3/21/2020  | 2450000 |  20 | 2754 | 1930 |  90 | 4026.00 |\n",
       "| 1274 | 3781 W 27TH AVENUE        | 3/3/2020   | 2350000 |   1 | 2578 | 1926 |  94 | 6443.42 |\n",
       "| 1275 | 1733 E 1ST AVENUE         | 2/3/2019   | 2125000 | 321 | 2621 | 1904 | 116 | 6214.72 |\n",
       "| 1276 | 1280 E 27 AVENUE          | 4/23/2019  | 1258000 |  56 | 1845 | 1955 |  64 | 4752.00 |\n",
       "| 1277 | 3892 W 50TH AVENUE        | 11/1/2019  | 2135000 | 125 | 1980 | 1948 |  72 | 7809.00 |\n",
       "| 1278 | 535 E 31ST AVENUE         | 3/18/2020  | 1903000 |   5 | 2562 | 2005 |  15 | 3150.00 |\n",
       "| 1279 | 4258 ONTARIO STREET       | 7/24/2019  | 1928000 |   6 | 2017 | 1977 |  42 | 2643.00 |\n",
       "| 1280 | 7458 INVERNESS STREET     | 3/19/2019  | 1540000 |  78 | 2262 | 2000 |  19 | 4343.00 |\n",
       "| 1281 | 2690 NAPIER STREET        | 11/4/2019  | 1210000 | 122 | 1710 | 1944 |  76 | 3564.00 |\n",
       "| 1282 | 2011 E 4TH AVENUE         | 7/15/2019  | 1590000 |   8 | 1953 | 1928 |  91 | 4026.00 |\n",
       "| 1283 | 3569 ANZIO DRIVE          | 7/2/2019   | 1820000 |   6 | 3979 | 1989 |  30 | 6600.00 |\n",
       "| 1284 | 2890 W 11TH AVENUE        | 3/2/2020   | 2585000 |   7 | 2558 | 1932 |  88 | 4026.00 |\n",
       "| 1285 | 4443 W 14TH AVENUE        | 3/9/2020   | 2780000 |   8 | 2447 | 1994 |  26 | 4026.00 |\n",
       "| 1286 | 6061 KERR STREET          | 9/16/2019  | 1518000 |  14 | 2454 | 1966 |  53 | 5404.00 |\n",
       "| 1287 | 7087 CYPRESS STREET       | 5/30/2019  | 3000000 |   6 | 4040 | 1928 |  91 | 8580.00 |\n",
       "| 1288 | 3470 W 6TH AVENUE         | 5/29/2019  | 2135000 |  26 | 2985 | 1920 |  99 | 3630.00 |\n",
       "| 1289 | 6140 LANARK STREET        | 10/23/2019 | 1361400 |   5 | 2630 | 1982 |  37 | 4049.00 |\n",
       "| 1290 | 4866 MANOR STREET         | 3/16/2019  |  880000 | 257 | 1747 | 1911 | 108 | 3267.00 |\n",
       "| 1291 | 526 E 61ST AVENUE         | 8/21/2019  | 1029000 |  38 | 1700 | 1953 |  66 | 3465.00 |\n",
       "| 1292 | 3081 E 6TH AVENUE         | 1/10/2020  | 1425000 |  24 | 2090 | 1969 |  51 | 4026.00 |\n",
       "| 1293 | 628 E 19TH AVENUE         | 10/8/2019  | 1909750 |  12 | 2100 | 2013 |   6 | 3019.50 |\n",
       "| 1294 | 1826 E 12TH AVENUE        | 3/25/2020  | 1050000 |  22 | 2200 | 1912 | 108 | 4092.00 |\n",
       "| 1295 | 5260 INVERNESS STREET     | 4/1/2019   | 1180000 | 279 | 1840 | 1910 | 110 | 3383.00 |\n",
       "| 1296 | 2716 E 24TH AVENUE        | 9/16/2019  | 1375000 |  12 | 2337 | 1948 |  71 | 4026.00 |\n",
       "| 1297 | 1697 E 22ND AVENUE        | 1/22/2020  | 1930000 |  22 | 4272 | 1928 |  92 | 5696.17 |\n",
       "| 1298 | 65 W KING EDWARD AVENUE   | 8/22/2019  | 2630000 |  42 | 3035 | 1939 |  80 | 7456.00 |\n",
       "| 1299 | 3150 E 52ND AVENUE        | 8/17/2019  | 1450000 |  14 | 2282 | 1974 |  45 | 3993.00 |\n",
       "| 1300 | 4478 PRINCE ALBERT STREET | 2/24/2020  | 2798000 |   4 | 3501 | 2016 |   4 | 3960.00 |\n",
       "| 1301 | 4038 MILLER STREET        | 4/5/2019   |  900000 | 194 | 2440 | 1912 | 107 | 3297.00 |\n",
       "| 1302 | 2040 E 39TH AVENUE        | 3/3/2020   | 1600000 |   7 | 2627 | 1974 |  46 | 4697.00 |\n",
       "\n"
      ],
      "text/plain": [
       "     Number Address                   List.Date  Price   Days.on.market\n",
       "1     1     3178 GRAVELEY STREET      5/8/2020   1500000  18           \n",
       "2     2     1438 E 28TH AVENUE        1/22/2020  1300000   7           \n",
       "3     3     2831 W 49TH AVENUE        6/18/2019  2650000   1           \n",
       "4     4     2645 TRIUMPH STREET       6/18/2019  1385000  28           \n",
       "5     5     741-743 E 10TH AVENUE     11/28/2019 1590000  17           \n",
       "6     6     86 W 21ST AVENUE          3/3/2020   2565000   7           \n",
       "7     7     2418 E 54TH AVENUE        8/12/2019  1303000   9           \n",
       "8     8     1787 E 57TH AVENUE        6/13/2019  1150000  10           \n",
       "9     9     2926 TRIMBLE STREET       8/16/2019  2500000  10           \n",
       "10   10     466 E 60TH AVENUE         10/17/2019 2400000  44           \n",
       "11   11     150 W 42ND AVENUE         10/24/2019 2870000  22           \n",
       "12   12     4010 INVERNESS STREET     9/23/2019  1355000  71           \n",
       "13   13     8233 FRENCH STREET        3/20/2019  1638000 168           \n",
       "14   14     2855 W 38TH AVENUE        5/25/2020  2880000   2           \n",
       "15   15     3238 E PENDER STREET      2/11/2020  1270000   1           \n",
       "16   16     4329 PERRY STREET         2/3/2020   1175000  25           \n",
       "17   17     2907 W 30TH AVENUE        10/30/2019 2725000  12           \n",
       "18   18     2095 E 28TH AVENUE        1/5/2020   1910000  37           \n",
       "19   19     4030 PRINCE ALBERT STREET 1/6/2020   1181000  60           \n",
       "20   20     2241 E 4TH AVENUE         3/23/2020  2489000   4           \n",
       "21   21     6168 COMMERCIAL STREET    8/7/2019   1480000  31           \n",
       "22   22     1431 RUPERT STREET        4/23/2019  1300000 108           \n",
       "23   23     6192 LARCH STREET         10/26/2019 2700000  65           \n",
       "24   24     235 E 62ND AVENUE         2/3/2020   1300000  22           \n",
       "25   25     342 E 23RD AVENUE         7/16/2019  2910000   7           \n",
       "26   26     2277 BONNYVALE AVENUE     5/28/2019  1498000  16           \n",
       "27   27     5515 ARGYLE STREET        3/28/2019  2240000 143           \n",
       "28   28     3775 WINDSOR STREET       3/16/2020  2275000   5           \n",
       "29   29     2783 E 27TH AVENUE        5/22/2019  1410000  22           \n",
       "30   30     495 E 60TH AVENUE         5/1/2020   1240000   4           \n",
       "⋮    ⋮      ⋮                         ⋮          ⋮       ⋮             \n",
       "1273 1273   385 W 22ND AVENUE         3/21/2020  2450000  20           \n",
       "1274 1274   3781 W 27TH AVENUE        3/3/2020   2350000   1           \n",
       "1275 1275   1733 E 1ST AVENUE         2/3/2019   2125000 321           \n",
       "1276 1276   1280 E 27 AVENUE          4/23/2019  1258000  56           \n",
       "1277 1277   3892 W 50TH AVENUE        11/1/2019  2135000 125           \n",
       "1278 1278   535 E 31ST AVENUE         3/18/2020  1903000   5           \n",
       "1279 1279   4258 ONTARIO STREET       7/24/2019  1928000   6           \n",
       "1280 1280   7458 INVERNESS STREET     3/19/2019  1540000  78           \n",
       "1281 1281   2690 NAPIER STREET        11/4/2019  1210000 122           \n",
       "1282 1282   2011 E 4TH AVENUE         7/15/2019  1590000   8           \n",
       "1283 1283   3569 ANZIO DRIVE          7/2/2019   1820000   6           \n",
       "1284 1284   2890 W 11TH AVENUE        3/2/2020   2585000   7           \n",
       "1285 1285   4443 W 14TH AVENUE        3/9/2020   2780000   8           \n",
       "1286 1286   6061 KERR STREET          9/16/2019  1518000  14           \n",
       "1287 1287   7087 CYPRESS STREET       5/30/2019  3000000   6           \n",
       "1288 1288   3470 W 6TH AVENUE         5/29/2019  2135000  26           \n",
       "1289 1289   6140 LANARK STREET        10/23/2019 1361400   5           \n",
       "1290 1290   4866 MANOR STREET         3/16/2019   880000 257           \n",
       "1291 1291   526 E 61ST AVENUE         8/21/2019  1029000  38           \n",
       "1292 1292   3081 E 6TH AVENUE         1/10/2020  1425000  24           \n",
       "1293 1293   628 E 19TH AVENUE         10/8/2019  1909750  12           \n",
       "1294 1294   1826 E 12TH AVENUE        3/25/2020  1050000  22           \n",
       "1295 1295   5260 INVERNESS STREET     4/1/2019   1180000 279           \n",
       "1296 1296   2716 E 24TH AVENUE        9/16/2019  1375000  12           \n",
       "1297 1297   1697 E 22ND AVENUE        1/22/2020  1930000  22           \n",
       "1298 1298   65 W KING EDWARD AVENUE   8/22/2019  2630000  42           \n",
       "1299 1299   3150 E 52ND AVENUE        8/17/2019  1450000  14           \n",
       "1300 1300   4478 PRINCE ALBERT STREET 2/24/2020  2798000   4           \n",
       "1301 1301   4038 MILLER STREET        4/5/2019    900000 194           \n",
       "1302 1302   2040 E 39TH AVENUE        3/3/2020   1600000   7           \n",
       "     Total.floor.area Year.Built Age Lot.Size\n",
       "1    2447             1946        74 5674.00 \n",
       "2    2146             1982        38 3631.98 \n",
       "3    3108             1929        90 9111.00 \n",
       "4    2602             1922        97 4022.70 \n",
       "5    1843             1970        49 4026.00 \n",
       "6    2439             1989        31 4026.00 \n",
       "7    2100             1979        40 3298.48 \n",
       "8    1900             1950        69 6574.82 \n",
       "9    2133             2005        14 3360.00 \n",
       "10   3989             2019         0 4412.00 \n",
       "11   3509             1995        24 5859.00 \n",
       "12   1902             1926        93 3196.85 \n",
       "13   2317             1988        31 3752.10 \n",
       "14   2286             1941        79 5808.00 \n",
       "15   3128             1910       110 5424.00 \n",
       "16   1368             1948        72 3644.10 \n",
       "17   3222             1936        83 5676.75 \n",
       "18   3011             2020         0 3465.00 \n",
       "19   1929             1923        97 3484.80 \n",
       "20   3452             2001        19 4550.00 \n",
       "21   2373             1992        27 3877.50 \n",
       "22   2610             1971        48 4127.13 \n",
       "23   2602             1925        95 6227.10 \n",
       "24   1920             1968        52 3267.00 \n",
       "25   3330             2019         0 4048.00 \n",
       "26   2150             1953        66 5607.10 \n",
       "27   3612             2019         0 4108.50 \n",
       "28   3316             1925        95 4026.00 \n",
       "29   3166             2019         0 3630.00 \n",
       "30   1600             1949        71 4082.34 \n",
       "⋮    ⋮                ⋮          ⋮   ⋮       \n",
       "1273 2754             1930        90 4026.00 \n",
       "1274 2578             1926        94 6443.42 \n",
       "1275 2621             1904       116 6214.72 \n",
       "1276 1845             1955        64 4752.00 \n",
       "1277 1980             1948        72 7809.00 \n",
       "1278 2562             2005        15 3150.00 \n",
       "1279 2017             1977        42 2643.00 \n",
       "1280 2262             2000        19 4343.00 \n",
       "1281 1710             1944        76 3564.00 \n",
       "1282 1953             1928        91 4026.00 \n",
       "1283 3979             1989        30 6600.00 \n",
       "1284 2558             1932        88 4026.00 \n",
       "1285 2447             1994        26 4026.00 \n",
       "1286 2454             1966        53 5404.00 \n",
       "1287 4040             1928        91 8580.00 \n",
       "1288 2985             1920        99 3630.00 \n",
       "1289 2630             1982        37 4049.00 \n",
       "1290 1747             1911       108 3267.00 \n",
       "1291 1700             1953        66 3465.00 \n",
       "1292 2090             1969        51 4026.00 \n",
       "1293 2100             2013         6 3019.50 \n",
       "1294 2200             1912       108 4092.00 \n",
       "1295 1840             1910       110 3383.00 \n",
       "1296 2337             1948        71 4026.00 \n",
       "1297 4272             1928        92 5696.17 \n",
       "1298 3035             1939        80 7456.00 \n",
       "1299 2282             1974        45 3993.00 \n",
       "1300 3501             2016         4 3960.00 \n",
       "1301 2440             1912       107 3297.00 \n",
       "1302 2627             1974        46 4697.00 "
      ]
     },
     "metadata": {},
     "output_type": "display_data"
    }
   ],
   "source": [
    "# Import the data:\n",
    "mydata <- read.csv(file=\"House sale data Vancouver.csv\", header=TRUE)\n",
    "mydata"
   ]
  },
  {
   "cell_type": "markdown",
   "metadata": {},
   "source": [
    "---\n",
    "*The dataset includes the following variables:*\n",
    "- Number: To ensure consistent order, sort by Number if the observations are disordered.\n",
    "- Address: House address.\n",
    "- List.Date: Listing date of the house.\n",
    "- Price: Final sale price (in $CAD), potentially different from the original asking price.\n",
    "- Days.on.market: Number of days the house was on the market before selling.\n",
    "- Total.floor.area: Total square footage of finished living space, including all floors.\n",
    "- Year.Built: Year of house construction.\n",
    "- Age: Calculated as the house's age at the time of sale.\n",
    "- Lot.size: Lot size in square feet, encompassing the house's footprint and any yard or garden space.\n",
    "\n",
    "---"
   ]
  },
  {
   "cell_type": "code",
   "execution_count": 2,
   "metadata": {},
   "outputs": [],
   "source": [
    "# Create a training set and a validation set using the following code\n",
    "# This will divide the dataset into ~80% training set (1042 observations)\n",
    "# and ~ 20% validation set (260 observations)\n",
    "\n",
    "\n",
    "mydata.train <- mydata[1:1042,]\n",
    "mydata.valid <- mydata[1043:nrow(mydata),]"
   ]
  },
  {
   "cell_type": "markdown",
   "metadata": {},
   "source": [
    "---\n",
    "<div class=\"alert alert-block alert-warning\">\n",
    "<a id=\"EDA\"></a>\n",
    "    \n",
    "# Exploratory data analysis"
   ]
  },
  {
   "cell_type": "markdown",
   "metadata": {},
   "source": [
    "In this section, scatterplots were created to visualize the relationship between the response variable and each explanatory variable, specifically using the training set. The key elements assessed in these plots included form, direction, strength, and the presence of outliers. Lowess lines were added to capture the potential form of the relationships, and outliers were singled out and marked in red using the \"points\" command. Additionally, the report delved into discussing the distinctive characteristics that rendered certain data points as outliers in these plots.\n",
    "\n"
   ]
  },
  {
   "cell_type": "code",
   "execution_count": 3,
   "metadata": {},
   "outputs": [
    {
     "data": {
      "text/html": [
       "0.584889243287119"
      ],
      "text/latex": [
       "0.584889243287119"
      ],
      "text/markdown": [
       "0.584889243287119"
      ],
      "text/plain": [
       "[1] 0.5848892"
      ]
     },
     "metadata": {},
     "output_type": "display_data"
    },
    {
     "data": {
      "text/html": [
       "<table class=\"dataframe\">\n",
       "<caption>A data.frame: 1302 × 9</caption>\n",
       "<thead>\n",
       "\t<tr><th></th><th scope=col>Number</th><th scope=col>Address</th><th scope=col>List.Date</th><th scope=col>Price</th><th scope=col>Days.on.market</th><th scope=col>Total.floor.area</th><th scope=col>Year.Built</th><th scope=col>Age</th><th scope=col>Lot.Size</th></tr>\n",
       "\t<tr><th></th><th scope=col>&lt;int&gt;</th><th scope=col>&lt;chr&gt;</th><th scope=col>&lt;chr&gt;</th><th scope=col>&lt;int&gt;</th><th scope=col>&lt;int&gt;</th><th scope=col>&lt;int&gt;</th><th scope=col>&lt;int&gt;</th><th scope=col>&lt;int&gt;</th><th scope=col>&lt;dbl&gt;</th></tr>\n",
       "</thead>\n",
       "<tbody>\n",
       "\t<tr><th scope=row>841</th><td> 841</td><td>2964 W 28TH AVENUE        </td><td>12/2/2019 </td><td>2230000</td><td> 41</td><td> 301</td><td>1936</td><td> 84</td><td>4290.00</td></tr>\n",
       "\t<tr><th scope=row>315</th><td> 315</td><td>1665 LILLOOET STREET      </td><td>1/21/2019 </td><td> 815000</td><td>134</td><td> 400</td><td>1968</td><td> 51</td><td>3842.00</td></tr>\n",
       "\t<tr><th scope=row>785</th><td> 785</td><td>3455 WILLIAM STREET       </td><td>12/17/2019</td><td> 985000</td><td>  8</td><td> 680</td><td>1947</td><td> 73</td><td>3547.50</td></tr>\n",
       "\t<tr><th scope=row>704</th><td> 704</td><td>2921 E 54TH AVENUE        </td><td>5/30/2019 </td><td> 975000</td><td> 36</td><td> 690</td><td>1954</td><td> 65</td><td>4467.00</td></tr>\n",
       "\t<tr><th scope=row>957</th><td> 957</td><td>2919 E 54TH AVENUE        </td><td>3/18/2020 </td><td>1288000</td><td> 46</td><td> 690</td><td>1954</td><td> 66</td><td>4467.00</td></tr>\n",
       "\t<tr><th scope=row>723</th><td> 723</td><td>1319 E 62ND AVENUE        </td><td>2/17/2020 </td><td>1228000</td><td>  3</td><td> 719</td><td>1953</td><td> 67</td><td>3795.00</td></tr>\n",
       "\t<tr><th scope=row>342</th><td> 342</td><td>3962 W 30TH AVENUE        </td><td>9/19/2019 </td><td>2898000</td><td>  6</td><td> 734</td><td>1929</td><td> 90</td><td>6500.00</td></tr>\n",
       "\t<tr><th scope=row>795</th><td> 795</td><td>2889 MCGILL STREET        </td><td>3/17/2020 </td><td> 960000</td><td> 50</td><td> 800</td><td>1948</td><td> 72</td><td>4026.00</td></tr>\n",
       "\t<tr><th scope=row>460</th><td> 460</td><td>2690 WILLIAM STREET       </td><td>11/13/2019</td><td>1130000</td><td> 25</td><td> 825</td><td>1944</td><td> 75</td><td>3564.00</td></tr>\n",
       "\t<tr><th scope=row>247</th><td> 247</td><td>2645 E 7TH AVENUE         </td><td>2/19/2020 </td><td>1302000</td><td>  0</td><td> 834</td><td>1928</td><td> 92</td><td>4026.00</td></tr>\n",
       "\t<tr><th scope=row>1062</th><td>1062</td><td>521 E 20TH AVENUE         </td><td>12/18/2019</td><td>1084600</td><td> 23</td><td> 867</td><td>1910</td><td>110</td><td>3023.00</td></tr>\n",
       "\t<tr><th scope=row>377</th><td> 377</td><td>5094 ROSS STREET          </td><td>3/2/2020  </td><td>1190000</td><td>  8</td><td> 880</td><td>1946</td><td> 74</td><td>3234.00</td></tr>\n",
       "\t<tr><th scope=row>627</th><td> 627</td><td>6944 KNIGHT STREET        </td><td>3/9/2020  </td><td> 925000</td><td>  2</td><td> 900</td><td>1957</td><td> 63</td><td>3779.16</td></tr>\n",
       "\t<tr><th scope=row>1083</th><td>1083</td><td>5304 FRASER STREET        </td><td>5/1/2019  </td><td> 840000</td><td> 53</td><td> 906</td><td>1913</td><td>106</td><td>3399.00</td></tr>\n",
       "\t<tr><th scope=row>686</th><td> 686</td><td>2854 W 24TH AVENUE        </td><td>10/28/2019</td><td>1900000</td><td>  1</td><td> 915</td><td>1940</td><td> 79</td><td>4031.00</td></tr>\n",
       "\t<tr><th scope=row>1073</th><td>1073</td><td>3002 GRAVELEY STREET      </td><td>6/18/2019 </td><td>1100000</td><td>  6</td><td> 922</td><td>1926</td><td> 93</td><td>3902.75</td></tr>\n",
       "\t<tr><th scope=row>200</th><td> 200</td><td>2428 FRANKLIN STREET      </td><td>3/13/2020 </td><td>1000000</td><td> 23</td><td> 938</td><td>1922</td><td> 98</td><td>4027.32</td></tr>\n",
       "\t<tr><th scope=row>1197</th><td>1197</td><td>5023 SHERBROOKE STREET    </td><td>7/11/2019 </td><td>1190000</td><td>  3</td><td> 945</td><td>1946</td><td> 73</td><td>3234.00</td></tr>\n",
       "\t<tr><th scope=row>455</th><td> 455</td><td>4391 ST. CATHERINES STREET</td><td>4/27/2020 </td><td>1460000</td><td>  2</td><td> 974</td><td>1946</td><td> 74</td><td>3729.00</td></tr>\n",
       "\t<tr><th scope=row>645</th><td> 645</td><td>4167 W 11TH AVENUE        </td><td>10/22/2019</td><td>2300000</td><td>107</td><td> 974</td><td>1988</td><td> 32</td><td>4026.00</td></tr>\n",
       "\t<tr><th scope=row>530</th><td> 530</td><td>3924 W 24TH AVENUE        </td><td>8/30/2019 </td><td>2223000</td><td>  1</td><td> 985</td><td>1940</td><td> 79</td><td>5128.00</td></tr>\n",
       "\t<tr><th scope=row>958</th><td> 958</td><td>374 E 26TH AVENUE         </td><td>4/30/2019 </td><td> 860000</td><td>101</td><td>1000</td><td>1910</td><td>109</td><td>2027.75</td></tr>\n",
       "\t<tr><th scope=row>117</th><td> 117</td><td>3636 W 15TH AVENUE        </td><td>3/16/2020 </td><td>1480000</td><td> 41</td><td>1005</td><td>1987</td><td> 33</td><td>2013.17</td></tr>\n",
       "\t<tr><th scope=row>990</th><td> 990</td><td>1083 E 57TH AVENUE        </td><td>9/10/2019 </td><td>1070000</td><td>  4</td><td>1041</td><td>1941</td><td> 78</td><td>3656.40</td></tr>\n",
       "\t<tr><th scope=row>491</th><td> 491</td><td>187 E 39TH AVENUE         </td><td>9/13/2019 </td><td>1228800</td><td>  4</td><td>1054</td><td>1947</td><td> 72</td><td>3437.20</td></tr>\n",
       "\t<tr><th scope=row>279</th><td> 279</td><td>1819 E 6TH AVENUE         </td><td>11/4/2019 </td><td>1325000</td><td> 10</td><td>1058</td><td>1945</td><td> 74</td><td>2500.00</td></tr>\n",
       "\t<tr><th scope=row>536</th><td> 536</td><td>2778 E 41ST AVENUE        </td><td>7/18/2019 </td><td> 815000</td><td> 11</td><td>1074</td><td>1916</td><td>103</td><td>3349.00</td></tr>\n",
       "\t<tr><th scope=row>45</th><td>  45</td><td>5806 QUEBEC STREET        </td><td>6/11/2019 </td><td>1600000</td><td>  8</td><td>1122</td><td>1946</td><td> 73</td><td>4121.00</td></tr>\n",
       "\t<tr><th scope=row>844</th><td> 844</td><td>3669 MAXWELL STREET       </td><td>10/15/2019</td><td>1155000</td><td>  5</td><td>1128</td><td>2012</td><td>  7</td><td>1300.00</td></tr>\n",
       "\t<tr><th scope=row>570</th><td> 570</td><td>703 HEATLEY AVENUE        </td><td>5/11/2020 </td><td> 750000</td><td> 10</td><td>1153</td><td>1901</td><td>119</td><td>1525.00</td></tr>\n",
       "\t<tr><th scope=row>⋮</th><td>⋮</td><td>⋮</td><td>⋮</td><td>⋮</td><td>⋮</td><td>⋮</td><td>⋮</td><td>⋮</td><td>⋮</td></tr>\n",
       "\t<tr><th scope=row>1113</th><td>1113</td><td>1019 W 46TH AVENUE   </td><td>2/3/2020  </td><td>2988000</td><td> 42</td><td>3900</td><td>1986</td><td> 34</td><td> 7200.00</td></tr>\n",
       "\t<tr><th scope=row>124</th><td> 124</td><td>6643 VIVIAN STREET   </td><td>4/5/2019  </td><td>2361905</td><td> 91</td><td>3906</td><td>2018</td><td>  1</td><td> 4800.00</td></tr>\n",
       "\t<tr><th scope=row>816</th><td> 816</td><td>1790 W 62 AVENUE     </td><td>6/2/2019  </td><td>2750000</td><td>175</td><td>3931</td><td>1987</td><td> 32</td><td> 5373.00</td></tr>\n",
       "\t<tr><th scope=row>514</th><td> 514</td><td>237 E 20TH AVENUE    </td><td>9/16/2019 </td><td>2825000</td><td>  7</td><td>3960</td><td>1905</td><td>114</td><td> 6049.95</td></tr>\n",
       "\t<tr><th scope=row>1283</th><td>1283</td><td>3569 ANZIO DRIVE     </td><td>7/2/2019  </td><td>1820000</td><td>  6</td><td>3979</td><td>1989</td><td> 30</td><td> 6600.00</td></tr>\n",
       "\t<tr><th scope=row>10</th><td>  10</td><td>466 E 60TH AVENUE    </td><td>10/17/2019</td><td>2400000</td><td> 44</td><td>3989</td><td>2019</td><td>  0</td><td> 4412.00</td></tr>\n",
       "\t<tr><th scope=row>457</th><td> 457</td><td>7250 GLADSTONE STREET</td><td>5/22/2019 </td><td>2238095</td><td> 76</td><td>4012</td><td>2018</td><td>  1</td><td> 4955.72</td></tr>\n",
       "\t<tr><th scope=row>493</th><td> 493</td><td>993 BROUGHTON STREET </td><td>4/3/2019  </td><td>2600000</td><td>192</td><td>4026</td><td>1905</td><td>114</td><td> 2882.00</td></tr>\n",
       "\t<tr><th scope=row>1287</th><td>1287</td><td>7087 CYPRESS STREET  </td><td>5/30/2019 </td><td>3000000</td><td>  6</td><td>4040</td><td>1928</td><td> 91</td><td> 8580.00</td></tr>\n",
       "\t<tr><th scope=row>1007</th><td>1007</td><td>601 E PENDER STREET  </td><td>1/11/2020 </td><td>1670000</td><td>123</td><td>4100</td><td>1908</td><td>112</td><td> 4150.00</td></tr>\n",
       "\t<tr><th scope=row>829</th><td> 829</td><td>7218 CARTIER STREET  </td><td>9/30/2019 </td><td>2779000</td><td> 15</td><td>4122</td><td>1994</td><td> 25</td><td> 6875.00</td></tr>\n",
       "\t<tr><th scope=row>918</th><td> 918</td><td>1950 NANTON AVENUE   </td><td>10/18/2019</td><td>3000000</td><td>  4</td><td>4158</td><td>1920</td><td> 99</td><td> 7732.50</td></tr>\n",
       "\t<tr><th scope=row>429</th><td> 429</td><td>172 E 60TH AVENUE    </td><td>10/17/2019</td><td>2330000</td><td> 46</td><td>4244</td><td>2014</td><td>  5</td><td> 4715.00</td></tr>\n",
       "\t<tr><th scope=row>254</th><td> 254</td><td>2421 EDDINGTON DRIVE </td><td>7/8/2019  </td><td>2860000</td><td>119</td><td>4263</td><td>1990</td><td> 29</td><td> 7222.00</td></tr>\n",
       "\t<tr><th scope=row>1297</th><td>1297</td><td>1697 E 22ND AVENUE   </td><td>1/22/2020 </td><td>1930000</td><td> 22</td><td>4272</td><td>1928</td><td> 92</td><td> 5696.17</td></tr>\n",
       "\t<tr><th scope=row>1238</th><td>1238</td><td>750 W 52ND AVENUE    </td><td>2/27/2020 </td><td>2500000</td><td>  5</td><td>4370</td><td>1959</td><td> 61</td><td> 6957.00</td></tr>\n",
       "\t<tr><th scope=row>549</th><td> 549</td><td>6726 RUPERT STREET   </td><td>5/27/2019 </td><td>2160000</td><td>287</td><td>4387</td><td>2001</td><td> 19</td><td> 7313.00</td></tr>\n",
       "\t<tr><th scope=row>1177</th><td>1177</td><td>3654 E PENDER STREET </td><td>7/17/2019 </td><td>1900000</td><td> 78</td><td>4419</td><td>2015</td><td>  4</td><td> 5115.00</td></tr>\n",
       "\t<tr><th scope=row>926</th><td> 926</td><td>3208 E 53RD AVENUE   </td><td>6/6/2019  </td><td>2680000</td><td>  0</td><td>4436</td><td>2019</td><td>  0</td><td> 5499.36</td></tr>\n",
       "\t<tr><th scope=row>635</th><td> 635</td><td>3421 E 4TH AVENUE    </td><td>1/6/2020  </td><td>2290000</td><td>  7</td><td>4475</td><td>2016</td><td>  4</td><td> 5079.90</td></tr>\n",
       "\t<tr><th scope=row>814</th><td> 814</td><td>2336 W 20TH AVENUE   </td><td>7/29/2019 </td><td>2950000</td><td> 32</td><td>4581</td><td>1985</td><td> 34</td><td> 6100.00</td></tr>\n",
       "\t<tr><th scope=row>1185</th><td>1185</td><td>6988 MCKINNON STREET </td><td>1/23/2019 </td><td>2825000</td><td>203</td><td>4625</td><td>2017</td><td>  2</td><td> 5500.00</td></tr>\n",
       "\t<tr><th scope=row>977</th><td> 977</td><td>7569 VIVIAN DRIVE    </td><td>7/2/2019  </td><td>2670000</td><td> 78</td><td>4652</td><td>2017</td><td>  2</td><td> 5415.00</td></tr>\n",
       "\t<tr><th scope=row>52</th><td>  52</td><td>6526 DAWSON STREET   </td><td>4/14/2020 </td><td>2630000</td><td> 20</td><td>4704</td><td>2013</td><td>  7</td><td> 5640.00</td></tr>\n",
       "\t<tr><th scope=row>1171</th><td>1171</td><td>2277 E 28TH AVENUE   </td><td>8/5/2019  </td><td>2660000</td><td> 22</td><td>4809</td><td>2016</td><td>  3</td><td> 6039.00</td></tr>\n",
       "\t<tr><th scope=row>70</th><td>  70</td><td>6588 VIVIAN STREET   </td><td>6/26/2019 </td><td>2820000</td><td>  6</td><td>4987</td><td>2018</td><td>  1</td><td> 5631.36</td></tr>\n",
       "\t<tr><th scope=row>656</th><td> 656</td><td>233 W 15TH AVENUE    </td><td>5/15/2019 </td><td>2325000</td><td> 33</td><td>5600</td><td>1910</td><td>109</td><td> 6250.00</td></tr>\n",
       "\t<tr><th scope=row>280</th><td> 280</td><td>1666 SW MARINE DRIVE </td><td>8/14/2019 </td><td>2300000</td><td> 39</td><td>5615</td><td>1949</td><td> 70</td><td>11700.00</td></tr>\n",
       "\t<tr><th scope=row>980</th><td> 980</td><td>2215 W 13TH AVENUE   </td><td>5/19/2020 </td><td>2840000</td><td>  9</td><td>5872</td><td>1910</td><td>110</td><td> 6250.00</td></tr>\n",
       "\t<tr><th scope=row>1057</th><td>1057</td><td>3265 SW MARINE DRIVE </td><td>2/11/2020 </td><td>2825000</td><td>  7</td><td>6556</td><td>1962</td><td> 58</td><td>11400.00</td></tr>\n",
       "</tbody>\n",
       "</table>\n"
      ],
      "text/latex": [
       "A data.frame: 1302 × 9\n",
       "\\begin{tabular}{r|lllllllll}\n",
       "  & Number & Address & List.Date & Price & Days.on.market & Total.floor.area & Year.Built & Age & Lot.Size\\\\\n",
       "  & <int> & <chr> & <chr> & <int> & <int> & <int> & <int> & <int> & <dbl>\\\\\n",
       "\\hline\n",
       "\t841 &  841 & 2964 W 28TH AVENUE         & 12/2/2019  & 2230000 &  41 &  301 & 1936 &  84 & 4290.00\\\\\n",
       "\t315 &  315 & 1665 LILLOOET STREET       & 1/21/2019  &  815000 & 134 &  400 & 1968 &  51 & 3842.00\\\\\n",
       "\t785 &  785 & 3455 WILLIAM STREET        & 12/17/2019 &  985000 &   8 &  680 & 1947 &  73 & 3547.50\\\\\n",
       "\t704 &  704 & 2921 E 54TH AVENUE         & 5/30/2019  &  975000 &  36 &  690 & 1954 &  65 & 4467.00\\\\\n",
       "\t957 &  957 & 2919 E 54TH AVENUE         & 3/18/2020  & 1288000 &  46 &  690 & 1954 &  66 & 4467.00\\\\\n",
       "\t723 &  723 & 1319 E 62ND AVENUE         & 2/17/2020  & 1228000 &   3 &  719 & 1953 &  67 & 3795.00\\\\\n",
       "\t342 &  342 & 3962 W 30TH AVENUE         & 9/19/2019  & 2898000 &   6 &  734 & 1929 &  90 & 6500.00\\\\\n",
       "\t795 &  795 & 2889 MCGILL STREET         & 3/17/2020  &  960000 &  50 &  800 & 1948 &  72 & 4026.00\\\\\n",
       "\t460 &  460 & 2690 WILLIAM STREET        & 11/13/2019 & 1130000 &  25 &  825 & 1944 &  75 & 3564.00\\\\\n",
       "\t247 &  247 & 2645 E 7TH AVENUE          & 2/19/2020  & 1302000 &   0 &  834 & 1928 &  92 & 4026.00\\\\\n",
       "\t1062 & 1062 & 521 E 20TH AVENUE          & 12/18/2019 & 1084600 &  23 &  867 & 1910 & 110 & 3023.00\\\\\n",
       "\t377 &  377 & 5094 ROSS STREET           & 3/2/2020   & 1190000 &   8 &  880 & 1946 &  74 & 3234.00\\\\\n",
       "\t627 &  627 & 6944 KNIGHT STREET         & 3/9/2020   &  925000 &   2 &  900 & 1957 &  63 & 3779.16\\\\\n",
       "\t1083 & 1083 & 5304 FRASER STREET         & 5/1/2019   &  840000 &  53 &  906 & 1913 & 106 & 3399.00\\\\\n",
       "\t686 &  686 & 2854 W 24TH AVENUE         & 10/28/2019 & 1900000 &   1 &  915 & 1940 &  79 & 4031.00\\\\\n",
       "\t1073 & 1073 & 3002 GRAVELEY STREET       & 6/18/2019  & 1100000 &   6 &  922 & 1926 &  93 & 3902.75\\\\\n",
       "\t200 &  200 & 2428 FRANKLIN STREET       & 3/13/2020  & 1000000 &  23 &  938 & 1922 &  98 & 4027.32\\\\\n",
       "\t1197 & 1197 & 5023 SHERBROOKE STREET     & 7/11/2019  & 1190000 &   3 &  945 & 1946 &  73 & 3234.00\\\\\n",
       "\t455 &  455 & 4391 ST. CATHERINES STREET & 4/27/2020  & 1460000 &   2 &  974 & 1946 &  74 & 3729.00\\\\\n",
       "\t645 &  645 & 4167 W 11TH AVENUE         & 10/22/2019 & 2300000 & 107 &  974 & 1988 &  32 & 4026.00\\\\\n",
       "\t530 &  530 & 3924 W 24TH AVENUE         & 8/30/2019  & 2223000 &   1 &  985 & 1940 &  79 & 5128.00\\\\\n",
       "\t958 &  958 & 374 E 26TH AVENUE          & 4/30/2019  &  860000 & 101 & 1000 & 1910 & 109 & 2027.75\\\\\n",
       "\t117 &  117 & 3636 W 15TH AVENUE         & 3/16/2020  & 1480000 &  41 & 1005 & 1987 &  33 & 2013.17\\\\\n",
       "\t990 &  990 & 1083 E 57TH AVENUE         & 9/10/2019  & 1070000 &   4 & 1041 & 1941 &  78 & 3656.40\\\\\n",
       "\t491 &  491 & 187 E 39TH AVENUE          & 9/13/2019  & 1228800 &   4 & 1054 & 1947 &  72 & 3437.20\\\\\n",
       "\t279 &  279 & 1819 E 6TH AVENUE          & 11/4/2019  & 1325000 &  10 & 1058 & 1945 &  74 & 2500.00\\\\\n",
       "\t536 &  536 & 2778 E 41ST AVENUE         & 7/18/2019  &  815000 &  11 & 1074 & 1916 & 103 & 3349.00\\\\\n",
       "\t45 &   45 & 5806 QUEBEC STREET         & 6/11/2019  & 1600000 &   8 & 1122 & 1946 &  73 & 4121.00\\\\\n",
       "\t844 &  844 & 3669 MAXWELL STREET        & 10/15/2019 & 1155000 &   5 & 1128 & 2012 &   7 & 1300.00\\\\\n",
       "\t570 &  570 & 703 HEATLEY AVENUE         & 5/11/2020  &  750000 &  10 & 1153 & 1901 & 119 & 1525.00\\\\\n",
       "\t⋮ & ⋮ & ⋮ & ⋮ & ⋮ & ⋮ & ⋮ & ⋮ & ⋮ & ⋮\\\\\n",
       "\t1113 & 1113 & 1019 W 46TH AVENUE    & 2/3/2020   & 2988000 &  42 & 3900 & 1986 &  34 &  7200.00\\\\\n",
       "\t124 &  124 & 6643 VIVIAN STREET    & 4/5/2019   & 2361905 &  91 & 3906 & 2018 &   1 &  4800.00\\\\\n",
       "\t816 &  816 & 1790 W 62 AVENUE      & 6/2/2019   & 2750000 & 175 & 3931 & 1987 &  32 &  5373.00\\\\\n",
       "\t514 &  514 & 237 E 20TH AVENUE     & 9/16/2019  & 2825000 &   7 & 3960 & 1905 & 114 &  6049.95\\\\\n",
       "\t1283 & 1283 & 3569 ANZIO DRIVE      & 7/2/2019   & 1820000 &   6 & 3979 & 1989 &  30 &  6600.00\\\\\n",
       "\t10 &   10 & 466 E 60TH AVENUE     & 10/17/2019 & 2400000 &  44 & 3989 & 2019 &   0 &  4412.00\\\\\n",
       "\t457 &  457 & 7250 GLADSTONE STREET & 5/22/2019  & 2238095 &  76 & 4012 & 2018 &   1 &  4955.72\\\\\n",
       "\t493 &  493 & 993 BROUGHTON STREET  & 4/3/2019   & 2600000 & 192 & 4026 & 1905 & 114 &  2882.00\\\\\n",
       "\t1287 & 1287 & 7087 CYPRESS STREET   & 5/30/2019  & 3000000 &   6 & 4040 & 1928 &  91 &  8580.00\\\\\n",
       "\t1007 & 1007 & 601 E PENDER STREET   & 1/11/2020  & 1670000 & 123 & 4100 & 1908 & 112 &  4150.00\\\\\n",
       "\t829 &  829 & 7218 CARTIER STREET   & 9/30/2019  & 2779000 &  15 & 4122 & 1994 &  25 &  6875.00\\\\\n",
       "\t918 &  918 & 1950 NANTON AVENUE    & 10/18/2019 & 3000000 &   4 & 4158 & 1920 &  99 &  7732.50\\\\\n",
       "\t429 &  429 & 172 E 60TH AVENUE     & 10/17/2019 & 2330000 &  46 & 4244 & 2014 &   5 &  4715.00\\\\\n",
       "\t254 &  254 & 2421 EDDINGTON DRIVE  & 7/8/2019   & 2860000 & 119 & 4263 & 1990 &  29 &  7222.00\\\\\n",
       "\t1297 & 1297 & 1697 E 22ND AVENUE    & 1/22/2020  & 1930000 &  22 & 4272 & 1928 &  92 &  5696.17\\\\\n",
       "\t1238 & 1238 & 750 W 52ND AVENUE     & 2/27/2020  & 2500000 &   5 & 4370 & 1959 &  61 &  6957.00\\\\\n",
       "\t549 &  549 & 6726 RUPERT STREET    & 5/27/2019  & 2160000 & 287 & 4387 & 2001 &  19 &  7313.00\\\\\n",
       "\t1177 & 1177 & 3654 E PENDER STREET  & 7/17/2019  & 1900000 &  78 & 4419 & 2015 &   4 &  5115.00\\\\\n",
       "\t926 &  926 & 3208 E 53RD AVENUE    & 6/6/2019   & 2680000 &   0 & 4436 & 2019 &   0 &  5499.36\\\\\n",
       "\t635 &  635 & 3421 E 4TH AVENUE     & 1/6/2020   & 2290000 &   7 & 4475 & 2016 &   4 &  5079.90\\\\\n",
       "\t814 &  814 & 2336 W 20TH AVENUE    & 7/29/2019  & 2950000 &  32 & 4581 & 1985 &  34 &  6100.00\\\\\n",
       "\t1185 & 1185 & 6988 MCKINNON STREET  & 1/23/2019  & 2825000 & 203 & 4625 & 2017 &   2 &  5500.00\\\\\n",
       "\t977 &  977 & 7569 VIVIAN DRIVE     & 7/2/2019   & 2670000 &  78 & 4652 & 2017 &   2 &  5415.00\\\\\n",
       "\t52 &   52 & 6526 DAWSON STREET    & 4/14/2020  & 2630000 &  20 & 4704 & 2013 &   7 &  5640.00\\\\\n",
       "\t1171 & 1171 & 2277 E 28TH AVENUE    & 8/5/2019   & 2660000 &  22 & 4809 & 2016 &   3 &  6039.00\\\\\n",
       "\t70 &   70 & 6588 VIVIAN STREET    & 6/26/2019  & 2820000 &   6 & 4987 & 2018 &   1 &  5631.36\\\\\n",
       "\t656 &  656 & 233 W 15TH AVENUE     & 5/15/2019  & 2325000 &  33 & 5600 & 1910 & 109 &  6250.00\\\\\n",
       "\t280 &  280 & 1666 SW MARINE DRIVE  & 8/14/2019  & 2300000 &  39 & 5615 & 1949 &  70 & 11700.00\\\\\n",
       "\t980 &  980 & 2215 W 13TH AVENUE    & 5/19/2020  & 2840000 &   9 & 5872 & 1910 & 110 &  6250.00\\\\\n",
       "\t1057 & 1057 & 3265 SW MARINE DRIVE  & 2/11/2020  & 2825000 &   7 & 6556 & 1962 &  58 & 11400.00\\\\\n",
       "\\end{tabular}\n"
      ],
      "text/markdown": [
       "\n",
       "A data.frame: 1302 × 9\n",
       "\n",
       "| <!--/--> | Number &lt;int&gt; | Address &lt;chr&gt; | List.Date &lt;chr&gt; | Price &lt;int&gt; | Days.on.market &lt;int&gt; | Total.floor.area &lt;int&gt; | Year.Built &lt;int&gt; | Age &lt;int&gt; | Lot.Size &lt;dbl&gt; |\n",
       "|---|---|---|---|---|---|---|---|---|---|\n",
       "| 841 |  841 | 2964 W 28TH AVENUE         | 12/2/2019  | 2230000 |  41 |  301 | 1936 |  84 | 4290.00 |\n",
       "| 315 |  315 | 1665 LILLOOET STREET       | 1/21/2019  |  815000 | 134 |  400 | 1968 |  51 | 3842.00 |\n",
       "| 785 |  785 | 3455 WILLIAM STREET        | 12/17/2019 |  985000 |   8 |  680 | 1947 |  73 | 3547.50 |\n",
       "| 704 |  704 | 2921 E 54TH AVENUE         | 5/30/2019  |  975000 |  36 |  690 | 1954 |  65 | 4467.00 |\n",
       "| 957 |  957 | 2919 E 54TH AVENUE         | 3/18/2020  | 1288000 |  46 |  690 | 1954 |  66 | 4467.00 |\n",
       "| 723 |  723 | 1319 E 62ND AVENUE         | 2/17/2020  | 1228000 |   3 |  719 | 1953 |  67 | 3795.00 |\n",
       "| 342 |  342 | 3962 W 30TH AVENUE         | 9/19/2019  | 2898000 |   6 |  734 | 1929 |  90 | 6500.00 |\n",
       "| 795 |  795 | 2889 MCGILL STREET         | 3/17/2020  |  960000 |  50 |  800 | 1948 |  72 | 4026.00 |\n",
       "| 460 |  460 | 2690 WILLIAM STREET        | 11/13/2019 | 1130000 |  25 |  825 | 1944 |  75 | 3564.00 |\n",
       "| 247 |  247 | 2645 E 7TH AVENUE          | 2/19/2020  | 1302000 |   0 |  834 | 1928 |  92 | 4026.00 |\n",
       "| 1062 | 1062 | 521 E 20TH AVENUE          | 12/18/2019 | 1084600 |  23 |  867 | 1910 | 110 | 3023.00 |\n",
       "| 377 |  377 | 5094 ROSS STREET           | 3/2/2020   | 1190000 |   8 |  880 | 1946 |  74 | 3234.00 |\n",
       "| 627 |  627 | 6944 KNIGHT STREET         | 3/9/2020   |  925000 |   2 |  900 | 1957 |  63 | 3779.16 |\n",
       "| 1083 | 1083 | 5304 FRASER STREET         | 5/1/2019   |  840000 |  53 |  906 | 1913 | 106 | 3399.00 |\n",
       "| 686 |  686 | 2854 W 24TH AVENUE         | 10/28/2019 | 1900000 |   1 |  915 | 1940 |  79 | 4031.00 |\n",
       "| 1073 | 1073 | 3002 GRAVELEY STREET       | 6/18/2019  | 1100000 |   6 |  922 | 1926 |  93 | 3902.75 |\n",
       "| 200 |  200 | 2428 FRANKLIN STREET       | 3/13/2020  | 1000000 |  23 |  938 | 1922 |  98 | 4027.32 |\n",
       "| 1197 | 1197 | 5023 SHERBROOKE STREET     | 7/11/2019  | 1190000 |   3 |  945 | 1946 |  73 | 3234.00 |\n",
       "| 455 |  455 | 4391 ST. CATHERINES STREET | 4/27/2020  | 1460000 |   2 |  974 | 1946 |  74 | 3729.00 |\n",
       "| 645 |  645 | 4167 W 11TH AVENUE         | 10/22/2019 | 2300000 | 107 |  974 | 1988 |  32 | 4026.00 |\n",
       "| 530 |  530 | 3924 W 24TH AVENUE         | 8/30/2019  | 2223000 |   1 |  985 | 1940 |  79 | 5128.00 |\n",
       "| 958 |  958 | 374 E 26TH AVENUE          | 4/30/2019  |  860000 | 101 | 1000 | 1910 | 109 | 2027.75 |\n",
       "| 117 |  117 | 3636 W 15TH AVENUE         | 3/16/2020  | 1480000 |  41 | 1005 | 1987 |  33 | 2013.17 |\n",
       "| 990 |  990 | 1083 E 57TH AVENUE         | 9/10/2019  | 1070000 |   4 | 1041 | 1941 |  78 | 3656.40 |\n",
       "| 491 |  491 | 187 E 39TH AVENUE          | 9/13/2019  | 1228800 |   4 | 1054 | 1947 |  72 | 3437.20 |\n",
       "| 279 |  279 | 1819 E 6TH AVENUE          | 11/4/2019  | 1325000 |  10 | 1058 | 1945 |  74 | 2500.00 |\n",
       "| 536 |  536 | 2778 E 41ST AVENUE         | 7/18/2019  |  815000 |  11 | 1074 | 1916 | 103 | 3349.00 |\n",
       "| 45 |   45 | 5806 QUEBEC STREET         | 6/11/2019  | 1600000 |   8 | 1122 | 1946 |  73 | 4121.00 |\n",
       "| 844 |  844 | 3669 MAXWELL STREET        | 10/15/2019 | 1155000 |   5 | 1128 | 2012 |   7 | 1300.00 |\n",
       "| 570 |  570 | 703 HEATLEY AVENUE         | 5/11/2020  |  750000 |  10 | 1153 | 1901 | 119 | 1525.00 |\n",
       "| ⋮ | ⋮ | ⋮ | ⋮ | ⋮ | ⋮ | ⋮ | ⋮ | ⋮ | ⋮ |\n",
       "| 1113 | 1113 | 1019 W 46TH AVENUE    | 2/3/2020   | 2988000 |  42 | 3900 | 1986 |  34 |  7200.00 |\n",
       "| 124 |  124 | 6643 VIVIAN STREET    | 4/5/2019   | 2361905 |  91 | 3906 | 2018 |   1 |  4800.00 |\n",
       "| 816 |  816 | 1790 W 62 AVENUE      | 6/2/2019   | 2750000 | 175 | 3931 | 1987 |  32 |  5373.00 |\n",
       "| 514 |  514 | 237 E 20TH AVENUE     | 9/16/2019  | 2825000 |   7 | 3960 | 1905 | 114 |  6049.95 |\n",
       "| 1283 | 1283 | 3569 ANZIO DRIVE      | 7/2/2019   | 1820000 |   6 | 3979 | 1989 |  30 |  6600.00 |\n",
       "| 10 |   10 | 466 E 60TH AVENUE     | 10/17/2019 | 2400000 |  44 | 3989 | 2019 |   0 |  4412.00 |\n",
       "| 457 |  457 | 7250 GLADSTONE STREET | 5/22/2019  | 2238095 |  76 | 4012 | 2018 |   1 |  4955.72 |\n",
       "| 493 |  493 | 993 BROUGHTON STREET  | 4/3/2019   | 2600000 | 192 | 4026 | 1905 | 114 |  2882.00 |\n",
       "| 1287 | 1287 | 7087 CYPRESS STREET   | 5/30/2019  | 3000000 |   6 | 4040 | 1928 |  91 |  8580.00 |\n",
       "| 1007 | 1007 | 601 E PENDER STREET   | 1/11/2020  | 1670000 | 123 | 4100 | 1908 | 112 |  4150.00 |\n",
       "| 829 |  829 | 7218 CARTIER STREET   | 9/30/2019  | 2779000 |  15 | 4122 | 1994 |  25 |  6875.00 |\n",
       "| 918 |  918 | 1950 NANTON AVENUE    | 10/18/2019 | 3000000 |   4 | 4158 | 1920 |  99 |  7732.50 |\n",
       "| 429 |  429 | 172 E 60TH AVENUE     | 10/17/2019 | 2330000 |  46 | 4244 | 2014 |   5 |  4715.00 |\n",
       "| 254 |  254 | 2421 EDDINGTON DRIVE  | 7/8/2019   | 2860000 | 119 | 4263 | 1990 |  29 |  7222.00 |\n",
       "| 1297 | 1297 | 1697 E 22ND AVENUE    | 1/22/2020  | 1930000 |  22 | 4272 | 1928 |  92 |  5696.17 |\n",
       "| 1238 | 1238 | 750 W 52ND AVENUE     | 2/27/2020  | 2500000 |   5 | 4370 | 1959 |  61 |  6957.00 |\n",
       "| 549 |  549 | 6726 RUPERT STREET    | 5/27/2019  | 2160000 | 287 | 4387 | 2001 |  19 |  7313.00 |\n",
       "| 1177 | 1177 | 3654 E PENDER STREET  | 7/17/2019  | 1900000 |  78 | 4419 | 2015 |   4 |  5115.00 |\n",
       "| 926 |  926 | 3208 E 53RD AVENUE    | 6/6/2019   | 2680000 |   0 | 4436 | 2019 |   0 |  5499.36 |\n",
       "| 635 |  635 | 3421 E 4TH AVENUE     | 1/6/2020   | 2290000 |   7 | 4475 | 2016 |   4 |  5079.90 |\n",
       "| 814 |  814 | 2336 W 20TH AVENUE    | 7/29/2019  | 2950000 |  32 | 4581 | 1985 |  34 |  6100.00 |\n",
       "| 1185 | 1185 | 6988 MCKINNON STREET  | 1/23/2019  | 2825000 | 203 | 4625 | 2017 |   2 |  5500.00 |\n",
       "| 977 |  977 | 7569 VIVIAN DRIVE     | 7/2/2019   | 2670000 |  78 | 4652 | 2017 |   2 |  5415.00 |\n",
       "| 52 |   52 | 6526 DAWSON STREET    | 4/14/2020  | 2630000 |  20 | 4704 | 2013 |   7 |  5640.00 |\n",
       "| 1171 | 1171 | 2277 E 28TH AVENUE    | 8/5/2019   | 2660000 |  22 | 4809 | 2016 |   3 |  6039.00 |\n",
       "| 70 |   70 | 6588 VIVIAN STREET    | 6/26/2019  | 2820000 |   6 | 4987 | 2018 |   1 |  5631.36 |\n",
       "| 656 |  656 | 233 W 15TH AVENUE     | 5/15/2019  | 2325000 |  33 | 5600 | 1910 | 109 |  6250.00 |\n",
       "| 280 |  280 | 1666 SW MARINE DRIVE  | 8/14/2019  | 2300000 |  39 | 5615 | 1949 |  70 | 11700.00 |\n",
       "| 980 |  980 | 2215 W 13TH AVENUE    | 5/19/2020  | 2840000 |   9 | 5872 | 1910 | 110 |  6250.00 |\n",
       "| 1057 | 1057 | 3265 SW MARINE DRIVE  | 2/11/2020  | 2825000 |   7 | 6556 | 1962 |  58 | 11400.00 |\n",
       "\n"
      ],
      "text/plain": [
       "     Number Address                    List.Date  Price   Days.on.market\n",
       "841   841   2964 W 28TH AVENUE         12/2/2019  2230000  41           \n",
       "315   315   1665 LILLOOET STREET       1/21/2019   815000 134           \n",
       "785   785   3455 WILLIAM STREET        12/17/2019  985000   8           \n",
       "704   704   2921 E 54TH AVENUE         5/30/2019   975000  36           \n",
       "957   957   2919 E 54TH AVENUE         3/18/2020  1288000  46           \n",
       "723   723   1319 E 62ND AVENUE         2/17/2020  1228000   3           \n",
       "342   342   3962 W 30TH AVENUE         9/19/2019  2898000   6           \n",
       "795   795   2889 MCGILL STREET         3/17/2020   960000  50           \n",
       "460   460   2690 WILLIAM STREET        11/13/2019 1130000  25           \n",
       "247   247   2645 E 7TH AVENUE          2/19/2020  1302000   0           \n",
       "1062 1062   521 E 20TH AVENUE          12/18/2019 1084600  23           \n",
       "377   377   5094 ROSS STREET           3/2/2020   1190000   8           \n",
       "627   627   6944 KNIGHT STREET         3/9/2020    925000   2           \n",
       "1083 1083   5304 FRASER STREET         5/1/2019    840000  53           \n",
       "686   686   2854 W 24TH AVENUE         10/28/2019 1900000   1           \n",
       "1073 1073   3002 GRAVELEY STREET       6/18/2019  1100000   6           \n",
       "200   200   2428 FRANKLIN STREET       3/13/2020  1000000  23           \n",
       "1197 1197   5023 SHERBROOKE STREET     7/11/2019  1190000   3           \n",
       "455   455   4391 ST. CATHERINES STREET 4/27/2020  1460000   2           \n",
       "645   645   4167 W 11TH AVENUE         10/22/2019 2300000 107           \n",
       "530   530   3924 W 24TH AVENUE         8/30/2019  2223000   1           \n",
       "958   958   374 E 26TH AVENUE          4/30/2019   860000 101           \n",
       "117   117   3636 W 15TH AVENUE         3/16/2020  1480000  41           \n",
       "990   990   1083 E 57TH AVENUE         9/10/2019  1070000   4           \n",
       "491   491   187 E 39TH AVENUE          9/13/2019  1228800   4           \n",
       "279   279   1819 E 6TH AVENUE          11/4/2019  1325000  10           \n",
       "536   536   2778 E 41ST AVENUE         7/18/2019   815000  11           \n",
       "45     45   5806 QUEBEC STREET         6/11/2019  1600000   8           \n",
       "844   844   3669 MAXWELL STREET        10/15/2019 1155000   5           \n",
       "570   570   703 HEATLEY AVENUE         5/11/2020   750000  10           \n",
       "⋮    ⋮      ⋮                          ⋮          ⋮       ⋮             \n",
       "1113 1113   1019 W 46TH AVENUE         2/3/2020   2988000  42           \n",
       "124   124   6643 VIVIAN STREET         4/5/2019   2361905  91           \n",
       "816   816   1790 W 62 AVENUE           6/2/2019   2750000 175           \n",
       "514   514   237 E 20TH AVENUE          9/16/2019  2825000   7           \n",
       "1283 1283   3569 ANZIO DRIVE           7/2/2019   1820000   6           \n",
       "10     10   466 E 60TH AVENUE          10/17/2019 2400000  44           \n",
       "457   457   7250 GLADSTONE STREET      5/22/2019  2238095  76           \n",
       "493   493   993 BROUGHTON STREET       4/3/2019   2600000 192           \n",
       "1287 1287   7087 CYPRESS STREET        5/30/2019  3000000   6           \n",
       "1007 1007   601 E PENDER STREET        1/11/2020  1670000 123           \n",
       "829   829   7218 CARTIER STREET        9/30/2019  2779000  15           \n",
       "918   918   1950 NANTON AVENUE         10/18/2019 3000000   4           \n",
       "429   429   172 E 60TH AVENUE          10/17/2019 2330000  46           \n",
       "254   254   2421 EDDINGTON DRIVE       7/8/2019   2860000 119           \n",
       "1297 1297   1697 E 22ND AVENUE         1/22/2020  1930000  22           \n",
       "1238 1238   750 W 52ND AVENUE          2/27/2020  2500000   5           \n",
       "549   549   6726 RUPERT STREET         5/27/2019  2160000 287           \n",
       "1177 1177   3654 E PENDER STREET       7/17/2019  1900000  78           \n",
       "926   926   3208 E 53RD AVENUE         6/6/2019   2680000   0           \n",
       "635   635   3421 E 4TH AVENUE          1/6/2020   2290000   7           \n",
       "814   814   2336 W 20TH AVENUE         7/29/2019  2950000  32           \n",
       "1185 1185   6988 MCKINNON STREET       1/23/2019  2825000 203           \n",
       "977   977   7569 VIVIAN DRIVE          7/2/2019   2670000  78           \n",
       "52     52   6526 DAWSON STREET         4/14/2020  2630000  20           \n",
       "1171 1171   2277 E 28TH AVENUE         8/5/2019   2660000  22           \n",
       "70     70   6588 VIVIAN STREET         6/26/2019  2820000   6           \n",
       "656   656   233 W 15TH AVENUE          5/15/2019  2325000  33           \n",
       "280   280   1666 SW MARINE DRIVE       8/14/2019  2300000  39           \n",
       "980   980   2215 W 13TH AVENUE         5/19/2020  2840000   9           \n",
       "1057 1057   3265 SW MARINE DRIVE       2/11/2020  2825000   7           \n",
       "     Total.floor.area Year.Built Age Lot.Size\n",
       "841   301             1936        84 4290.00 \n",
       "315   400             1968        51 3842.00 \n",
       "785   680             1947        73 3547.50 \n",
       "704   690             1954        65 4467.00 \n",
       "957   690             1954        66 4467.00 \n",
       "723   719             1953        67 3795.00 \n",
       "342   734             1929        90 6500.00 \n",
       "795   800             1948        72 4026.00 \n",
       "460   825             1944        75 3564.00 \n",
       "247   834             1928        92 4026.00 \n",
       "1062  867             1910       110 3023.00 \n",
       "377   880             1946        74 3234.00 \n",
       "627   900             1957        63 3779.16 \n",
       "1083  906             1913       106 3399.00 \n",
       "686   915             1940        79 4031.00 \n",
       "1073  922             1926        93 3902.75 \n",
       "200   938             1922        98 4027.32 \n",
       "1197  945             1946        73 3234.00 \n",
       "455   974             1946        74 3729.00 \n",
       "645   974             1988        32 4026.00 \n",
       "530   985             1940        79 5128.00 \n",
       "958  1000             1910       109 2027.75 \n",
       "117  1005             1987        33 2013.17 \n",
       "990  1041             1941        78 3656.40 \n",
       "491  1054             1947        72 3437.20 \n",
       "279  1058             1945        74 2500.00 \n",
       "536  1074             1916       103 3349.00 \n",
       "45   1122             1946        73 4121.00 \n",
       "844  1128             2012         7 1300.00 \n",
       "570  1153             1901       119 1525.00 \n",
       "⋮    ⋮                ⋮          ⋮   ⋮       \n",
       "1113 3900             1986        34  7200.00\n",
       "124  3906             2018         1  4800.00\n",
       "816  3931             1987        32  5373.00\n",
       "514  3960             1905       114  6049.95\n",
       "1283 3979             1989        30  6600.00\n",
       "10   3989             2019         0  4412.00\n",
       "457  4012             2018         1  4955.72\n",
       "493  4026             1905       114  2882.00\n",
       "1287 4040             1928        91  8580.00\n",
       "1007 4100             1908       112  4150.00\n",
       "829  4122             1994        25  6875.00\n",
       "918  4158             1920        99  7732.50\n",
       "429  4244             2014         5  4715.00\n",
       "254  4263             1990        29  7222.00\n",
       "1297 4272             1928        92  5696.17\n",
       "1238 4370             1959        61  6957.00\n",
       "549  4387             2001        19  7313.00\n",
       "1177 4419             2015         4  5115.00\n",
       "926  4436             2019         0  5499.36\n",
       "635  4475             2016         4  5079.90\n",
       "814  4581             1985        34  6100.00\n",
       "1185 4625             2017         2  5500.00\n",
       "977  4652             2017         2  5415.00\n",
       "52   4704             2013         7  5640.00\n",
       "1171 4809             2016         3  6039.00\n",
       "70   4987             2018         1  5631.36\n",
       "656  5600             1910       109  6250.00\n",
       "280  5615             1949        70 11700.00\n",
       "980  5872             1910       110  6250.00\n",
       "1057 6556             1962        58 11400.00"
      ]
     },
     "metadata": {},
     "output_type": "display_data"
    },
    {
     "data": {
      "image/png": "[encoded data removed]",
      "text/plain": [
       "Plot with title \"Price vs. Total Floor Area\""
      ]
     },
     "metadata": {
      "image/png": {
       "height": 420,
       "width": 420
      }
     },
     "output_type": "display_data"
    }
   ],
   "source": [
    "# code for making the plot:\n",
    "# Create four scatterplots to show the association between the Price and each of the four explanatory variables\n",
    "# Plot 1: Price and Areas\n",
    "area.price = plot(Price ~ Total.floor.area, data = mydata, \n",
    "                  main = \"Price vs. Total Floor Area\", xlab = \"Total Floor Area (Sq.ft)\", ylab = \"Price($CAD)\") #Create a scatterplot of the association between Price and total floor areas\n",
    "lines(lowess(mydata$Total.floor.area, mydata$Price, delta=0.1), col=\"red\") #Create a lowess line\n",
    "cor(mydata$Total.floor.area, mydata$Price) #Check the correlation between two variables\n",
    "mydata[with (mydata, order(mydata$Total.floor.area)), ] #order the dataframe by total floor area \n",
    "points(5600,2325000, pch=16, col=\"red\")\n",
    "points(5615,2300000, pch=16, col=\"red\")\n",
    "points(5872,2840000, pch=16, col=\"red\")\n",
    "points(6556,2825000, pch=16, col=\"red\")#plot the outliers in red"
   ]
  },
  {
   "cell_type": "code",
   "execution_count": 4,
   "metadata": {
    "scrolled": true
   },
   "outputs": [
    {
     "data": {
      "text/html": [
       "0.0119861817154557"
      ],
      "text/latex": [
       "0.0119861817154557"
      ],
      "text/markdown": [
       "0.0119861817154557"
      ],
      "text/plain": [
       "[1] 0.01198618"
      ]
     },
     "metadata": {},
     "output_type": "display_data"
    },
    {
     "data": {
      "image/png": "[encoded data removed]",
      "text/plain": [
       "Plot with title \"Price vs. log(Days on Market)\""
      ]
     },
     "metadata": {
      "image/png": {
       "height": 420,
       "width": 420
      }
     },
     "output_type": "display_data"
    }
   ],
   "source": [
    "#Plot 2: Price and Days on market\n",
    "days.price = plot(Price ~ log(Days.on.market), data = mydata,\n",
    "                 main = \"Price vs. log(Days on Market)\", xlab = \"log(Days on Market)\", ylab = \"Price($CAD)\") #Create a scatterplot of the association between Price and Days on market. Transform Days on market using log so that we have better visual\n",
    "lines(lowess(log(mydata$Days.on.market), mydata$Price, delta=0.1), col=\"red\") #Creat a lowess line to see potential form\n",
    "cor(mydata$Days.on.market, mydata$Price) #Check the correlation between two variables"
   ]
  },
  {
   "cell_type": "code",
   "execution_count": 5,
   "metadata": {},
   "outputs": [
    {
     "data": {
      "text/html": [
       "-0.245666553424168"
      ],
      "text/latex": [
       "-0.245666553424168"
      ],
      "text/markdown": [
       "-0.245666553424168"
      ],
      "text/plain": [
       "[1] -0.2456666"
      ]
     },
     "metadata": {},
     "output_type": "display_data"
    },
    {
     "data": {
      "image/png": "[encoded data removed]",
      "text/plain": [
       "Plot with title \"Price vs. Age\""
      ]
     },
     "metadata": {
      "image/png": {
       "height": 420,
       "width": 420
      }
     },
     "output_type": "display_data"
    }
   ],
   "source": [
    "#Plot 3: Price and Age\n",
    "age.price = plot(Price ~ Age, data = mydata,\n",
    "                main = \"Price vs. Age\", xlab = \"Age (years)\", ylab = \"Price($CAD)\") #Create a scatterplot of the association between Price and Age.\n",
    "lines(lowess(mydata$Age, mydata$Price, delta=0.1), col=\"red\") #Creat a lowess line to see potential form\n",
    "cor(mydata$Age, mydata$Price) #Check the correlation between two variables"
   ]
  },
  {
   "cell_type": "code",
   "execution_count": 6,
   "metadata": {},
   "outputs": [
    {
     "data": {
      "text/html": [
       "0.413488581693938"
      ],
      "text/latex": [
       "0.413488581693938"
      ],
      "text/markdown": [
       "0.413488581693938"
      ],
      "text/plain": [
       "[1] 0.4134886"
      ]
     },
     "metadata": {},
     "output_type": "display_data"
    },
    {
     "data": {
      "text/html": [
       "<table class=\"dataframe\">\n",
       "<caption>A data.frame: 1302 × 9</caption>\n",
       "<thead>\n",
       "\t<tr><th></th><th scope=col>Number</th><th scope=col>Address</th><th scope=col>List.Date</th><th scope=col>Price</th><th scope=col>Days.on.market</th><th scope=col>Total.floor.area</th><th scope=col>Year.Built</th><th scope=col>Age</th><th scope=col>Lot.Size</th></tr>\n",
       "\t<tr><th></th><th scope=col>&lt;int&gt;</th><th scope=col>&lt;chr&gt;</th><th scope=col>&lt;chr&gt;</th><th scope=col>&lt;int&gt;</th><th scope=col>&lt;int&gt;</th><th scope=col>&lt;int&gt;</th><th scope=col>&lt;int&gt;</th><th scope=col>&lt;int&gt;</th><th scope=col>&lt;dbl&gt;</th></tr>\n",
       "</thead>\n",
       "<tbody>\n",
       "\t<tr><th scope=row>844</th><td> 844</td><td>3669 MAXWELL STREET      </td><td>10/15/2019</td><td>1155000</td><td>  5</td><td>1128</td><td>2012</td><td>  7</td><td>1300.00</td></tr>\n",
       "\t<tr><th scope=row>570</th><td> 570</td><td>703 HEATLEY AVENUE       </td><td>5/11/2020 </td><td> 750000</td><td> 10</td><td>1153</td><td>1901</td><td>119</td><td>1525.00</td></tr>\n",
       "\t<tr><th scope=row>924</th><td> 924</td><td>703 HEATLEY AVENUE       </td><td>7/25/2019 </td><td> 738000</td><td>196</td><td>1153</td><td>1901</td><td>119</td><td>1525.00</td></tr>\n",
       "\t<tr><th scope=row>137</th><td> 137</td><td>3451 QUEBEC STREET       </td><td>9/30/2019 </td><td>1415000</td><td>  7</td><td>1584</td><td>1905</td><td>114</td><td>1600.00</td></tr>\n",
       "\t<tr><th scope=row>1169</th><td>1169</td><td>2082 CHARLES STREET      </td><td>9/24/2019 </td><td>1327000</td><td> 11</td><td>1263</td><td>2017</td><td>  2</td><td>1696.00</td></tr>\n",
       "\t<tr><th scope=row>1148</th><td>1148</td><td>450 SALSBURY DRIVE       </td><td>8/27/2019 </td><td>1310000</td><td> 33</td><td>2364</td><td>2010</td><td>  9</td><td>1762.00</td></tr>\n",
       "\t<tr><th scope=row>758</th><td> 758</td><td>4320 MILLER STREET       </td><td>9/30/2019 </td><td> 785000</td><td>  6</td><td>1201</td><td>1989</td><td> 30</td><td>1764.00</td></tr>\n",
       "\t<tr><th scope=row>787</th><td> 787</td><td>3544 QUEBEC STREET       </td><td>9/9/2019  </td><td>1630000</td><td>  7</td><td>1860</td><td>1913</td><td>106</td><td>1772.80</td></tr>\n",
       "\t<tr><th scope=row>943</th><td> 943</td><td>437 VERNON DRIVE         </td><td>4/22/2020 </td><td>1510000</td><td> 18</td><td>1892</td><td>2017</td><td>  3</td><td>1843.36</td></tr>\n",
       "\t<tr><th scope=row>515</th><td> 515</td><td>3532 PRINCE EDWARD STREET</td><td>11/27/2019</td><td>1600000</td><td>  5</td><td>1694</td><td>1910</td><td>109</td><td>1952.00</td></tr>\n",
       "\t<tr><th scope=row>998</th><td> 998</td><td>3460 QUEBEC STREET       </td><td>10/29/2019</td><td>1408000</td><td>  7</td><td>2067</td><td>1913</td><td>106</td><td>1952.00</td></tr>\n",
       "\t<tr><th scope=row>936</th><td> 936</td><td>369 E 30TH AVENUE        </td><td>2/20/2020 </td><td>1575000</td><td>  2</td><td>1905</td><td>1910</td><td>110</td><td>1956.10</td></tr>\n",
       "\t<tr><th scope=row>401</th><td> 401</td><td>2311 CYPRESS STREET      </td><td>5/15/2020 </td><td>2560000</td><td>  6</td><td>2338</td><td>2007</td><td> 13</td><td>2000.00</td></tr>\n",
       "\t<tr><th scope=row>587</th><td> 587</td><td>1610 SEMLIN DRIVE        </td><td>10/23/2019</td><td>1490000</td><td>  3</td><td>1967</td><td>1910</td><td>109</td><td>2013.00</td></tr>\n",
       "\t<tr><th scope=row>117</th><td> 117</td><td>3636 W 15TH AVENUE       </td><td>3/16/2020 </td><td>1480000</td><td> 41</td><td>1005</td><td>1987</td><td> 33</td><td>2013.17</td></tr>\n",
       "\t<tr><th scope=row>958</th><td> 958</td><td>374 E 26TH AVENUE        </td><td>4/30/2019 </td><td> 860000</td><td>101</td><td>1000</td><td>1910</td><td>109</td><td>2027.75</td></tr>\n",
       "\t<tr><th scope=row>38</th><td>  38</td><td>1829 STEPHENS STREET     </td><td>1/21/2020 </td><td>1430000</td><td> 86</td><td>1963</td><td>1911</td><td>109</td><td>2045.75</td></tr>\n",
       "\t<tr><th scope=row>130</th><td> 130</td><td>1346 E 15TH AVENUE       </td><td>8/9/2019  </td><td>1150000</td><td> 21</td><td>1504</td><td>1975</td><td> 44</td><td>2047.00</td></tr>\n",
       "\t<tr><th scope=row>1081</th><td>1081</td><td>946 E 24TH AVENUE        </td><td>9/16/2019 </td><td>1225000</td><td>  8</td><td>1670</td><td>1913</td><td>106</td><td>2161.50</td></tr>\n",
       "\t<tr><th scope=row>148</th><td> 148</td><td>2244 E PENDER STREET     </td><td>9/9/2019  </td><td>1180000</td><td> 17</td><td>1798</td><td>1912</td><td>107</td><td>2178.00</td></tr>\n",
       "\t<tr><th scope=row>701</th><td> 701</td><td>2904 WINDSOR STREET      </td><td>9/4/2019  </td><td>1070000</td><td>  8</td><td>2534</td><td>1910</td><td>109</td><td>2178.00</td></tr>\n",
       "\t<tr><th scope=row>206</th><td> 206</td><td>407 E KING EDWARD AVENUE </td><td>4/15/2020 </td><td>1575000</td><td>  5</td><td>1912</td><td>1910</td><td>110</td><td>2188.00</td></tr>\n",
       "\t<tr><th scope=row>466</th><td> 466</td><td>770 E 24TH AVENUE        </td><td>3/9/2020  </td><td>1558000</td><td>  8</td><td>2232</td><td>1913</td><td>107</td><td>2218.75</td></tr>\n",
       "\t<tr><th scope=row>691</th><td> 691</td><td>3620 CAROLINA STREET     </td><td>7/9/2019  </td><td>1478000</td><td>  5</td><td>1528</td><td>1970</td><td> 49</td><td>2244.80</td></tr>\n",
       "\t<tr><th scope=row>893</th><td> 893</td><td>2507 E KENT AVENUE NORTH </td><td>5/10/2020 </td><td>1175000</td><td>  5</td><td>1443</td><td>1994</td><td> 26</td><td>2288.74</td></tr>\n",
       "\t<tr><th scope=row>444</th><td> 444</td><td>2059 CHARLES STREET      </td><td>10/23/2019</td><td>1465000</td><td>  6</td><td>1397</td><td>2019</td><td>  0</td><td>2332.11</td></tr>\n",
       "\t<tr><th scope=row>1193</th><td>1193</td><td>3234 PRINCE EDWARD STREET</td><td>3/9/2020  </td><td> 950000</td><td> 26</td><td>1601</td><td>1912</td><td>108</td><td>2382.36</td></tr>\n",
       "\t<tr><th scope=row>683</th><td> 683</td><td>1750-1752 E 5TH AVENUE   </td><td>11/4/2019 </td><td>2240000</td><td>  4</td><td>2986</td><td>1910</td><td>109</td><td>2398.00</td></tr>\n",
       "\t<tr><th scope=row>237</th><td> 237</td><td>2327 COLLINGWOOD STREET  </td><td>1/31/2020 </td><td>1900000</td><td> 19</td><td>2644</td><td>1912</td><td>108</td><td>2400.00</td></tr>\n",
       "\t<tr><th scope=row>1121</th><td>1121</td><td>120 E 24TH AVENUE        </td><td>11/12/2019</td><td>1650000</td><td>  7</td><td>1860</td><td>1910</td><td>109</td><td>2416.35</td></tr>\n",
       "\t<tr><th scope=row>⋮</th><td>⋮</td><td>⋮</td><td>⋮</td><td>⋮</td><td>⋮</td><td>⋮</td><td>⋮</td><td>⋮</td><td>⋮</td></tr>\n",
       "\t<tr><th scope=row>494</th><td> 494</td><td>850 W 32ND AVENUE        </td><td>11/29/2019</td><td>2602000</td><td> 42</td><td>2772</td><td>1956</td><td>64</td><td> 7650.00</td></tr>\n",
       "\t<tr><th scope=row>205</th><td> 205</td><td>1810 W 61ST AVENUE       </td><td>9/30/2019 </td><td>2388000</td><td>120</td><td>3146</td><td>1967</td><td>53</td><td> 7670.00</td></tr>\n",
       "\t<tr><th scope=row>918</th><td> 918</td><td>1950 NANTON AVENUE       </td><td>10/18/2019</td><td>3000000</td><td>  4</td><td>4158</td><td>1920</td><td>99</td><td> 7732.50</td></tr>\n",
       "\t<tr><th scope=row>212</th><td> 212</td><td>6388 GRANVILLE STREET    </td><td>5/29/2019 </td><td>2228000</td><td> 30</td><td>3363</td><td>1945</td><td>74</td><td> 7750.00</td></tr>\n",
       "\t<tr><th scope=row>1096</th><td>1096</td><td>6579 MAPLE STREET        </td><td>9/18/2019 </td><td>2700000</td><td>  8</td><td>2645</td><td>1922</td><td>97</td><td> 7789.60</td></tr>\n",
       "\t<tr><th scope=row>1277</th><td>1277</td><td>3892 W 50TH AVENUE       </td><td>11/1/2019 </td><td>2135000</td><td>125</td><td>1980</td><td>1948</td><td>72</td><td> 7809.00</td></tr>\n",
       "\t<tr><th scope=row>1156</th><td>1156</td><td>3282 W 33RD AVENUE       </td><td>9/20/2019 </td><td>2450000</td><td> 81</td><td>3059</td><td>1930</td><td>89</td><td> 7810.00</td></tr>\n",
       "\t<tr><th scope=row>513</th><td> 513</td><td>4277 KEVIN PLACE         </td><td>7/30/2019 </td><td>2770000</td><td> 10</td><td>3359</td><td>1971</td><td>48</td><td> 8133.00</td></tr>\n",
       "\t<tr><th scope=row>873</th><td> 873</td><td>660 E 52ND AVENUE        </td><td>7/11/2019 </td><td>2360000</td><td>225</td><td>3342</td><td>1980</td><td>40</td><td> 8174.00</td></tr>\n",
       "\t<tr><th scope=row>392</th><td> 392</td><td>6850 LAUREL STREET       </td><td>6/11/2019 </td><td>2880000</td><td> 68</td><td>3475</td><td>1957</td><td>62</td><td> 8265.00</td></tr>\n",
       "\t<tr><th scope=row>310</th><td> 310</td><td>7061 CYPRESS STREET      </td><td>5/29/2019 </td><td>3000000</td><td> 24</td><td>3602</td><td>1928</td><td>91</td><td> 8580.00</td></tr>\n",
       "\t<tr><th scope=row>1287</th><td>1287</td><td>7087 CYPRESS STREET      </td><td>5/30/2019 </td><td>3000000</td><td>  6</td><td>4040</td><td>1928</td><td>91</td><td> 8580.00</td></tr>\n",
       "\t<tr><th scope=row>1219</th><td>1219</td><td>5750 ATHLONE STREET      </td><td>7/12/2019 </td><td>2700000</td><td>  4</td><td>3300</td><td>1927</td><td>92</td><td> 8700.00</td></tr>\n",
       "\t<tr><th scope=row>1248</th><td>1248</td><td>2475 E 54TH AVENUE       </td><td>2/19/2020 </td><td>1950000</td><td> 65</td><td>3850</td><td>1981</td><td>39</td><td> 8745.00</td></tr>\n",
       "\t<tr><th scope=row>1191</th><td>1191</td><td>6483 WILTSHIRE STREET    </td><td>11/1/2019 </td><td>2700000</td><td>114</td><td>3841</td><td>1928</td><td>92</td><td> 8775.00</td></tr>\n",
       "\t<tr><th scope=row>576</th><td> 576</td><td>3332 DEERING ISLAND PLACE</td><td>6/1/2019  </td><td>2800000</td><td>138</td><td>3422</td><td>1992</td><td>27</td><td> 8783.00</td></tr>\n",
       "\t<tr><th scope=row>44</th><td>  44</td><td>1576 W 16TH AVENUE       </td><td>7/3/2019  </td><td>2800000</td><td>136</td><td>3095</td><td>1946</td><td>73</td><td> 8871.25</td></tr>\n",
       "\t<tr><th scope=row>1068</th><td>1068</td><td>5588 HOLLAND STREET      </td><td>9/9/2019  </td><td>2800000</td><td> 55</td><td>2816</td><td>1936</td><td>83</td><td> 8877.00</td></tr>\n",
       "\t<tr><th scope=row>3</th><td>   3</td><td>2831 W 49TH AVENUE       </td><td>6/18/2019 </td><td>2650000</td><td>  1</td><td>3108</td><td>1929</td><td>90</td><td> 9111.00</td></tr>\n",
       "\t<tr><th scope=row>790</th><td> 790</td><td>3752 W 50TH AVENUE       </td><td>2/18/2020 </td><td>2480000</td><td>  8</td><td>2628</td><td>1957</td><td>63</td><td> 9141.00</td></tr>\n",
       "\t<tr><th scope=row>942</th><td> 942</td><td>1108 E 53RD AVENUE       </td><td>6/4/2019  </td><td>1798000</td><td>  4</td><td>3216</td><td>1922</td><td>97</td><td> 9180.00</td></tr>\n",
       "\t<tr><th scope=row>345</th><td> 345</td><td>92 MALTA PLACE           </td><td>2/8/2019  </td><td>1300000</td><td>118</td><td>1680</td><td>1948</td><td>71</td><td>10287.00</td></tr>\n",
       "\t<tr><th scope=row>572</th><td> 572</td><td>8268 ELLIOTT STREET      </td><td>3/18/2020 </td><td>1935000</td><td>  1</td><td>3060</td><td>1967</td><td>53</td><td>10348.00</td></tr>\n",
       "\t<tr><th scope=row>835</th><td> 835</td><td>4450 GRANVILLE STREET    </td><td>1/16/2020 </td><td>2949900</td><td> 18</td><td>2491</td><td>1946</td><td>74</td><td>10846.28</td></tr>\n",
       "\t<tr><th scope=row>1240</th><td>1240</td><td>6816 TODERICK STREET     </td><td>6/19/2019 </td><td>1988000</td><td>  5</td><td>3745</td><td>1972</td><td>47</td><td>11351.00</td></tr>\n",
       "\t<tr><th scope=row>1057</th><td>1057</td><td>3265 SW MARINE DRIVE     </td><td>2/11/2020 </td><td>2825000</td><td>  7</td><td>6556</td><td>1962</td><td>58</td><td>11400.00</td></tr>\n",
       "\t<tr><th scope=row>280</th><td> 280</td><td>1666 SW MARINE DRIVE     </td><td>8/14/2019 </td><td>2300000</td><td> 39</td><td>5615</td><td>1949</td><td>70</td><td>11700.00</td></tr>\n",
       "\t<tr><th scope=row>955</th><td> 955</td><td>2176 W 57TH AVENUE       </td><td>4/20/2020 </td><td>2950000</td><td> 40</td><td>3370</td><td>1957</td><td>63</td><td>12883.77</td></tr>\n",
       "\t<tr><th scope=row>138</th><td> 138</td><td>7225 HUDSON STREET       </td><td>9/17/2019 </td><td>3000000</td><td> 55</td><td>3503</td><td>1987</td><td>32</td><td>13078.00</td></tr>\n",
       "\t<tr><th scope=row>164</th><td> 164</td><td>2270 SW MARINE DRIVE     </td><td>3/10/2020 </td><td>2685000</td><td> 70</td><td>3490</td><td>1955</td><td>65</td><td>15983.00</td></tr>\n",
       "</tbody>\n",
       "</table>\n"
      ],
      "text/latex": [
       "A data.frame: 1302 × 9\n",
       "\\begin{tabular}{r|lllllllll}\n",
       "  & Number & Address & List.Date & Price & Days.on.market & Total.floor.area & Year.Built & Age & Lot.Size\\\\\n",
       "  & <int> & <chr> & <chr> & <int> & <int> & <int> & <int> & <int> & <dbl>\\\\\n",
       "\\hline\n",
       "\t844 &  844 & 3669 MAXWELL STREET       & 10/15/2019 & 1155000 &   5 & 1128 & 2012 &   7 & 1300.00\\\\\n",
       "\t570 &  570 & 703 HEATLEY AVENUE        & 5/11/2020  &  750000 &  10 & 1153 & 1901 & 119 & 1525.00\\\\\n",
       "\t924 &  924 & 703 HEATLEY AVENUE        & 7/25/2019  &  738000 & 196 & 1153 & 1901 & 119 & 1525.00\\\\\n",
       "\t137 &  137 & 3451 QUEBEC STREET        & 9/30/2019  & 1415000 &   7 & 1584 & 1905 & 114 & 1600.00\\\\\n",
       "\t1169 & 1169 & 2082 CHARLES STREET       & 9/24/2019  & 1327000 &  11 & 1263 & 2017 &   2 & 1696.00\\\\\n",
       "\t1148 & 1148 & 450 SALSBURY DRIVE        & 8/27/2019  & 1310000 &  33 & 2364 & 2010 &   9 & 1762.00\\\\\n",
       "\t758 &  758 & 4320 MILLER STREET        & 9/30/2019  &  785000 &   6 & 1201 & 1989 &  30 & 1764.00\\\\\n",
       "\t787 &  787 & 3544 QUEBEC STREET        & 9/9/2019   & 1630000 &   7 & 1860 & 1913 & 106 & 1772.80\\\\\n",
       "\t943 &  943 & 437 VERNON DRIVE          & 4/22/2020  & 1510000 &  18 & 1892 & 2017 &   3 & 1843.36\\\\\n",
       "\t515 &  515 & 3532 PRINCE EDWARD STREET & 11/27/2019 & 1600000 &   5 & 1694 & 1910 & 109 & 1952.00\\\\\n",
       "\t998 &  998 & 3460 QUEBEC STREET        & 10/29/2019 & 1408000 &   7 & 2067 & 1913 & 106 & 1952.00\\\\\n",
       "\t936 &  936 & 369 E 30TH AVENUE         & 2/20/2020  & 1575000 &   2 & 1905 & 1910 & 110 & 1956.10\\\\\n",
       "\t401 &  401 & 2311 CYPRESS STREET       & 5/15/2020  & 2560000 &   6 & 2338 & 2007 &  13 & 2000.00\\\\\n",
       "\t587 &  587 & 1610 SEMLIN DRIVE         & 10/23/2019 & 1490000 &   3 & 1967 & 1910 & 109 & 2013.00\\\\\n",
       "\t117 &  117 & 3636 W 15TH AVENUE        & 3/16/2020  & 1480000 &  41 & 1005 & 1987 &  33 & 2013.17\\\\\n",
       "\t958 &  958 & 374 E 26TH AVENUE         & 4/30/2019  &  860000 & 101 & 1000 & 1910 & 109 & 2027.75\\\\\n",
       "\t38 &   38 & 1829 STEPHENS STREET      & 1/21/2020  & 1430000 &  86 & 1963 & 1911 & 109 & 2045.75\\\\\n",
       "\t130 &  130 & 1346 E 15TH AVENUE        & 8/9/2019   & 1150000 &  21 & 1504 & 1975 &  44 & 2047.00\\\\\n",
       "\t1081 & 1081 & 946 E 24TH AVENUE         & 9/16/2019  & 1225000 &   8 & 1670 & 1913 & 106 & 2161.50\\\\\n",
       "\t148 &  148 & 2244 E PENDER STREET      & 9/9/2019   & 1180000 &  17 & 1798 & 1912 & 107 & 2178.00\\\\\n",
       "\t701 &  701 & 2904 WINDSOR STREET       & 9/4/2019   & 1070000 &   8 & 2534 & 1910 & 109 & 2178.00\\\\\n",
       "\t206 &  206 & 407 E KING EDWARD AVENUE  & 4/15/2020  & 1575000 &   5 & 1912 & 1910 & 110 & 2188.00\\\\\n",
       "\t466 &  466 & 770 E 24TH AVENUE         & 3/9/2020   & 1558000 &   8 & 2232 & 1913 & 107 & 2218.75\\\\\n",
       "\t691 &  691 & 3620 CAROLINA STREET      & 7/9/2019   & 1478000 &   5 & 1528 & 1970 &  49 & 2244.80\\\\\n",
       "\t893 &  893 & 2507 E KENT AVENUE NORTH  & 5/10/2020  & 1175000 &   5 & 1443 & 1994 &  26 & 2288.74\\\\\n",
       "\t444 &  444 & 2059 CHARLES STREET       & 10/23/2019 & 1465000 &   6 & 1397 & 2019 &   0 & 2332.11\\\\\n",
       "\t1193 & 1193 & 3234 PRINCE EDWARD STREET & 3/9/2020   &  950000 &  26 & 1601 & 1912 & 108 & 2382.36\\\\\n",
       "\t683 &  683 & 1750-1752 E 5TH AVENUE    & 11/4/2019  & 2240000 &   4 & 2986 & 1910 & 109 & 2398.00\\\\\n",
       "\t237 &  237 & 2327 COLLINGWOOD STREET   & 1/31/2020  & 1900000 &  19 & 2644 & 1912 & 108 & 2400.00\\\\\n",
       "\t1121 & 1121 & 120 E 24TH AVENUE         & 11/12/2019 & 1650000 &   7 & 1860 & 1910 & 109 & 2416.35\\\\\n",
       "\t⋮ & ⋮ & ⋮ & ⋮ & ⋮ & ⋮ & ⋮ & ⋮ & ⋮ & ⋮\\\\\n",
       "\t494 &  494 & 850 W 32ND AVENUE         & 11/29/2019 & 2602000 &  42 & 2772 & 1956 & 64 &  7650.00\\\\\n",
       "\t205 &  205 & 1810 W 61ST AVENUE        & 9/30/2019  & 2388000 & 120 & 3146 & 1967 & 53 &  7670.00\\\\\n",
       "\t918 &  918 & 1950 NANTON AVENUE        & 10/18/2019 & 3000000 &   4 & 4158 & 1920 & 99 &  7732.50\\\\\n",
       "\t212 &  212 & 6388 GRANVILLE STREET     & 5/29/2019  & 2228000 &  30 & 3363 & 1945 & 74 &  7750.00\\\\\n",
       "\t1096 & 1096 & 6579 MAPLE STREET         & 9/18/2019  & 2700000 &   8 & 2645 & 1922 & 97 &  7789.60\\\\\n",
       "\t1277 & 1277 & 3892 W 50TH AVENUE        & 11/1/2019  & 2135000 & 125 & 1980 & 1948 & 72 &  7809.00\\\\\n",
       "\t1156 & 1156 & 3282 W 33RD AVENUE        & 9/20/2019  & 2450000 &  81 & 3059 & 1930 & 89 &  7810.00\\\\\n",
       "\t513 &  513 & 4277 KEVIN PLACE          & 7/30/2019  & 2770000 &  10 & 3359 & 1971 & 48 &  8133.00\\\\\n",
       "\t873 &  873 & 660 E 52ND AVENUE         & 7/11/2019  & 2360000 & 225 & 3342 & 1980 & 40 &  8174.00\\\\\n",
       "\t392 &  392 & 6850 LAUREL STREET        & 6/11/2019  & 2880000 &  68 & 3475 & 1957 & 62 &  8265.00\\\\\n",
       "\t310 &  310 & 7061 CYPRESS STREET       & 5/29/2019  & 3000000 &  24 & 3602 & 1928 & 91 &  8580.00\\\\\n",
       "\t1287 & 1287 & 7087 CYPRESS STREET       & 5/30/2019  & 3000000 &   6 & 4040 & 1928 & 91 &  8580.00\\\\\n",
       "\t1219 & 1219 & 5750 ATHLONE STREET       & 7/12/2019  & 2700000 &   4 & 3300 & 1927 & 92 &  8700.00\\\\\n",
       "\t1248 & 1248 & 2475 E 54TH AVENUE        & 2/19/2020  & 1950000 &  65 & 3850 & 1981 & 39 &  8745.00\\\\\n",
       "\t1191 & 1191 & 6483 WILTSHIRE STREET     & 11/1/2019  & 2700000 & 114 & 3841 & 1928 & 92 &  8775.00\\\\\n",
       "\t576 &  576 & 3332 DEERING ISLAND PLACE & 6/1/2019   & 2800000 & 138 & 3422 & 1992 & 27 &  8783.00\\\\\n",
       "\t44 &   44 & 1576 W 16TH AVENUE        & 7/3/2019   & 2800000 & 136 & 3095 & 1946 & 73 &  8871.25\\\\\n",
       "\t1068 & 1068 & 5588 HOLLAND STREET       & 9/9/2019   & 2800000 &  55 & 2816 & 1936 & 83 &  8877.00\\\\\n",
       "\t3 &    3 & 2831 W 49TH AVENUE        & 6/18/2019  & 2650000 &   1 & 3108 & 1929 & 90 &  9111.00\\\\\n",
       "\t790 &  790 & 3752 W 50TH AVENUE        & 2/18/2020  & 2480000 &   8 & 2628 & 1957 & 63 &  9141.00\\\\\n",
       "\t942 &  942 & 1108 E 53RD AVENUE        & 6/4/2019   & 1798000 &   4 & 3216 & 1922 & 97 &  9180.00\\\\\n",
       "\t345 &  345 & 92 MALTA PLACE            & 2/8/2019   & 1300000 & 118 & 1680 & 1948 & 71 & 10287.00\\\\\n",
       "\t572 &  572 & 8268 ELLIOTT STREET       & 3/18/2020  & 1935000 &   1 & 3060 & 1967 & 53 & 10348.00\\\\\n",
       "\t835 &  835 & 4450 GRANVILLE STREET     & 1/16/2020  & 2949900 &  18 & 2491 & 1946 & 74 & 10846.28\\\\\n",
       "\t1240 & 1240 & 6816 TODERICK STREET      & 6/19/2019  & 1988000 &   5 & 3745 & 1972 & 47 & 11351.00\\\\\n",
       "\t1057 & 1057 & 3265 SW MARINE DRIVE      & 2/11/2020  & 2825000 &   7 & 6556 & 1962 & 58 & 11400.00\\\\\n",
       "\t280 &  280 & 1666 SW MARINE DRIVE      & 8/14/2019  & 2300000 &  39 & 5615 & 1949 & 70 & 11700.00\\\\\n",
       "\t955 &  955 & 2176 W 57TH AVENUE        & 4/20/2020  & 2950000 &  40 & 3370 & 1957 & 63 & 12883.77\\\\\n",
       "\t138 &  138 & 7225 HUDSON STREET        & 9/17/2019  & 3000000 &  55 & 3503 & 1987 & 32 & 13078.00\\\\\n",
       "\t164 &  164 & 2270 SW MARINE DRIVE      & 3/10/2020  & 2685000 &  70 & 3490 & 1955 & 65 & 15983.00\\\\\n",
       "\\end{tabular}\n"
      ],
      "text/markdown": [
       "\n",
       "A data.frame: 1302 × 9\n",
       "\n",
       "| <!--/--> | Number &lt;int&gt; | Address &lt;chr&gt; | List.Date &lt;chr&gt; | Price &lt;int&gt; | Days.on.market &lt;int&gt; | Total.floor.area &lt;int&gt; | Year.Built &lt;int&gt; | Age &lt;int&gt; | Lot.Size &lt;dbl&gt; |\n",
       "|---|---|---|---|---|---|---|---|---|---|\n",
       "| 844 |  844 | 3669 MAXWELL STREET       | 10/15/2019 | 1155000 |   5 | 1128 | 2012 |   7 | 1300.00 |\n",
       "| 570 |  570 | 703 HEATLEY AVENUE        | 5/11/2020  |  750000 |  10 | 1153 | 1901 | 119 | 1525.00 |\n",
       "| 924 |  924 | 703 HEATLEY AVENUE        | 7/25/2019  |  738000 | 196 | 1153 | 1901 | 119 | 1525.00 |\n",
       "| 137 |  137 | 3451 QUEBEC STREET        | 9/30/2019  | 1415000 |   7 | 1584 | 1905 | 114 | 1600.00 |\n",
       "| 1169 | 1169 | 2082 CHARLES STREET       | 9/24/2019  | 1327000 |  11 | 1263 | 2017 |   2 | 1696.00 |\n",
       "| 1148 | 1148 | 450 SALSBURY DRIVE        | 8/27/2019  | 1310000 |  33 | 2364 | 2010 |   9 | 1762.00 |\n",
       "| 758 |  758 | 4320 MILLER STREET        | 9/30/2019  |  785000 |   6 | 1201 | 1989 |  30 | 1764.00 |\n",
       "| 787 |  787 | 3544 QUEBEC STREET        | 9/9/2019   | 1630000 |   7 | 1860 | 1913 | 106 | 1772.80 |\n",
       "| 943 |  943 | 437 VERNON DRIVE          | 4/22/2020  | 1510000 |  18 | 1892 | 2017 |   3 | 1843.36 |\n",
       "| 515 |  515 | 3532 PRINCE EDWARD STREET | 11/27/2019 | 1600000 |   5 | 1694 | 1910 | 109 | 1952.00 |\n",
       "| 998 |  998 | 3460 QUEBEC STREET        | 10/29/2019 | 1408000 |   7 | 2067 | 1913 | 106 | 1952.00 |\n",
       "| 936 |  936 | 369 E 30TH AVENUE         | 2/20/2020  | 1575000 |   2 | 1905 | 1910 | 110 | 1956.10 |\n",
       "| 401 |  401 | 2311 CYPRESS STREET       | 5/15/2020  | 2560000 |   6 | 2338 | 2007 |  13 | 2000.00 |\n",
       "| 587 |  587 | 1610 SEMLIN DRIVE         | 10/23/2019 | 1490000 |   3 | 1967 | 1910 | 109 | 2013.00 |\n",
       "| 117 |  117 | 3636 W 15TH AVENUE        | 3/16/2020  | 1480000 |  41 | 1005 | 1987 |  33 | 2013.17 |\n",
       "| 958 |  958 | 374 E 26TH AVENUE         | 4/30/2019  |  860000 | 101 | 1000 | 1910 | 109 | 2027.75 |\n",
       "| 38 |   38 | 1829 STEPHENS STREET      | 1/21/2020  | 1430000 |  86 | 1963 | 1911 | 109 | 2045.75 |\n",
       "| 130 |  130 | 1346 E 15TH AVENUE        | 8/9/2019   | 1150000 |  21 | 1504 | 1975 |  44 | 2047.00 |\n",
       "| 1081 | 1081 | 946 E 24TH AVENUE         | 9/16/2019  | 1225000 |   8 | 1670 | 1913 | 106 | 2161.50 |\n",
       "| 148 |  148 | 2244 E PENDER STREET      | 9/9/2019   | 1180000 |  17 | 1798 | 1912 | 107 | 2178.00 |\n",
       "| 701 |  701 | 2904 WINDSOR STREET       | 9/4/2019   | 1070000 |   8 | 2534 | 1910 | 109 | 2178.00 |\n",
       "| 206 |  206 | 407 E KING EDWARD AVENUE  | 4/15/2020  | 1575000 |   5 | 1912 | 1910 | 110 | 2188.00 |\n",
       "| 466 |  466 | 770 E 24TH AVENUE         | 3/9/2020   | 1558000 |   8 | 2232 | 1913 | 107 | 2218.75 |\n",
       "| 691 |  691 | 3620 CAROLINA STREET      | 7/9/2019   | 1478000 |   5 | 1528 | 1970 |  49 | 2244.80 |\n",
       "| 893 |  893 | 2507 E KENT AVENUE NORTH  | 5/10/2020  | 1175000 |   5 | 1443 | 1994 |  26 | 2288.74 |\n",
       "| 444 |  444 | 2059 CHARLES STREET       | 10/23/2019 | 1465000 |   6 | 1397 | 2019 |   0 | 2332.11 |\n",
       "| 1193 | 1193 | 3234 PRINCE EDWARD STREET | 3/9/2020   |  950000 |  26 | 1601 | 1912 | 108 | 2382.36 |\n",
       "| 683 |  683 | 1750-1752 E 5TH AVENUE    | 11/4/2019  | 2240000 |   4 | 2986 | 1910 | 109 | 2398.00 |\n",
       "| 237 |  237 | 2327 COLLINGWOOD STREET   | 1/31/2020  | 1900000 |  19 | 2644 | 1912 | 108 | 2400.00 |\n",
       "| 1121 | 1121 | 120 E 24TH AVENUE         | 11/12/2019 | 1650000 |   7 | 1860 | 1910 | 109 | 2416.35 |\n",
       "| ⋮ | ⋮ | ⋮ | ⋮ | ⋮ | ⋮ | ⋮ | ⋮ | ⋮ | ⋮ |\n",
       "| 494 |  494 | 850 W 32ND AVENUE         | 11/29/2019 | 2602000 |  42 | 2772 | 1956 | 64 |  7650.00 |\n",
       "| 205 |  205 | 1810 W 61ST AVENUE        | 9/30/2019  | 2388000 | 120 | 3146 | 1967 | 53 |  7670.00 |\n",
       "| 918 |  918 | 1950 NANTON AVENUE        | 10/18/2019 | 3000000 |   4 | 4158 | 1920 | 99 |  7732.50 |\n",
       "| 212 |  212 | 6388 GRANVILLE STREET     | 5/29/2019  | 2228000 |  30 | 3363 | 1945 | 74 |  7750.00 |\n",
       "| 1096 | 1096 | 6579 MAPLE STREET         | 9/18/2019  | 2700000 |   8 | 2645 | 1922 | 97 |  7789.60 |\n",
       "| 1277 | 1277 | 3892 W 50TH AVENUE        | 11/1/2019  | 2135000 | 125 | 1980 | 1948 | 72 |  7809.00 |\n",
       "| 1156 | 1156 | 3282 W 33RD AVENUE        | 9/20/2019  | 2450000 |  81 | 3059 | 1930 | 89 |  7810.00 |\n",
       "| 513 |  513 | 4277 KEVIN PLACE          | 7/30/2019  | 2770000 |  10 | 3359 | 1971 | 48 |  8133.00 |\n",
       "| 873 |  873 | 660 E 52ND AVENUE         | 7/11/2019  | 2360000 | 225 | 3342 | 1980 | 40 |  8174.00 |\n",
       "| 392 |  392 | 6850 LAUREL STREET        | 6/11/2019  | 2880000 |  68 | 3475 | 1957 | 62 |  8265.00 |\n",
       "| 310 |  310 | 7061 CYPRESS STREET       | 5/29/2019  | 3000000 |  24 | 3602 | 1928 | 91 |  8580.00 |\n",
       "| 1287 | 1287 | 7087 CYPRESS STREET       | 5/30/2019  | 3000000 |   6 | 4040 | 1928 | 91 |  8580.00 |\n",
       "| 1219 | 1219 | 5750 ATHLONE STREET       | 7/12/2019  | 2700000 |   4 | 3300 | 1927 | 92 |  8700.00 |\n",
       "| 1248 | 1248 | 2475 E 54TH AVENUE        | 2/19/2020  | 1950000 |  65 | 3850 | 1981 | 39 |  8745.00 |\n",
       "| 1191 | 1191 | 6483 WILTSHIRE STREET     | 11/1/2019  | 2700000 | 114 | 3841 | 1928 | 92 |  8775.00 |\n",
       "| 576 |  576 | 3332 DEERING ISLAND PLACE | 6/1/2019   | 2800000 | 138 | 3422 | 1992 | 27 |  8783.00 |\n",
       "| 44 |   44 | 1576 W 16TH AVENUE        | 7/3/2019   | 2800000 | 136 | 3095 | 1946 | 73 |  8871.25 |\n",
       "| 1068 | 1068 | 5588 HOLLAND STREET       | 9/9/2019   | 2800000 |  55 | 2816 | 1936 | 83 |  8877.00 |\n",
       "| 3 |    3 | 2831 W 49TH AVENUE        | 6/18/2019  | 2650000 |   1 | 3108 | 1929 | 90 |  9111.00 |\n",
       "| 790 |  790 | 3752 W 50TH AVENUE        | 2/18/2020  | 2480000 |   8 | 2628 | 1957 | 63 |  9141.00 |\n",
       "| 942 |  942 | 1108 E 53RD AVENUE        | 6/4/2019   | 1798000 |   4 | 3216 | 1922 | 97 |  9180.00 |\n",
       "| 345 |  345 | 92 MALTA PLACE            | 2/8/2019   | 1300000 | 118 | 1680 | 1948 | 71 | 10287.00 |\n",
       "| 572 |  572 | 8268 ELLIOTT STREET       | 3/18/2020  | 1935000 |   1 | 3060 | 1967 | 53 | 10348.00 |\n",
       "| 835 |  835 | 4450 GRANVILLE STREET     | 1/16/2020  | 2949900 |  18 | 2491 | 1946 | 74 | 10846.28 |\n",
       "| 1240 | 1240 | 6816 TODERICK STREET      | 6/19/2019  | 1988000 |   5 | 3745 | 1972 | 47 | 11351.00 |\n",
       "| 1057 | 1057 | 3265 SW MARINE DRIVE      | 2/11/2020  | 2825000 |   7 | 6556 | 1962 | 58 | 11400.00 |\n",
       "| 280 |  280 | 1666 SW MARINE DRIVE      | 8/14/2019  | 2300000 |  39 | 5615 | 1949 | 70 | 11700.00 |\n",
       "| 955 |  955 | 2176 W 57TH AVENUE        | 4/20/2020  | 2950000 |  40 | 3370 | 1957 | 63 | 12883.77 |\n",
       "| 138 |  138 | 7225 HUDSON STREET        | 9/17/2019  | 3000000 |  55 | 3503 | 1987 | 32 | 13078.00 |\n",
       "| 164 |  164 | 2270 SW MARINE DRIVE      | 3/10/2020  | 2685000 |  70 | 3490 | 1955 | 65 | 15983.00 |\n",
       "\n"
      ],
      "text/plain": [
       "     Number Address                   List.Date  Price   Days.on.market\n",
       "844   844   3669 MAXWELL STREET       10/15/2019 1155000   5           \n",
       "570   570   703 HEATLEY AVENUE        5/11/2020   750000  10           \n",
       "924   924   703 HEATLEY AVENUE        7/25/2019   738000 196           \n",
       "137   137   3451 QUEBEC STREET        9/30/2019  1415000   7           \n",
       "1169 1169   2082 CHARLES STREET       9/24/2019  1327000  11           \n",
       "1148 1148   450 SALSBURY DRIVE        8/27/2019  1310000  33           \n",
       "758   758   4320 MILLER STREET        9/30/2019   785000   6           \n",
       "787   787   3544 QUEBEC STREET        9/9/2019   1630000   7           \n",
       "943   943   437 VERNON DRIVE          4/22/2020  1510000  18           \n",
       "515   515   3532 PRINCE EDWARD STREET 11/27/2019 1600000   5           \n",
       "998   998   3460 QUEBEC STREET        10/29/2019 1408000   7           \n",
       "936   936   369 E 30TH AVENUE         2/20/2020  1575000   2           \n",
       "401   401   2311 CYPRESS STREET       5/15/2020  2560000   6           \n",
       "587   587   1610 SEMLIN DRIVE         10/23/2019 1490000   3           \n",
       "117   117   3636 W 15TH AVENUE        3/16/2020  1480000  41           \n",
       "958   958   374 E 26TH AVENUE         4/30/2019   860000 101           \n",
       "38     38   1829 STEPHENS STREET      1/21/2020  1430000  86           \n",
       "130   130   1346 E 15TH AVENUE        8/9/2019   1150000  21           \n",
       "1081 1081   946 E 24TH AVENUE         9/16/2019  1225000   8           \n",
       "148   148   2244 E PENDER STREET      9/9/2019   1180000  17           \n",
       "701   701   2904 WINDSOR STREET       9/4/2019   1070000   8           \n",
       "206   206   407 E KING EDWARD AVENUE  4/15/2020  1575000   5           \n",
       "466   466   770 E 24TH AVENUE         3/9/2020   1558000   8           \n",
       "691   691   3620 CAROLINA STREET      7/9/2019   1478000   5           \n",
       "893   893   2507 E KENT AVENUE NORTH  5/10/2020  1175000   5           \n",
       "444   444   2059 CHARLES STREET       10/23/2019 1465000   6           \n",
       "1193 1193   3234 PRINCE EDWARD STREET 3/9/2020    950000  26           \n",
       "683   683   1750-1752 E 5TH AVENUE    11/4/2019  2240000   4           \n",
       "237   237   2327 COLLINGWOOD STREET   1/31/2020  1900000  19           \n",
       "1121 1121   120 E 24TH AVENUE         11/12/2019 1650000   7           \n",
       "⋮    ⋮      ⋮                         ⋮          ⋮       ⋮             \n",
       "494   494   850 W 32ND AVENUE         11/29/2019 2602000  42           \n",
       "205   205   1810 W 61ST AVENUE        9/30/2019  2388000 120           \n",
       "918   918   1950 NANTON AVENUE        10/18/2019 3000000   4           \n",
       "212   212   6388 GRANVILLE STREET     5/29/2019  2228000  30           \n",
       "1096 1096   6579 MAPLE STREET         9/18/2019  2700000   8           \n",
       "1277 1277   3892 W 50TH AVENUE        11/1/2019  2135000 125           \n",
       "1156 1156   3282 W 33RD AVENUE        9/20/2019  2450000  81           \n",
       "513   513   4277 KEVIN PLACE          7/30/2019  2770000  10           \n",
       "873   873   660 E 52ND AVENUE         7/11/2019  2360000 225           \n",
       "392   392   6850 LAUREL STREET        6/11/2019  2880000  68           \n",
       "310   310   7061 CYPRESS STREET       5/29/2019  3000000  24           \n",
       "1287 1287   7087 CYPRESS STREET       5/30/2019  3000000   6           \n",
       "1219 1219   5750 ATHLONE STREET       7/12/2019  2700000   4           \n",
       "1248 1248   2475 E 54TH AVENUE        2/19/2020  1950000  65           \n",
       "1191 1191   6483 WILTSHIRE STREET     11/1/2019  2700000 114           \n",
       "576   576   3332 DEERING ISLAND PLACE 6/1/2019   2800000 138           \n",
       "44     44   1576 W 16TH AVENUE        7/3/2019   2800000 136           \n",
       "1068 1068   5588 HOLLAND STREET       9/9/2019   2800000  55           \n",
       "3       3   2831 W 49TH AVENUE        6/18/2019  2650000   1           \n",
       "790   790   3752 W 50TH AVENUE        2/18/2020  2480000   8           \n",
       "942   942   1108 E 53RD AVENUE        6/4/2019   1798000   4           \n",
       "345   345   92 MALTA PLACE            2/8/2019   1300000 118           \n",
       "572   572   8268 ELLIOTT STREET       3/18/2020  1935000   1           \n",
       "835   835   4450 GRANVILLE STREET     1/16/2020  2949900  18           \n",
       "1240 1240   6816 TODERICK STREET      6/19/2019  1988000   5           \n",
       "1057 1057   3265 SW MARINE DRIVE      2/11/2020  2825000   7           \n",
       "280   280   1666 SW MARINE DRIVE      8/14/2019  2300000  39           \n",
       "955   955   2176 W 57TH AVENUE        4/20/2020  2950000  40           \n",
       "138   138   7225 HUDSON STREET        9/17/2019  3000000  55           \n",
       "164   164   2270 SW MARINE DRIVE      3/10/2020  2685000  70           \n",
       "     Total.floor.area Year.Built Age Lot.Size\n",
       "844  1128             2012         7 1300.00 \n",
       "570  1153             1901       119 1525.00 \n",
       "924  1153             1901       119 1525.00 \n",
       "137  1584             1905       114 1600.00 \n",
       "1169 1263             2017         2 1696.00 \n",
       "1148 2364             2010         9 1762.00 \n",
       "758  1201             1989        30 1764.00 \n",
       "787  1860             1913       106 1772.80 \n",
       "943  1892             2017         3 1843.36 \n",
       "515  1694             1910       109 1952.00 \n",
       "998  2067             1913       106 1952.00 \n",
       "936  1905             1910       110 1956.10 \n",
       "401  2338             2007        13 2000.00 \n",
       "587  1967             1910       109 2013.00 \n",
       "117  1005             1987        33 2013.17 \n",
       "958  1000             1910       109 2027.75 \n",
       "38   1963             1911       109 2045.75 \n",
       "130  1504             1975        44 2047.00 \n",
       "1081 1670             1913       106 2161.50 \n",
       "148  1798             1912       107 2178.00 \n",
       "701  2534             1910       109 2178.00 \n",
       "206  1912             1910       110 2188.00 \n",
       "466  2232             1913       107 2218.75 \n",
       "691  1528             1970        49 2244.80 \n",
       "893  1443             1994        26 2288.74 \n",
       "444  1397             2019         0 2332.11 \n",
       "1193 1601             1912       108 2382.36 \n",
       "683  2986             1910       109 2398.00 \n",
       "237  2644             1912       108 2400.00 \n",
       "1121 1860             1910       109 2416.35 \n",
       "⋮    ⋮                ⋮          ⋮   ⋮       \n",
       "494  2772             1956       64   7650.00\n",
       "205  3146             1967       53   7670.00\n",
       "918  4158             1920       99   7732.50\n",
       "212  3363             1945       74   7750.00\n",
       "1096 2645             1922       97   7789.60\n",
       "1277 1980             1948       72   7809.00\n",
       "1156 3059             1930       89   7810.00\n",
       "513  3359             1971       48   8133.00\n",
       "873  3342             1980       40   8174.00\n",
       "392  3475             1957       62   8265.00\n",
       "310  3602             1928       91   8580.00\n",
       "1287 4040             1928       91   8580.00\n",
       "1219 3300             1927       92   8700.00\n",
       "1248 3850             1981       39   8745.00\n",
       "1191 3841             1928       92   8775.00\n",
       "576  3422             1992       27   8783.00\n",
       "44   3095             1946       73   8871.25\n",
       "1068 2816             1936       83   8877.00\n",
       "3    3108             1929       90   9111.00\n",
       "790  2628             1957       63   9141.00\n",
       "942  3216             1922       97   9180.00\n",
       "345  1680             1948       71  10287.00\n",
       "572  3060             1967       53  10348.00\n",
       "835  2491             1946       74  10846.28\n",
       "1240 3745             1972       47  11351.00\n",
       "1057 6556             1962       58  11400.00\n",
       "280  5615             1949       70  11700.00\n",
       "955  3370             1957       63  12883.77\n",
       "138  3503             1987       32  13078.00\n",
       "164  3490             1955       65  15983.00"
      ]
     },
     "metadata": {},
     "output_type": "display_data"
    },
    {
     "data": {
      "image/png": "[encoded data removed]",
      "text/plain": [
       "Plot with title \"Price vs. Lot Size\""
      ]
     },
     "metadata": {
      "image/png": {
       "height": 420,
       "width": 420
      }
     },
     "output_type": "display_data"
    }
   ],
   "source": [
    "#Plot 4: Price and Lot size\n",
    "lotsize.price = plot(Price ~ Lot.Size, data = mydata,\n",
    "                    main = \"Price vs. Lot Size\", xlab = \"Lot Size (Sq.Ft)\", ylab = \"Price($CAD)\") #Create a scatterplot of the association between Price and Lot size. Using Log() to make the explanatary variable more spreadout\n",
    "lines(lowess(mydata$Lot.Size, mydata$Price, delta=0.1), col=\"red\") #Creat a lowess line to see potential form\n",
    "cor(mydata$Lot.Size, mydata$Price) #Check the correlation between two variables\n",
    "mydata[with (mydata, order(mydata$Lot.Size)), ] #order the dataframe by Lot Size \n",
    "points(10287,1300000, pch=16, col=\"red\")\n",
    "points(10348,1935000, pch=16, col=\"red\")\n",
    "points(11700,2300000, pch=16, col=\"red\")\n",
    "points(11351,1988000, pch=16, col=\"red\")#plot the outliers in red"
   ]
  },
  {
   "cell_type": "markdown",
   "metadata": {},
   "source": [
    "The analysis of the association between prices and the four explanatory variables involved assessing form, direction, strength, and outliers, as observed in the scatterplots:\n",
    "1. Form:\n",
    "A linear relationship exists between price and total floor areas, and between price and lot size. This matches our assumptions as the price of a house are directly related to its area and lot size. No linear relationship is found between price and each of the other two variables (Days on market and age).\n",
    "2. Direction:\n",
    "Both total floor areas and lot size have positive associations with price, which means that as either one of the two variables increases, the price increases. This matches our assumptions as prices normally go up with larger areas and lots. \n",
    "3. Strength:\n",
    "The correlation coefficient between total floor areas and price is 0.585, which presents a moderate association. Normally the price of the house should be strongly correlated with its area. However, this is not the case here. It could result from the other variables not considered in this model, such as location, condition, and neighborhood. The correlation coefficient between lot size and price is 0.413, which presents a weak association. This is understandable as buyers normally do not weigh too much on the lot size.\n",
    "4. Outliers:\n",
    "Four outliers have been identified in area.price plot. They all have a lower price compared to their total floor areas. This may be due to the fact that they are at least 58 years old and their conditions are below average. The same reasoning may apply to the outliers of lotsize.area plot as they are at least 47 years old."
   ]
  },
  {
   "cell_type": "markdown",
   "metadata": {},
   "source": [
    "---\n",
    "<div class=\"alert alert-block alert-warning\">\n",
    "<a id=\"Model_fit\"></a>\n",
    "    \n",
    "# Model fit to training data, checking assumptions\n"
   ]
  },
  {
   "cell_type": "markdown",
   "metadata": {},
   "source": [
    "Currently the equation for the model is:\n",
    "Y = b0 + b1*x1 + b2*x2 + b3*x3 + b4*x4\n",
    "where Y is the price of house. \n",
    "Based on our exploratory data analysis, there are linear relationships between price and total floor areas, and between price and lot size. To test whether linear relationships exisit between price and days on market and between price and age, we will transform the days on market and age variables. Furthermore, the plot for price vs. lot size is still left-skewed, we will also do transformations on lot size and total floor area to see if there is clearer linear relationship. "
   ]
  },
  {
   "cell_type": "code",
   "execution_count": 7,
   "metadata": {
    "scrolled": true
   },
   "outputs": [
    {
     "data": {
      "text/html": [
       "<table class=\"dataframe\">\n",
       "<caption>A data.frame: 1042 × 9</caption>\n",
       "<thead>\n",
       "\t<tr><th></th><th scope=col>Number</th><th scope=col>Address</th><th scope=col>List.Date</th><th scope=col>Price</th><th scope=col>Days.on.market</th><th scope=col>Total.floor.area</th><th scope=col>Year.Built</th><th scope=col>Age</th><th scope=col>Lot.Size</th></tr>\n",
       "\t<tr><th></th><th scope=col>&lt;int&gt;</th><th scope=col>&lt;chr&gt;</th><th scope=col>&lt;chr&gt;</th><th scope=col>&lt;int&gt;</th><th scope=col>&lt;int&gt;</th><th scope=col>&lt;int&gt;</th><th scope=col>&lt;int&gt;</th><th scope=col>&lt;int&gt;</th><th scope=col>&lt;dbl&gt;</th></tr>\n",
       "</thead>\n",
       "<tbody>\n",
       "\t<tr><th scope=row>1</th><td> 1</td><td>3178 GRAVELEY STREET     </td><td>5/8/2020  </td><td>1500000</td><td> 18</td><td>2447</td><td>1946</td><td> 74</td><td>5674.00</td></tr>\n",
       "\t<tr><th scope=row>2</th><td> 2</td><td>1438 E 28TH AVENUE       </td><td>1/22/2020 </td><td>1300000</td><td>  7</td><td>2146</td><td>1982</td><td> 38</td><td>3631.98</td></tr>\n",
       "\t<tr><th scope=row>3</th><td> 3</td><td>2831 W 49TH AVENUE       </td><td>6/18/2019 </td><td>2650000</td><td>  1</td><td>3108</td><td>1929</td><td> 90</td><td>9111.00</td></tr>\n",
       "\t<tr><th scope=row>4</th><td> 4</td><td>2645 TRIUMPH STREET      </td><td>6/18/2019 </td><td>1385000</td><td> 28</td><td>2602</td><td>1922</td><td> 97</td><td>4022.70</td></tr>\n",
       "\t<tr><th scope=row>5</th><td> 5</td><td>741-743 E 10TH AVENUE    </td><td>11/28/2019</td><td>1590000</td><td> 17</td><td>1843</td><td>1970</td><td> 49</td><td>4026.00</td></tr>\n",
       "\t<tr><th scope=row>6</th><td> 6</td><td>86 W 21ST AVENUE         </td><td>3/3/2020  </td><td>2565000</td><td>  7</td><td>2439</td><td>1989</td><td> 31</td><td>4026.00</td></tr>\n",
       "\t<tr><th scope=row>7</th><td> 7</td><td>2418 E 54TH AVENUE       </td><td>8/12/2019 </td><td>1303000</td><td>  9</td><td>2100</td><td>1979</td><td> 40</td><td>3298.48</td></tr>\n",
       "\t<tr><th scope=row>8</th><td> 8</td><td>1787 E 57TH AVENUE       </td><td>6/13/2019 </td><td>1150000</td><td> 10</td><td>1900</td><td>1950</td><td> 69</td><td>6574.82</td></tr>\n",
       "\t<tr><th scope=row>9</th><td> 9</td><td>2926 TRIMBLE STREET      </td><td>8/16/2019 </td><td>2500000</td><td> 10</td><td>2133</td><td>2005</td><td> 14</td><td>3360.00</td></tr>\n",
       "\t<tr><th scope=row>10</th><td>10</td><td>466 E 60TH AVENUE        </td><td>10/17/2019</td><td>2400000</td><td> 44</td><td>3989</td><td>2019</td><td>  0</td><td>4412.00</td></tr>\n",
       "\t<tr><th scope=row>11</th><td>11</td><td>150 W 42ND AVENUE        </td><td>10/24/2019</td><td>2870000</td><td> 22</td><td>3509</td><td>1995</td><td> 24</td><td>5859.00</td></tr>\n",
       "\t<tr><th scope=row>12</th><td>12</td><td>4010 INVERNESS STREET    </td><td>9/23/2019 </td><td>1355000</td><td> 71</td><td>1902</td><td>1926</td><td> 93</td><td>3196.85</td></tr>\n",
       "\t<tr><th scope=row>13</th><td>13</td><td>8233 FRENCH STREET       </td><td>3/20/2019 </td><td>1638000</td><td>168</td><td>2317</td><td>1988</td><td> 31</td><td>3752.10</td></tr>\n",
       "\t<tr><th scope=row>14</th><td>14</td><td>2855 W 38TH AVENUE       </td><td>5/25/2020 </td><td>2880000</td><td>  2</td><td>2286</td><td>1941</td><td> 79</td><td>5808.00</td></tr>\n",
       "\t<tr><th scope=row>15</th><td>15</td><td>3238 E PENDER STREET     </td><td>2/11/2020 </td><td>1270000</td><td>  1</td><td>3128</td><td>1910</td><td>110</td><td>5424.00</td></tr>\n",
       "\t<tr><th scope=row>16</th><td>16</td><td>4329 PERRY STREET        </td><td>2/3/2020  </td><td>1175000</td><td> 25</td><td>1368</td><td>1948</td><td> 72</td><td>3644.10</td></tr>\n",
       "\t<tr><th scope=row>17</th><td>17</td><td>2907 W 30TH AVENUE       </td><td>10/30/2019</td><td>2725000</td><td> 12</td><td>3222</td><td>1936</td><td> 83</td><td>5676.75</td></tr>\n",
       "\t<tr><th scope=row>18</th><td>18</td><td>2095 E 28TH AVENUE       </td><td>1/5/2020  </td><td>1910000</td><td> 37</td><td>3011</td><td>2020</td><td>  0</td><td>3465.00</td></tr>\n",
       "\t<tr><th scope=row>19</th><td>19</td><td>4030 PRINCE ALBERT STREET</td><td>1/6/2020  </td><td>1181000</td><td> 60</td><td>1929</td><td>1923</td><td> 97</td><td>3484.80</td></tr>\n",
       "\t<tr><th scope=row>20</th><td>20</td><td>2241 E 4TH AVENUE        </td><td>3/23/2020 </td><td>2489000</td><td>  4</td><td>3452</td><td>2001</td><td> 19</td><td>4550.00</td></tr>\n",
       "\t<tr><th scope=row>21</th><td>21</td><td>6168 COMMERCIAL STREET   </td><td>8/7/2019  </td><td>1480000</td><td> 31</td><td>2373</td><td>1992</td><td> 27</td><td>3877.50</td></tr>\n",
       "\t<tr><th scope=row>22</th><td>22</td><td>1431 RUPERT STREET       </td><td>4/23/2019 </td><td>1300000</td><td>108</td><td>2610</td><td>1971</td><td> 48</td><td>4127.13</td></tr>\n",
       "\t<tr><th scope=row>23</th><td>23</td><td>6192 LARCH STREET        </td><td>10/26/2019</td><td>2700000</td><td> 65</td><td>2602</td><td>1925</td><td> 95</td><td>6227.10</td></tr>\n",
       "\t<tr><th scope=row>24</th><td>24</td><td>235 E 62ND AVENUE        </td><td>2/3/2020  </td><td>1300000</td><td> 22</td><td>1920</td><td>1968</td><td> 52</td><td>3267.00</td></tr>\n",
       "\t<tr><th scope=row>25</th><td>25</td><td>342 E 23RD AVENUE        </td><td>7/16/2019 </td><td>2910000</td><td>  7</td><td>3330</td><td>2019</td><td>  0</td><td>4048.00</td></tr>\n",
       "\t<tr><th scope=row>26</th><td>26</td><td>2277 BONNYVALE AVENUE    </td><td>5/28/2019 </td><td>1498000</td><td> 16</td><td>2150</td><td>1953</td><td> 66</td><td>5607.10</td></tr>\n",
       "\t<tr><th scope=row>27</th><td>27</td><td>5515 ARGYLE STREET       </td><td>3/28/2019 </td><td>2240000</td><td>143</td><td>3612</td><td>2019</td><td>  0</td><td>4108.50</td></tr>\n",
       "\t<tr><th scope=row>28</th><td>28</td><td>3775 WINDSOR STREET      </td><td>3/16/2020 </td><td>2275000</td><td>  5</td><td>3316</td><td>1925</td><td> 95</td><td>4026.00</td></tr>\n",
       "\t<tr><th scope=row>29</th><td>29</td><td>2783 E 27TH AVENUE       </td><td>5/22/2019 </td><td>1410000</td><td> 22</td><td>3166</td><td>2019</td><td>  0</td><td>3630.00</td></tr>\n",
       "\t<tr><th scope=row>30</th><td>30</td><td>495 E 60TH AVENUE        </td><td>5/1/2020  </td><td>1240000</td><td>  4</td><td>1600</td><td>1949</td><td> 71</td><td>4082.34</td></tr>\n",
       "\t<tr><th scope=row>⋮</th><td>⋮</td><td>⋮</td><td>⋮</td><td>⋮</td><td>⋮</td><td>⋮</td><td>⋮</td><td>⋮</td><td>⋮</td></tr>\n",
       "\t<tr><th scope=row>1013</th><td>1013</td><td>2705 E 46TH AVENUE       </td><td>8/20/2019 </td><td>1470000</td><td> 22</td><td>2500</td><td>1973</td><td> 46</td><td>4026.00</td></tr>\n",
       "\t<tr><th scope=row>1014</th><td>1014</td><td>3266 GRAVELEY STREET     </td><td>8/26/2019 </td><td>1235000</td><td>  0</td><td>2392</td><td>1964</td><td> 55</td><td>3846.00</td></tr>\n",
       "\t<tr><th scope=row>1015</th><td>1015</td><td>884 E 28TH AVENUE        </td><td>9/3/2019  </td><td>1586000</td><td>  6</td><td>2309</td><td>1932</td><td> 87</td><td>4777.50</td></tr>\n",
       "\t<tr><th scope=row>1016</th><td>1016</td><td>1128 E 26TH AVENUE       </td><td>7/24/2019 </td><td>1260000</td><td> 20</td><td>1808</td><td>1960</td><td> 59</td><td>3696.00</td></tr>\n",
       "\t<tr><th scope=row>1017</th><td>1017</td><td>8490 ADERA STREET        </td><td>5/28/2019 </td><td>2398000</td><td>129</td><td>2760</td><td>2001</td><td> 18</td><td>4583.80</td></tr>\n",
       "\t<tr><th scope=row>1018</th><td>1018</td><td>2425 DUNDAS STREET       </td><td>9/3/2019  </td><td>2000000</td><td> 57</td><td>3448</td><td>2019</td><td>  0</td><td>4026.00</td></tr>\n",
       "\t<tr><th scope=row>1019</th><td>1019</td><td>3275 E 20TH AVENUE       </td><td>6/25/2019 </td><td>1106000</td><td>106</td><td>1485</td><td>1949</td><td> 70</td><td>3620.00</td></tr>\n",
       "\t<tr><th scope=row>1020</th><td>1020</td><td>4314 DUMFRIES STREET     </td><td>11/25/2019</td><td>1558000</td><td> 22</td><td>2091</td><td>1953</td><td> 66</td><td>4989.20</td></tr>\n",
       "\t<tr><th scope=row>1021</th><td>1021</td><td>3910 INVERNESS STREET    </td><td>6/2/2019  </td><td> 960000</td><td>  7</td><td>2142</td><td>1912</td><td>107</td><td>2697.00</td></tr>\n",
       "\t<tr><th scope=row>1022</th><td>1022</td><td>5755 PRINCE ALBERT STREET</td><td>2/11/2020 </td><td>1652000</td><td> 24</td><td>2016</td><td>1952</td><td> 68</td><td>5030.00</td></tr>\n",
       "\t<tr><th scope=row>1023</th><td>1023</td><td>3850 LILLOOET STREET     </td><td>9/30/2019 </td><td>1230000</td><td>  7</td><td>2240</td><td>1974</td><td> 45</td><td>3552.25</td></tr>\n",
       "\t<tr><th scope=row>1024</th><td>1024</td><td>886 E 38TH AVENUE        </td><td>4/15/2019 </td><td>1185000</td><td>114</td><td>2223</td><td>1911</td><td>108</td><td>4026.00</td></tr>\n",
       "\t<tr><th scope=row>1025</th><td>1025</td><td>2148 E 4TH AVENUE        </td><td>7/16/2019 </td><td>1500000</td><td>182</td><td>1695</td><td>1912</td><td>108</td><td>2590.00</td></tr>\n",
       "\t<tr><th scope=row>1026</th><td>1026</td><td>926 E 58TH AVENUE        </td><td>11/6/2019 </td><td>1060000</td><td>  0</td><td>1650</td><td>1946</td><td> 73</td><td>3692.70</td></tr>\n",
       "\t<tr><th scope=row>1027</th><td>1027</td><td>3782 ONTARIO STREET      </td><td>1/31/2020 </td><td>1655000</td><td> 28</td><td>2354</td><td>1929</td><td> 91</td><td>3387.00</td></tr>\n",
       "\t<tr><th scope=row>1028</th><td>1028</td><td>3037 W 42ND AVENUE       </td><td>2/3/2020  </td><td>2605000</td><td>  8</td><td>2487</td><td>1991</td><td> 29</td><td>4050.00</td></tr>\n",
       "\t<tr><th scope=row>1029</th><td>1029</td><td>4010 W 19TH AVENUE       </td><td>1/8/2019  </td><td>2880000</td><td>203</td><td>3004</td><td>1939</td><td> 80</td><td>5795.00</td></tr>\n",
       "\t<tr><th scope=row>1030</th><td>1030</td><td>3980 W 23RD AVENUE       </td><td>6/3/2019  </td><td>3000000</td><td> 15</td><td>2765</td><td>1931</td><td> 88</td><td>4026.00</td></tr>\n",
       "\t<tr><th scope=row>1031</th><td>1031</td><td>3987 TUPPER STREET       </td><td>5/8/2019  </td><td>2350000</td><td>147</td><td>3481</td><td>1929</td><td> 90</td><td>5886.65</td></tr>\n",
       "\t<tr><th scope=row>1032</th><td>1032</td><td>3110 NANAIMO STREET      </td><td>4/1/2019  </td><td>1100000</td><td> 87</td><td>1250</td><td>1943</td><td> 76</td><td>5910.00</td></tr>\n",
       "\t<tr><th scope=row>1033</th><td>1033</td><td>1470 E 28TH AVENUE       </td><td>10/21/2019</td><td>1600000</td><td> 18</td><td>3188</td><td>1970</td><td> 49</td><td>6176.00</td></tr>\n",
       "\t<tr><th scope=row>1034</th><td>1034</td><td>2504 E 1ST AVENUE        </td><td>4/23/2019 </td><td>1185000</td><td> 54</td><td>2308</td><td>1956</td><td> 63</td><td>4483.00</td></tr>\n",
       "\t<tr><th scope=row>1035</th><td>1035</td><td>7312 VICTORIA DRIVE      </td><td>7/17/2019 </td><td>1500000</td><td> 30</td><td>2101</td><td>1941</td><td> 78</td><td>7058.04</td></tr>\n",
       "\t<tr><th scope=row>1036</th><td>1036</td><td>3981 W 11TH AVENUE       </td><td>1/23/2020 </td><td>2798000</td><td> 10</td><td>2498</td><td>1925</td><td> 95</td><td>4029.00</td></tr>\n",
       "\t<tr><th scope=row>1037</th><td>1037</td><td>2539 E 18TH AVENUE       </td><td>9/19/2019 </td><td>1245000</td><td> 45</td><td>1660</td><td>1942</td><td> 77</td><td>4105.00</td></tr>\n",
       "\t<tr><th scope=row>1038</th><td>1038</td><td>3169 WATERLOO STREET     </td><td>7/22/2019 </td><td>2456000</td><td>  5</td><td>3303</td><td>1990</td><td> 29</td><td>5517.00</td></tr>\n",
       "\t<tr><th scope=row>1039</th><td>1039</td><td>4435 RUPERT STREET       </td><td>8/6/2019  </td><td>1220000</td><td> 42</td><td>1857</td><td>1953</td><td> 66</td><td>4573.00</td></tr>\n",
       "\t<tr><th scope=row>1040</th><td>1040</td><td>2606 E 5TH AVENUE        </td><td>4/29/2019 </td><td>1400000</td><td> 58</td><td>2092</td><td>1942</td><td> 77</td><td>4026.00</td></tr>\n",
       "\t<tr><th scope=row>1041</th><td>1041</td><td>1175 WAVERLEY AVENUE     </td><td>6/4/2019  </td><td>1350000</td><td> 50</td><td>2732</td><td>1971</td><td> 48</td><td>6093.00</td></tr>\n",
       "\t<tr><th scope=row>1042</th><td>1042</td><td>329 E 24TH AVENUE        </td><td>2/26/2020 </td><td>1950000</td><td>  4</td><td>2152</td><td>1910</td><td>110</td><td>4057.00</td></tr>\n",
       "</tbody>\n",
       "</table>\n"
      ],
      "text/latex": [
       "A data.frame: 1042 × 9\n",
       "\\begin{tabular}{r|lllllllll}\n",
       "  & Number & Address & List.Date & Price & Days.on.market & Total.floor.area & Year.Built & Age & Lot.Size\\\\\n",
       "  & <int> & <chr> & <chr> & <int> & <int> & <int> & <int> & <int> & <dbl>\\\\\n",
       "\\hline\n",
       "\t1 &  1 & 3178 GRAVELEY STREET      & 5/8/2020   & 1500000 &  18 & 2447 & 1946 &  74 & 5674.00\\\\\n",
       "\t2 &  2 & 1438 E 28TH AVENUE        & 1/22/2020  & 1300000 &   7 & 2146 & 1982 &  38 & 3631.98\\\\\n",
       "\t3 &  3 & 2831 W 49TH AVENUE        & 6/18/2019  & 2650000 &   1 & 3108 & 1929 &  90 & 9111.00\\\\\n",
       "\t4 &  4 & 2645 TRIUMPH STREET       & 6/18/2019  & 1385000 &  28 & 2602 & 1922 &  97 & 4022.70\\\\\n",
       "\t5 &  5 & 741-743 E 10TH AVENUE     & 11/28/2019 & 1590000 &  17 & 1843 & 1970 &  49 & 4026.00\\\\\n",
       "\t6 &  6 & 86 W 21ST AVENUE          & 3/3/2020   & 2565000 &   7 & 2439 & 1989 &  31 & 4026.00\\\\\n",
       "\t7 &  7 & 2418 E 54TH AVENUE        & 8/12/2019  & 1303000 &   9 & 2100 & 1979 &  40 & 3298.48\\\\\n",
       "\t8 &  8 & 1787 E 57TH AVENUE        & 6/13/2019  & 1150000 &  10 & 1900 & 1950 &  69 & 6574.82\\\\\n",
       "\t9 &  9 & 2926 TRIMBLE STREET       & 8/16/2019  & 2500000 &  10 & 2133 & 2005 &  14 & 3360.00\\\\\n",
       "\t10 & 10 & 466 E 60TH AVENUE         & 10/17/2019 & 2400000 &  44 & 3989 & 2019 &   0 & 4412.00\\\\\n",
       "\t11 & 11 & 150 W 42ND AVENUE         & 10/24/2019 & 2870000 &  22 & 3509 & 1995 &  24 & 5859.00\\\\\n",
       "\t12 & 12 & 4010 INVERNESS STREET     & 9/23/2019  & 1355000 &  71 & 1902 & 1926 &  93 & 3196.85\\\\\n",
       "\t13 & 13 & 8233 FRENCH STREET        & 3/20/2019  & 1638000 & 168 & 2317 & 1988 &  31 & 3752.10\\\\\n",
       "\t14 & 14 & 2855 W 38TH AVENUE        & 5/25/2020  & 2880000 &   2 & 2286 & 1941 &  79 & 5808.00\\\\\n",
       "\t15 & 15 & 3238 E PENDER STREET      & 2/11/2020  & 1270000 &   1 & 3128 & 1910 & 110 & 5424.00\\\\\n",
       "\t16 & 16 & 4329 PERRY STREET         & 2/3/2020   & 1175000 &  25 & 1368 & 1948 &  72 & 3644.10\\\\\n",
       "\t17 & 17 & 2907 W 30TH AVENUE        & 10/30/2019 & 2725000 &  12 & 3222 & 1936 &  83 & 5676.75\\\\\n",
       "\t18 & 18 & 2095 E 28TH AVENUE        & 1/5/2020   & 1910000 &  37 & 3011 & 2020 &   0 & 3465.00\\\\\n",
       "\t19 & 19 & 4030 PRINCE ALBERT STREET & 1/6/2020   & 1181000 &  60 & 1929 & 1923 &  97 & 3484.80\\\\\n",
       "\t20 & 20 & 2241 E 4TH AVENUE         & 3/23/2020  & 2489000 &   4 & 3452 & 2001 &  19 & 4550.00\\\\\n",
       "\t21 & 21 & 6168 COMMERCIAL STREET    & 8/7/2019   & 1480000 &  31 & 2373 & 1992 &  27 & 3877.50\\\\\n",
       "\t22 & 22 & 1431 RUPERT STREET        & 4/23/2019  & 1300000 & 108 & 2610 & 1971 &  48 & 4127.13\\\\\n",
       "\t23 & 23 & 6192 LARCH STREET         & 10/26/2019 & 2700000 &  65 & 2602 & 1925 &  95 & 6227.10\\\\\n",
       "\t24 & 24 & 235 E 62ND AVENUE         & 2/3/2020   & 1300000 &  22 & 1920 & 1968 &  52 & 3267.00\\\\\n",
       "\t25 & 25 & 342 E 23RD AVENUE         & 7/16/2019  & 2910000 &   7 & 3330 & 2019 &   0 & 4048.00\\\\\n",
       "\t26 & 26 & 2277 BONNYVALE AVENUE     & 5/28/2019  & 1498000 &  16 & 2150 & 1953 &  66 & 5607.10\\\\\n",
       "\t27 & 27 & 5515 ARGYLE STREET        & 3/28/2019  & 2240000 & 143 & 3612 & 2019 &   0 & 4108.50\\\\\n",
       "\t28 & 28 & 3775 WINDSOR STREET       & 3/16/2020  & 2275000 &   5 & 3316 & 1925 &  95 & 4026.00\\\\\n",
       "\t29 & 29 & 2783 E 27TH AVENUE        & 5/22/2019  & 1410000 &  22 & 3166 & 2019 &   0 & 3630.00\\\\\n",
       "\t30 & 30 & 495 E 60TH AVENUE         & 5/1/2020   & 1240000 &   4 & 1600 & 1949 &  71 & 4082.34\\\\\n",
       "\t⋮ & ⋮ & ⋮ & ⋮ & ⋮ & ⋮ & ⋮ & ⋮ & ⋮ & ⋮\\\\\n",
       "\t1013 & 1013 & 2705 E 46TH AVENUE        & 8/20/2019  & 1470000 &  22 & 2500 & 1973 &  46 & 4026.00\\\\\n",
       "\t1014 & 1014 & 3266 GRAVELEY STREET      & 8/26/2019  & 1235000 &   0 & 2392 & 1964 &  55 & 3846.00\\\\\n",
       "\t1015 & 1015 & 884 E 28TH AVENUE         & 9/3/2019   & 1586000 &   6 & 2309 & 1932 &  87 & 4777.50\\\\\n",
       "\t1016 & 1016 & 1128 E 26TH AVENUE        & 7/24/2019  & 1260000 &  20 & 1808 & 1960 &  59 & 3696.00\\\\\n",
       "\t1017 & 1017 & 8490 ADERA STREET         & 5/28/2019  & 2398000 & 129 & 2760 & 2001 &  18 & 4583.80\\\\\n",
       "\t1018 & 1018 & 2425 DUNDAS STREET        & 9/3/2019   & 2000000 &  57 & 3448 & 2019 &   0 & 4026.00\\\\\n",
       "\t1019 & 1019 & 3275 E 20TH AVENUE        & 6/25/2019  & 1106000 & 106 & 1485 & 1949 &  70 & 3620.00\\\\\n",
       "\t1020 & 1020 & 4314 DUMFRIES STREET      & 11/25/2019 & 1558000 &  22 & 2091 & 1953 &  66 & 4989.20\\\\\n",
       "\t1021 & 1021 & 3910 INVERNESS STREET     & 6/2/2019   &  960000 &   7 & 2142 & 1912 & 107 & 2697.00\\\\\n",
       "\t1022 & 1022 & 5755 PRINCE ALBERT STREET & 2/11/2020  & 1652000 &  24 & 2016 & 1952 &  68 & 5030.00\\\\\n",
       "\t1023 & 1023 & 3850 LILLOOET STREET      & 9/30/2019  & 1230000 &   7 & 2240 & 1974 &  45 & 3552.25\\\\\n",
       "\t1024 & 1024 & 886 E 38TH AVENUE         & 4/15/2019  & 1185000 & 114 & 2223 & 1911 & 108 & 4026.00\\\\\n",
       "\t1025 & 1025 & 2148 E 4TH AVENUE         & 7/16/2019  & 1500000 & 182 & 1695 & 1912 & 108 & 2590.00\\\\\n",
       "\t1026 & 1026 & 926 E 58TH AVENUE         & 11/6/2019  & 1060000 &   0 & 1650 & 1946 &  73 & 3692.70\\\\\n",
       "\t1027 & 1027 & 3782 ONTARIO STREET       & 1/31/2020  & 1655000 &  28 & 2354 & 1929 &  91 & 3387.00\\\\\n",
       "\t1028 & 1028 & 3037 W 42ND AVENUE        & 2/3/2020   & 2605000 &   8 & 2487 & 1991 &  29 & 4050.00\\\\\n",
       "\t1029 & 1029 & 4010 W 19TH AVENUE        & 1/8/2019   & 2880000 & 203 & 3004 & 1939 &  80 & 5795.00\\\\\n",
       "\t1030 & 1030 & 3980 W 23RD AVENUE        & 6/3/2019   & 3000000 &  15 & 2765 & 1931 &  88 & 4026.00\\\\\n",
       "\t1031 & 1031 & 3987 TUPPER STREET        & 5/8/2019   & 2350000 & 147 & 3481 & 1929 &  90 & 5886.65\\\\\n",
       "\t1032 & 1032 & 3110 NANAIMO STREET       & 4/1/2019   & 1100000 &  87 & 1250 & 1943 &  76 & 5910.00\\\\\n",
       "\t1033 & 1033 & 1470 E 28TH AVENUE        & 10/21/2019 & 1600000 &  18 & 3188 & 1970 &  49 & 6176.00\\\\\n",
       "\t1034 & 1034 & 2504 E 1ST AVENUE         & 4/23/2019  & 1185000 &  54 & 2308 & 1956 &  63 & 4483.00\\\\\n",
       "\t1035 & 1035 & 7312 VICTORIA DRIVE       & 7/17/2019  & 1500000 &  30 & 2101 & 1941 &  78 & 7058.04\\\\\n",
       "\t1036 & 1036 & 3981 W 11TH AVENUE        & 1/23/2020  & 2798000 &  10 & 2498 & 1925 &  95 & 4029.00\\\\\n",
       "\t1037 & 1037 & 2539 E 18TH AVENUE        & 9/19/2019  & 1245000 &  45 & 1660 & 1942 &  77 & 4105.00\\\\\n",
       "\t1038 & 1038 & 3169 WATERLOO STREET      & 7/22/2019  & 2456000 &   5 & 3303 & 1990 &  29 & 5517.00\\\\\n",
       "\t1039 & 1039 & 4435 RUPERT STREET        & 8/6/2019   & 1220000 &  42 & 1857 & 1953 &  66 & 4573.00\\\\\n",
       "\t1040 & 1040 & 2606 E 5TH AVENUE         & 4/29/2019  & 1400000 &  58 & 2092 & 1942 &  77 & 4026.00\\\\\n",
       "\t1041 & 1041 & 1175 WAVERLEY AVENUE      & 6/4/2019   & 1350000 &  50 & 2732 & 1971 &  48 & 6093.00\\\\\n",
       "\t1042 & 1042 & 329 E 24TH AVENUE         & 2/26/2020  & 1950000 &   4 & 2152 & 1910 & 110 & 4057.00\\\\\n",
       "\\end{tabular}\n"
      ],
      "text/markdown": [
       "\n",
       "A data.frame: 1042 × 9\n",
       "\n",
       "| <!--/--> | Number &lt;int&gt; | Address &lt;chr&gt; | List.Date &lt;chr&gt; | Price &lt;int&gt; | Days.on.market &lt;int&gt; | Total.floor.area &lt;int&gt; | Year.Built &lt;int&gt; | Age &lt;int&gt; | Lot.Size &lt;dbl&gt; |\n",
       "|---|---|---|---|---|---|---|---|---|---|\n",
       "| 1 |  1 | 3178 GRAVELEY STREET      | 5/8/2020   | 1500000 |  18 | 2447 | 1946 |  74 | 5674.00 |\n",
       "| 2 |  2 | 1438 E 28TH AVENUE        | 1/22/2020  | 1300000 |   7 | 2146 | 1982 |  38 | 3631.98 |\n",
       "| 3 |  3 | 2831 W 49TH AVENUE        | 6/18/2019  | 2650000 |   1 | 3108 | 1929 |  90 | 9111.00 |\n",
       "| 4 |  4 | 2645 TRIUMPH STREET       | 6/18/2019  | 1385000 |  28 | 2602 | 1922 |  97 | 4022.70 |\n",
       "| 5 |  5 | 741-743 E 10TH AVENUE     | 11/28/2019 | 1590000 |  17 | 1843 | 1970 |  49 | 4026.00 |\n",
       "| 6 |  6 | 86 W 21ST AVENUE          | 3/3/2020   | 2565000 |   7 | 2439 | 1989 |  31 | 4026.00 |\n",
       "| 7 |  7 | 2418 E 54TH AVENUE        | 8/12/2019  | 1303000 |   9 | 2100 | 1979 |  40 | 3298.48 |\n",
       "| 8 |  8 | 1787 E 57TH AVENUE        | 6/13/2019  | 1150000 |  10 | 1900 | 1950 |  69 | 6574.82 |\n",
       "| 9 |  9 | 2926 TRIMBLE STREET       | 8/16/2019  | 2500000 |  10 | 2133 | 2005 |  14 | 3360.00 |\n",
       "| 10 | 10 | 466 E 60TH AVENUE         | 10/17/2019 | 2400000 |  44 | 3989 | 2019 |   0 | 4412.00 |\n",
       "| 11 | 11 | 150 W 42ND AVENUE         | 10/24/2019 | 2870000 |  22 | 3509 | 1995 |  24 | 5859.00 |\n",
       "| 12 | 12 | 4010 INVERNESS STREET     | 9/23/2019  | 1355000 |  71 | 1902 | 1926 |  93 | 3196.85 |\n",
       "| 13 | 13 | 8233 FRENCH STREET        | 3/20/2019  | 1638000 | 168 | 2317 | 1988 |  31 | 3752.10 |\n",
       "| 14 | 14 | 2855 W 38TH AVENUE        | 5/25/2020  | 2880000 |   2 | 2286 | 1941 |  79 | 5808.00 |\n",
       "| 15 | 15 | 3238 E PENDER STREET      | 2/11/2020  | 1270000 |   1 | 3128 | 1910 | 110 | 5424.00 |\n",
       "| 16 | 16 | 4329 PERRY STREET         | 2/3/2020   | 1175000 |  25 | 1368 | 1948 |  72 | 3644.10 |\n",
       "| 17 | 17 | 2907 W 30TH AVENUE        | 10/30/2019 | 2725000 |  12 | 3222 | 1936 |  83 | 5676.75 |\n",
       "| 18 | 18 | 2095 E 28TH AVENUE        | 1/5/2020   | 1910000 |  37 | 3011 | 2020 |   0 | 3465.00 |\n",
       "| 19 | 19 | 4030 PRINCE ALBERT STREET | 1/6/2020   | 1181000 |  60 | 1929 | 1923 |  97 | 3484.80 |\n",
       "| 20 | 20 | 2241 E 4TH AVENUE         | 3/23/2020  | 2489000 |   4 | 3452 | 2001 |  19 | 4550.00 |\n",
       "| 21 | 21 | 6168 COMMERCIAL STREET    | 8/7/2019   | 1480000 |  31 | 2373 | 1992 |  27 | 3877.50 |\n",
       "| 22 | 22 | 1431 RUPERT STREET        | 4/23/2019  | 1300000 | 108 | 2610 | 1971 |  48 | 4127.13 |\n",
       "| 23 | 23 | 6192 LARCH STREET         | 10/26/2019 | 2700000 |  65 | 2602 | 1925 |  95 | 6227.10 |\n",
       "| 24 | 24 | 235 E 62ND AVENUE         | 2/3/2020   | 1300000 |  22 | 1920 | 1968 |  52 | 3267.00 |\n",
       "| 25 | 25 | 342 E 23RD AVENUE         | 7/16/2019  | 2910000 |   7 | 3330 | 2019 |   0 | 4048.00 |\n",
       "| 26 | 26 | 2277 BONNYVALE AVENUE     | 5/28/2019  | 1498000 |  16 | 2150 | 1953 |  66 | 5607.10 |\n",
       "| 27 | 27 | 5515 ARGYLE STREET        | 3/28/2019  | 2240000 | 143 | 3612 | 2019 |   0 | 4108.50 |\n",
       "| 28 | 28 | 3775 WINDSOR STREET       | 3/16/2020  | 2275000 |   5 | 3316 | 1925 |  95 | 4026.00 |\n",
       "| 29 | 29 | 2783 E 27TH AVENUE        | 5/22/2019  | 1410000 |  22 | 3166 | 2019 |   0 | 3630.00 |\n",
       "| 30 | 30 | 495 E 60TH AVENUE         | 5/1/2020   | 1240000 |   4 | 1600 | 1949 |  71 | 4082.34 |\n",
       "| ⋮ | ⋮ | ⋮ | ⋮ | ⋮ | ⋮ | ⋮ | ⋮ | ⋮ | ⋮ |\n",
       "| 1013 | 1013 | 2705 E 46TH AVENUE        | 8/20/2019  | 1470000 |  22 | 2500 | 1973 |  46 | 4026.00 |\n",
       "| 1014 | 1014 | 3266 GRAVELEY STREET      | 8/26/2019  | 1235000 |   0 | 2392 | 1964 |  55 | 3846.00 |\n",
       "| 1015 | 1015 | 884 E 28TH AVENUE         | 9/3/2019   | 1586000 |   6 | 2309 | 1932 |  87 | 4777.50 |\n",
       "| 1016 | 1016 | 1128 E 26TH AVENUE        | 7/24/2019  | 1260000 |  20 | 1808 | 1960 |  59 | 3696.00 |\n",
       "| 1017 | 1017 | 8490 ADERA STREET         | 5/28/2019  | 2398000 | 129 | 2760 | 2001 |  18 | 4583.80 |\n",
       "| 1018 | 1018 | 2425 DUNDAS STREET        | 9/3/2019   | 2000000 |  57 | 3448 | 2019 |   0 | 4026.00 |\n",
       "| 1019 | 1019 | 3275 E 20TH AVENUE        | 6/25/2019  | 1106000 | 106 | 1485 | 1949 |  70 | 3620.00 |\n",
       "| 1020 | 1020 | 4314 DUMFRIES STREET      | 11/25/2019 | 1558000 |  22 | 2091 | 1953 |  66 | 4989.20 |\n",
       "| 1021 | 1021 | 3910 INVERNESS STREET     | 6/2/2019   |  960000 |   7 | 2142 | 1912 | 107 | 2697.00 |\n",
       "| 1022 | 1022 | 5755 PRINCE ALBERT STREET | 2/11/2020  | 1652000 |  24 | 2016 | 1952 |  68 | 5030.00 |\n",
       "| 1023 | 1023 | 3850 LILLOOET STREET      | 9/30/2019  | 1230000 |   7 | 2240 | 1974 |  45 | 3552.25 |\n",
       "| 1024 | 1024 | 886 E 38TH AVENUE         | 4/15/2019  | 1185000 | 114 | 2223 | 1911 | 108 | 4026.00 |\n",
       "| 1025 | 1025 | 2148 E 4TH AVENUE         | 7/16/2019  | 1500000 | 182 | 1695 | 1912 | 108 | 2590.00 |\n",
       "| 1026 | 1026 | 926 E 58TH AVENUE         | 11/6/2019  | 1060000 |   0 | 1650 | 1946 |  73 | 3692.70 |\n",
       "| 1027 | 1027 | 3782 ONTARIO STREET       | 1/31/2020  | 1655000 |  28 | 2354 | 1929 |  91 | 3387.00 |\n",
       "| 1028 | 1028 | 3037 W 42ND AVENUE        | 2/3/2020   | 2605000 |   8 | 2487 | 1991 |  29 | 4050.00 |\n",
       "| 1029 | 1029 | 4010 W 19TH AVENUE        | 1/8/2019   | 2880000 | 203 | 3004 | 1939 |  80 | 5795.00 |\n",
       "| 1030 | 1030 | 3980 W 23RD AVENUE        | 6/3/2019   | 3000000 |  15 | 2765 | 1931 |  88 | 4026.00 |\n",
       "| 1031 | 1031 | 3987 TUPPER STREET        | 5/8/2019   | 2350000 | 147 | 3481 | 1929 |  90 | 5886.65 |\n",
       "| 1032 | 1032 | 3110 NANAIMO STREET       | 4/1/2019   | 1100000 |  87 | 1250 | 1943 |  76 | 5910.00 |\n",
       "| 1033 | 1033 | 1470 E 28TH AVENUE        | 10/21/2019 | 1600000 |  18 | 3188 | 1970 |  49 | 6176.00 |\n",
       "| 1034 | 1034 | 2504 E 1ST AVENUE         | 4/23/2019  | 1185000 |  54 | 2308 | 1956 |  63 | 4483.00 |\n",
       "| 1035 | 1035 | 7312 VICTORIA DRIVE       | 7/17/2019  | 1500000 |  30 | 2101 | 1941 |  78 | 7058.04 |\n",
       "| 1036 | 1036 | 3981 W 11TH AVENUE        | 1/23/2020  | 2798000 |  10 | 2498 | 1925 |  95 | 4029.00 |\n",
       "| 1037 | 1037 | 2539 E 18TH AVENUE        | 9/19/2019  | 1245000 |  45 | 1660 | 1942 |  77 | 4105.00 |\n",
       "| 1038 | 1038 | 3169 WATERLOO STREET      | 7/22/2019  | 2456000 |   5 | 3303 | 1990 |  29 | 5517.00 |\n",
       "| 1039 | 1039 | 4435 RUPERT STREET        | 8/6/2019   | 1220000 |  42 | 1857 | 1953 |  66 | 4573.00 |\n",
       "| 1040 | 1040 | 2606 E 5TH AVENUE         | 4/29/2019  | 1400000 |  58 | 2092 | 1942 |  77 | 4026.00 |\n",
       "| 1041 | 1041 | 1175 WAVERLEY AVENUE      | 6/4/2019   | 1350000 |  50 | 2732 | 1971 |  48 | 6093.00 |\n",
       "| 1042 | 1042 | 329 E 24TH AVENUE         | 2/26/2020  | 1950000 |   4 | 2152 | 1910 | 110 | 4057.00 |\n",
       "\n"
      ],
      "text/plain": [
       "     Number Address                   List.Date  Price   Days.on.market\n",
       "1     1     3178 GRAVELEY STREET      5/8/2020   1500000  18           \n",
       "2     2     1438 E 28TH AVENUE        1/22/2020  1300000   7           \n",
       "3     3     2831 W 49TH AVENUE        6/18/2019  2650000   1           \n",
       "4     4     2645 TRIUMPH STREET       6/18/2019  1385000  28           \n",
       "5     5     741-743 E 10TH AVENUE     11/28/2019 1590000  17           \n",
       "6     6     86 W 21ST AVENUE          3/3/2020   2565000   7           \n",
       "7     7     2418 E 54TH AVENUE        8/12/2019  1303000   9           \n",
       "8     8     1787 E 57TH AVENUE        6/13/2019  1150000  10           \n",
       "9     9     2926 TRIMBLE STREET       8/16/2019  2500000  10           \n",
       "10   10     466 E 60TH AVENUE         10/17/2019 2400000  44           \n",
       "11   11     150 W 42ND AVENUE         10/24/2019 2870000  22           \n",
       "12   12     4010 INVERNESS STREET     9/23/2019  1355000  71           \n",
       "13   13     8233 FRENCH STREET        3/20/2019  1638000 168           \n",
       "14   14     2855 W 38TH AVENUE        5/25/2020  2880000   2           \n",
       "15   15     3238 E PENDER STREET      2/11/2020  1270000   1           \n",
       "16   16     4329 PERRY STREET         2/3/2020   1175000  25           \n",
       "17   17     2907 W 30TH AVENUE        10/30/2019 2725000  12           \n",
       "18   18     2095 E 28TH AVENUE        1/5/2020   1910000  37           \n",
       "19   19     4030 PRINCE ALBERT STREET 1/6/2020   1181000  60           \n",
       "20   20     2241 E 4TH AVENUE         3/23/2020  2489000   4           \n",
       "21   21     6168 COMMERCIAL STREET    8/7/2019   1480000  31           \n",
       "22   22     1431 RUPERT STREET        4/23/2019  1300000 108           \n",
       "23   23     6192 LARCH STREET         10/26/2019 2700000  65           \n",
       "24   24     235 E 62ND AVENUE         2/3/2020   1300000  22           \n",
       "25   25     342 E 23RD AVENUE         7/16/2019  2910000   7           \n",
       "26   26     2277 BONNYVALE AVENUE     5/28/2019  1498000  16           \n",
       "27   27     5515 ARGYLE STREET        3/28/2019  2240000 143           \n",
       "28   28     3775 WINDSOR STREET       3/16/2020  2275000   5           \n",
       "29   29     2783 E 27TH AVENUE        5/22/2019  1410000  22           \n",
       "30   30     495 E 60TH AVENUE         5/1/2020   1240000   4           \n",
       "⋮    ⋮      ⋮                         ⋮          ⋮       ⋮             \n",
       "1013 1013   2705 E 46TH AVENUE        8/20/2019  1470000  22           \n",
       "1014 1014   3266 GRAVELEY STREET      8/26/2019  1235000   0           \n",
       "1015 1015   884 E 28TH AVENUE         9/3/2019   1586000   6           \n",
       "1016 1016   1128 E 26TH AVENUE        7/24/2019  1260000  20           \n",
       "1017 1017   8490 ADERA STREET         5/28/2019  2398000 129           \n",
       "1018 1018   2425 DUNDAS STREET        9/3/2019   2000000  57           \n",
       "1019 1019   3275 E 20TH AVENUE        6/25/2019  1106000 106           \n",
       "1020 1020   4314 DUMFRIES STREET      11/25/2019 1558000  22           \n",
       "1021 1021   3910 INVERNESS STREET     6/2/2019    960000   7           \n",
       "1022 1022   5755 PRINCE ALBERT STREET 2/11/2020  1652000  24           \n",
       "1023 1023   3850 LILLOOET STREET      9/30/2019  1230000   7           \n",
       "1024 1024   886 E 38TH AVENUE         4/15/2019  1185000 114           \n",
       "1025 1025   2148 E 4TH AVENUE         7/16/2019  1500000 182           \n",
       "1026 1026   926 E 58TH AVENUE         11/6/2019  1060000   0           \n",
       "1027 1027   3782 ONTARIO STREET       1/31/2020  1655000  28           \n",
       "1028 1028   3037 W 42ND AVENUE        2/3/2020   2605000   8           \n",
       "1029 1029   4010 W 19TH AVENUE        1/8/2019   2880000 203           \n",
       "1030 1030   3980 W 23RD AVENUE        6/3/2019   3000000  15           \n",
       "1031 1031   3987 TUPPER STREET        5/8/2019   2350000 147           \n",
       "1032 1032   3110 NANAIMO STREET       4/1/2019   1100000  87           \n",
       "1033 1033   1470 E 28TH AVENUE        10/21/2019 1600000  18           \n",
       "1034 1034   2504 E 1ST AVENUE         4/23/2019  1185000  54           \n",
       "1035 1035   7312 VICTORIA DRIVE       7/17/2019  1500000  30           \n",
       "1036 1036   3981 W 11TH AVENUE        1/23/2020  2798000  10           \n",
       "1037 1037   2539 E 18TH AVENUE        9/19/2019  1245000  45           \n",
       "1038 1038   3169 WATERLOO STREET      7/22/2019  2456000   5           \n",
       "1039 1039   4435 RUPERT STREET        8/6/2019   1220000  42           \n",
       "1040 1040   2606 E 5TH AVENUE         4/29/2019  1400000  58           \n",
       "1041 1041   1175 WAVERLEY AVENUE      6/4/2019   1350000  50           \n",
       "1042 1042   329 E 24TH AVENUE         2/26/2020  1950000   4           \n",
       "     Total.floor.area Year.Built Age Lot.Size\n",
       "1    2447             1946        74 5674.00 \n",
       "2    2146             1982        38 3631.98 \n",
       "3    3108             1929        90 9111.00 \n",
       "4    2602             1922        97 4022.70 \n",
       "5    1843             1970        49 4026.00 \n",
       "6    2439             1989        31 4026.00 \n",
       "7    2100             1979        40 3298.48 \n",
       "8    1900             1950        69 6574.82 \n",
       "9    2133             2005        14 3360.00 \n",
       "10   3989             2019         0 4412.00 \n",
       "11   3509             1995        24 5859.00 \n",
       "12   1902             1926        93 3196.85 \n",
       "13   2317             1988        31 3752.10 \n",
       "14   2286             1941        79 5808.00 \n",
       "15   3128             1910       110 5424.00 \n",
       "16   1368             1948        72 3644.10 \n",
       "17   3222             1936        83 5676.75 \n",
       "18   3011             2020         0 3465.00 \n",
       "19   1929             1923        97 3484.80 \n",
       "20   3452             2001        19 4550.00 \n",
       "21   2373             1992        27 3877.50 \n",
       "22   2610             1971        48 4127.13 \n",
       "23   2602             1925        95 6227.10 \n",
       "24   1920             1968        52 3267.00 \n",
       "25   3330             2019         0 4048.00 \n",
       "26   2150             1953        66 5607.10 \n",
       "27   3612             2019         0 4108.50 \n",
       "28   3316             1925        95 4026.00 \n",
       "29   3166             2019         0 3630.00 \n",
       "30   1600             1949        71 4082.34 \n",
       "⋮    ⋮                ⋮          ⋮   ⋮       \n",
       "1013 2500             1973        46 4026.00 \n",
       "1014 2392             1964        55 3846.00 \n",
       "1015 2309             1932        87 4777.50 \n",
       "1016 1808             1960        59 3696.00 \n",
       "1017 2760             2001        18 4583.80 \n",
       "1018 3448             2019         0 4026.00 \n",
       "1019 1485             1949        70 3620.00 \n",
       "1020 2091             1953        66 4989.20 \n",
       "1021 2142             1912       107 2697.00 \n",
       "1022 2016             1952        68 5030.00 \n",
       "1023 2240             1974        45 3552.25 \n",
       "1024 2223             1911       108 4026.00 \n",
       "1025 1695             1912       108 2590.00 \n",
       "1026 1650             1946        73 3692.70 \n",
       "1027 2354             1929        91 3387.00 \n",
       "1028 2487             1991        29 4050.00 \n",
       "1029 3004             1939        80 5795.00 \n",
       "1030 2765             1931        88 4026.00 \n",
       "1031 3481             1929        90 5886.65 \n",
       "1032 1250             1943        76 5910.00 \n",
       "1033 3188             1970        49 6176.00 \n",
       "1034 2308             1956        63 4483.00 \n",
       "1035 2101             1941        78 7058.04 \n",
       "1036 2498             1925        95 4029.00 \n",
       "1037 1660             1942        77 4105.00 \n",
       "1038 3303             1990        29 5517.00 \n",
       "1039 1857             1953        66 4573.00 \n",
       "1040 2092             1942        77 4026.00 \n",
       "1041 2732             1971        48 6093.00 \n",
       "1042 2152             1910       110 4057.00 "
      ]
     },
     "metadata": {},
     "output_type": "display_data"
    }
   ],
   "source": [
    "mydata.train"
   ]
  },
  {
   "cell_type": "code",
   "execution_count": 8,
   "metadata": {},
   "outputs": [],
   "source": [
    "# Transformations on Days on Market:\n",
    "\n",
    "mydata.train$Days.on.market.sq <- (mydata.train$Days.on.market)^2\n",
    "mydata.train$Days.on.market.log <- log(mydata.train$Days.on.market)\n",
    "mydata.train$Days.on.market.sqrt <- sqrt(mydata.train$Days.on.market)"
   ]
  },
  {
   "cell_type": "code",
   "execution_count": 9,
   "metadata": {
    "scrolled": true
   },
   "outputs": [
    {
     "data": {
      "image/png": "[encoded data removed]",
      "text/plain": [
       "Plot with title \"Price vs. Days on Market.sqrt\""
      ]
     },
     "metadata": {
      "image/png": {
       "height": 420,
       "width": 420
      }
     },
     "output_type": "display_data"
    }
   ],
   "source": [
    "# Plot on the newly transformed variables\n",
    "par(mfrow=c(2,2))\n",
    "days.log.price = plot(Price ~ Days.on.market.log, data = mydata.train,\n",
    "                 main = \"Price vs. Days on Market.log\", xlab = \"Days on Market.log\", ylab = \"Price($CAD)\") \n",
    "days.sq.price = plot(Price ~ Days.on.market.sq, data = mydata.train,\n",
    "                 main = \"Price vs. Days on Market.sq\", xlab = \"Days on Market.sq\", ylab = \"Price($CAD)\") \n",
    "days.sqrt.price = plot(Price ~ Days.on.market.sqrt, data = mydata.train,\n",
    "                 main = \"Price vs. Days on Market.sqrt\", xlab = \"Days on Market.sqrt\", ylab = \"Price($CAD)\") "
   ]
  },
  {
   "cell_type": "markdown",
   "metadata": {},
   "source": [
    "Based on the plots above, there is no linear relationship between price and days on market, no matter how we transform the days on market variable. Therefore, it is wise to exclude the variable in our final model."
   ]
  },
  {
   "cell_type": "code",
   "execution_count": 10,
   "metadata": {},
   "outputs": [],
   "source": [
    "# Transformations on Age:\n",
    "\n",
    "mydata.train$age.sq <- (mydata.train$Age)^2\n",
    "mydata.train$age.log <- log(mydata.train$Age)\n",
    "mydata.train$age.sqrt <- sqrt(mydata.train$Age)"
   ]
  },
  {
   "cell_type": "code",
   "execution_count": 11,
   "metadata": {
    "scrolled": true
   },
   "outputs": [
    {
     "data": {
      "image/png": "[encoded data removed]",
      "text/plain": [
       "Plot with title \"Price vs. Age.sqrt\""
      ]
     },
     "metadata": {
      "image/png": {
       "height": 420,
       "width": 420
      }
     },
     "output_type": "display_data"
    }
   ],
   "source": [
    "# Plot on the newly transformed variables\n",
    "par(mfrow=c(2,2))\n",
    "age.log.price = plot(Price ~ age.log, data = mydata.train,\n",
    "                 main = \"Price vs. Age.log\", xlab = \"Age.log\", ylab = \"Price($CAD)\") \n",
    "age.sq.price = plot(Price ~ age.sq, data = mydata.train,\n",
    "                 main = \"Price vs. Age.sq\", xlab = \"Age.sq\", ylab = \"Price($CAD)\") \n",
    "age.sqrt.price = plot(Price ~ age.sqrt, data = mydata.train,\n",
    "                 main = \"Price vs. Age.sqrt\", xlab = \"Age.sqrt\", ylab = \"Price($CAD)\") "
   ]
  },
  {
   "cell_type": "markdown",
   "metadata": {},
   "source": [
    "Based on the plots above, there is no linear relationship between price and age, no matter how we transform the days on market variable. Therefore, it is wise to exclude the variable in our final model. "
   ]
  },
  {
   "cell_type": "code",
   "execution_count": 12,
   "metadata": {},
   "outputs": [],
   "source": [
    "# Transformations on lot size:\n",
    "\n",
    "mydata.train$lot.sq <- (mydata.train$Lot.Size)^2\n",
    "mydata.train$lot.log <- log(mydata.train$Lot.Size)\n",
    "mydata.train$lot.sqrt <- sqrt(mydata.train$Lot.Size)"
   ]
  },
  {
   "cell_type": "code",
   "execution_count": 13,
   "metadata": {
    "scrolled": true
   },
   "outputs": [
    {
     "data": {
      "image/png": "[encoded data removed]",
      "text/plain": [
       "Plot with title \"Price vs. LotSize.sqrt\""
      ]
     },
     "metadata": {
      "image/png": {
       "height": 420,
       "width": 420
      }
     },
     "output_type": "display_data"
    }
   ],
   "source": [
    "# Plot on the newly transformed variables\n",
    "par(mfrow=c(2,2))\n",
    "lotsize.price = plot(Price ~ Lot.Size, data = mydata.train,\n",
    "                    main = \"Price vs. Lot Size\", xlab = \"Lot Size (Sq.Ft)\", ylab = \"Price($CAD)\")\n",
    "lot.log.price = plot(Price ~ lot.log, data = mydata.train,\n",
    "                 main = \"Price vs. LotSize.log\", xlab = \"LotSize.log\", ylab = \"Price($CAD)\") \n",
    "lot.sq.price = plot(Price ~ lot.sq, data = mydata.train,\n",
    "                 main = \"Price vs. LotSize.sq\", xlab = \"LotSize.sq\", ylab = \"Price($CAD)\") \n",
    "lot.sqrt.price = plot(Price ~ lot.sqrt, data = mydata.train,\n",
    "                 main = \"Price vs. LotSize.sqrt\", xlab = \"LotSize.sqrt\", ylab = \"Price($CAD)\") "
   ]
  },
  {
   "cell_type": "markdown",
   "metadata": {},
   "source": [
    "The plot for LotSize.log looks better than the original variable and we will compare them later to determine which one fits better for the final model."
   ]
  },
  {
   "cell_type": "code",
   "execution_count": 14,
   "metadata": {},
   "outputs": [],
   "source": [
    "# Transformations on total floor area:\n",
    "\n",
    "mydata.train$floor.sq <- (mydata.train$Total.floor.area)^2\n",
    "mydata.train$floor.log <- log(mydata.train$Total.floor.area)\n",
    "mydata.train$floor.sqrt <- sqrt(mydata.train$Total.floor.area)"
   ]
  },
  {
   "cell_type": "code",
   "execution_count": 15,
   "metadata": {
    "scrolled": true
   },
   "outputs": [
    {
     "data": {
      "image/png": "[encoded data removed]",
      "text/plain": [
       "Plot with title \"Price vs. TotalFloorAreas.sqrt\""
      ]
     },
     "metadata": {
      "image/png": {
       "height": 420,
       "width": 420
      }
     },
     "output_type": "display_data"
    }
   ],
   "source": [
    "# Plot on the newly transformed variables\n",
    "par(mfrow=c(2,2))\n",
    "area.price = plot(Price ~ Total.floor.area, data = mydata.train, \n",
    "                  main = \"Price vs. Total Floor Area\", xlab = \"Total Floor Area (Sq.ft)\", ylab = \"Price($CAD)\")\n",
    "area.log.price = plot(Price ~ floor.log, data = mydata.train,\n",
    "                 main = \"Price vs. TotalFloorAreas.log\", xlab = \"TotalFloorAreas.log\", ylab = \"Price($CAD)\") \n",
    "area.sq.price = plot(Price ~ floor.sq, data = mydata.train,\n",
    "                 main = \"Price vs. TotalFloorAreas.sq\", xlab = \"TotalFloorAreas.sq\", ylab = \"Price($CAD)\") \n",
    "area.sqrt.price = plot(Price ~ floor.sqrt, data = mydata.train,\n",
    "                 main = \"Price vs. TotalFloorAreas.sqrt\", xlab = \"TotalFloorAreas.sqrt\", ylab = \"Price($CAD)\") "
   ]
  },
  {
   "cell_type": "markdown",
   "metadata": {},
   "source": [
    "The plot for Total Floor Areas square root looks better than the original variable and we will compare them later to determine which one fits better for the final model."
   ]
  },
  {
   "cell_type": "markdown",
   "metadata": {},
   "source": [
    "### Fit your final model"
   ]
  },
  {
   "cell_type": "code",
   "execution_count": 16,
   "metadata": {},
   "outputs": [
    {
     "name": "stdout",
     "output_type": "stream",
     "text": [
      "'data.frame':\t1042 obs. of  21 variables:\n",
      " $ Number             : int  1 2 3 4 5 6 7 8 9 10 ...\n",
      " $ Address            : chr  \"3178 GRAVELEY STREET\" \"1438 E 28TH AVENUE\" \"2831 W 49TH AVENUE\" \"2645 TRIUMPH STREET\" ...\n",
      " $ List.Date          : chr  \"5/8/2020\" \"1/22/2020\" \"6/18/2019\" \"6/18/2019\" ...\n",
      " $ Price              : int  1500000 1300000 2650000 1385000 1590000 2565000 1303000 1150000 2500000 2400000 ...\n",
      " $ Days.on.market     : int  18 7 1 28 17 7 9 10 10 44 ...\n",
      " $ Total.floor.area   : int  2447 2146 3108 2602 1843 2439 2100 1900 2133 3989 ...\n",
      " $ Year.Built         : int  1946 1982 1929 1922 1970 1989 1979 1950 2005 2019 ...\n",
      " $ Age                : int  74 38 90 97 49 31 40 69 14 0 ...\n",
      " $ Lot.Size           : num  5674 3632 9111 4023 4026 ...\n",
      " $ Days.on.market.sq  : num  324 49 1 784 289 ...\n",
      " $ Days.on.market.log : num  2.89 1.95 0 3.33 2.83 ...\n",
      " $ Days.on.market.sqrt: num  4.24 2.65 1 5.29 4.12 ...\n",
      " $ age.sq             : num  5476 1444 8100 9409 2401 ...\n",
      " $ age.log            : num  4.3 3.64 4.5 4.57 3.89 ...\n",
      " $ age.sqrt           : num  8.6 6.16 9.49 9.85 7 ...\n",
      " $ lot.sq             : num  32194276 13191279 83010321 16182115 16208676 ...\n",
      " $ lot.log            : num  8.64 8.2 9.12 8.3 8.3 ...\n",
      " $ lot.sqrt           : num  75.3 60.3 95.5 63.4 63.5 ...\n",
      " $ floor.sq           : num  5987809 4605316 9659664 6770404 3396649 ...\n",
      " $ floor.log          : num  7.8 7.67 8.04 7.86 7.52 ...\n",
      " $ floor.sqrt         : num  49.5 46.3 55.7 51 42.9 ...\n"
     ]
    }
   ],
   "source": [
    "# Fit our final model here, use summary to get model co-efficients and other useful output:\n",
    "str(mydata.train)"
   ]
  },
  {
   "cell_type": "code",
   "execution_count": 17,
   "metadata": {},
   "outputs": [
    {
     "data": {
      "text/plain": [
       "\n",
       "Call:\n",
       "lm(formula = Price ~ floor.sqrt + lot.log + floor.sqrt * lot.log, \n",
       "    data = mydata.train)\n",
       "\n",
       "Residuals:\n",
       "     Min       1Q   Median       3Q      Max \n",
       "-1248219  -322120   -83387   285607  1778619 \n",
       "\n",
       "Coefficients:\n",
       "                   Estimate Std. Error t value Pr(>|t|)\n",
       "(Intercept)        -2858775    2483267  -1.151    0.250\n",
       "floor.sqrt            25485      49789   0.512    0.609\n",
       "lot.log              336799     297348   1.133    0.258\n",
       "floor.sqrt:lot.log     1391       5931   0.234    0.815\n",
       "\n",
       "Residual standard error: 430500 on 1038 degrees of freedom\n",
       "Multiple R-squared:  0.3627,\tAdjusted R-squared:  0.3608 \n",
       "F-statistic: 196.9 on 3 and 1038 DF,  p-value: < 2.2e-16\n"
      ]
     },
     "metadata": {},
     "output_type": "display_data"
    },
    {
     "data": {
      "text/plain": [
       "\n",
       "Call:\n",
       "lm(formula = Price ~ floor.sqrt + lot.sqrt + floor.sqrt * lot.sqrt, \n",
       "    data = mydata.train)\n",
       "\n",
       "Residuals:\n",
       "     Min       1Q   Median       3Q      Max \n",
       "-1245268  -319250   -80517   283244  1694542 \n",
       "\n",
       "Coefficients:\n",
       "                      Estimate Std. Error t value Pr(>|t|)    \n",
       "(Intercept)         -1331434.2   602127.8  -2.211 0.027238 *  \n",
       "floor.sqrt             46249.3    11868.8   3.897 0.000104 ***\n",
       "lot.sqrt               19708.1     9138.5   2.157 0.031267 *  \n",
       "floor.sqrt:lot.sqrt     -140.6      176.3  -0.797 0.425516    \n",
       "---\n",
       "Signif. codes:  0 '***' 0.001 '**' 0.01 '*' 0.05 '.' 0.1 ' ' 1\n",
       "\n",
       "Residual standard error: 429100 on 1038 degrees of freedom\n",
       "Multiple R-squared:  0.3667,\tAdjusted R-squared:  0.3649 \n",
       "F-statistic: 200.4 on 3 and 1038 DF,  p-value: < 2.2e-16\n"
      ]
     },
     "metadata": {},
     "output_type": "display_data"
    },
    {
     "data": {
      "text/plain": [
       "\n",
       "Call:\n",
       "lm(formula = Price ~ floor.sqrt + Lot.Size + floor.sqrt * Lot.Size, \n",
       "    data = mydata.train)\n",
       "\n",
       "Residuals:\n",
       "     Min       1Q   Median       3Q      Max \n",
       "-1242877  -316281   -77066   280219  1642392 \n",
       "\n",
       "Coefficients:\n",
       "                      Estimate Std. Error t value Pr(>|t|)    \n",
       "(Intercept)         -9.601e+05  2.995e+05  -3.205  0.00139 ** \n",
       "floor.sqrt           4.730e+04  5.860e+03   8.072  1.9e-15 ***\n",
       "Lot.Size             2.095e+02  6.664e+01   3.144  0.00171 ** \n",
       "floor.sqrt:Lot.Size -2.307e+00  1.248e+00  -1.849  0.06478 .  \n",
       "---\n",
       "Signif. codes:  0 '***' 0.001 '**' 0.01 '*' 0.05 '.' 0.1 ' ' 1\n",
       "\n",
       "Residual standard error: 428100 on 1038 degrees of freedom\n",
       "Multiple R-squared:  0.3696,\tAdjusted R-squared:  0.3678 \n",
       "F-statistic: 202.9 on 3 and 1038 DF,  p-value: < 2.2e-16\n"
      ]
     },
     "metadata": {},
     "output_type": "display_data"
    },
    {
     "data": {
      "text/plain": [
       "\n",
       "Call:\n",
       "lm(formula = Price ~ floor.log + lot.log + floor.log * lot.log, \n",
       "    data = mydata.train)\n",
       "\n",
       "Residuals:\n",
       "     Min       1Q   Median       3Q      Max \n",
       "-1241015  -343011   -75316   289752  2107460 \n",
       "\n",
       "Coefficients:\n",
       "                  Estimate Std. Error t value Pr(>|t|)\n",
       "(Intercept)        3274912    9324189   0.351    0.725\n",
       "floor.log          -684696    1199384  -0.571    0.568\n",
       "lot.log            -925294    1116607  -0.829    0.407\n",
       "floor.log:lot.log   177952     143448   1.241    0.215\n",
       "\n",
       "Residual standard error: 437700 on 1038 degrees of freedom\n",
       "Multiple R-squared:  0.3411,\tAdjusted R-squared:  0.3392 \n",
       "F-statistic: 179.1 on 3 and 1038 DF,  p-value: < 2.2e-16\n"
      ]
     },
     "metadata": {},
     "output_type": "display_data"
    },
    {
     "data": {
      "text/plain": [
       "\n",
       "Call:\n",
       "lm(formula = Price ~ floor.log + lot.sqrt + floor.log * lot.sqrt, \n",
       "    data = mydata.train)\n",
       "\n",
       "Residuals:\n",
       "     Min       1Q   Median       3Q      Max \n",
       "-1236056  -339216   -72465   288144  2100043 \n",
       "\n",
       "Coefficients:\n",
       "                     Estimate Std. Error t value Pr(>|t|)  \n",
       "(Intercept)        -4920470.2  2271204.6  -2.166   0.0305 *\n",
       "floor.log            743548.8   290662.9   2.558   0.0107 *\n",
       "lot.sqrt               7533.6    34516.6   0.218   0.8273  \n",
       "floor.log:lot.sqrt      838.6     4394.6   0.191   0.8487  \n",
       "---\n",
       "Signif. codes:  0 '***' 0.001 '**' 0.01 '*' 0.05 '.' 0.1 ' ' 1\n",
       "\n",
       "Residual standard error: 436500 on 1038 degrees of freedom\n",
       "Multiple R-squared:  0.3447,\tAdjusted R-squared:  0.3428 \n",
       "F-statistic:   182 on 3 and 1038 DF,  p-value: < 2.2e-16\n"
      ]
     },
     "metadata": {},
     "output_type": "display_data"
    },
    {
     "data": {
      "text/plain": [
       "\n",
       "Call:\n",
       "lm(formula = Price ~ floor.log + Lot.Size + floor.log * Lot.Size, \n",
       "    data = mydata.train)\n",
       "\n",
       "Residuals:\n",
       "     Min       1Q   Median       3Q      Max \n",
       "-1232476  -337645   -72617   292715  2114437 \n",
       "\n",
       "Coefficients:\n",
       "                     Estimate Std. Error t value Pr(>|t|)    \n",
       "(Intercept)        -5.871e+06  1.134e+06  -5.176 2.72e-07 ***\n",
       "floor.log           9.271e+05  1.448e+05   6.404 2.29e-10 ***\n",
       "Lot.Size            3.261e+02  2.537e+02   1.285    0.199    \n",
       "floor.log:Lot.Size -2.873e+01  3.204e+01  -0.896    0.370    \n",
       "---\n",
       "Signif. codes:  0 '***' 0.001 '**' 0.01 '*' 0.05 '.' 0.1 ' ' 1\n",
       "\n",
       "Residual standard error: 435900 on 1038 degrees of freedom\n",
       "Multiple R-squared:  0.3464,\tAdjusted R-squared:  0.3446 \n",
       "F-statistic: 183.4 on 3 and 1038 DF,  p-value: < 2.2e-16\n"
      ]
     },
     "metadata": {},
     "output_type": "display_data"
    },
    {
     "data": {
      "text/plain": [
       "\n",
       "Call:\n",
       "lm(formula = Price ~ floor.sq + lot.log + floor.sq * lot.log, \n",
       "    data = mydata.train)\n",
       "\n",
       "Residuals:\n",
       "     Min       1Q   Median       3Q      Max \n",
       "-1224298  -325587   -92191   281111  1284877 \n",
       "\n",
       "Coefficients:\n",
       "                   Estimate Std. Error t value Pr(>|t|)    \n",
       "(Intercept)      -4.384e+06  7.382e+05  -5.939 3.90e-09 ***\n",
       "floor.sq          4.455e-01  9.207e-02   4.839 1.50e-06 ***\n",
       "lot.log           6.803e+05  8.855e+04   7.682 3.61e-14 ***\n",
       "floor.sq:lot.log -4.423e-02  1.081e-02  -4.092 4.61e-05 ***\n",
       "---\n",
       "Signif. codes:  0 '***' 0.001 '**' 0.01 '*' 0.05 '.' 0.1 ' ' 1\n",
       "\n",
       "Residual standard error: 429500 on 1038 degrees of freedom\n",
       "Multiple R-squared:  0.3654,\tAdjusted R-squared:  0.3636 \n",
       "F-statistic: 199.2 on 3 and 1038 DF,  p-value: < 2.2e-16\n"
      ]
     },
     "metadata": {},
     "output_type": "display_data"
    },
    {
     "data": {
      "text/plain": [
       "\n",
       "Call:\n",
       "lm(formula = Price ~ floor.sq + lot.sqrt + floor.sq * lot.sqrt, \n",
       "    data = mydata.train)\n",
       "\n",
       "Residuals:\n",
       "     Min       1Q   Median       3Q      Max \n",
       "-1221425  -322105   -93960   277148  1293767 \n",
       "\n",
       "Coefficients:\n",
       "                    Estimate Std. Error t value Pr(>|t|)    \n",
       "(Intercept)       -1.841e+05  1.751e+05  -1.051    0.293    \n",
       "floor.sq           1.707e-01  2.093e-02   8.155 1.00e-15 ***\n",
       "lot.sqrt           2.262e+04  2.673e+03   8.465  < 2e-16 ***\n",
       "floor.sq:lot.sqrt -1.445e-03  2.914e-04  -4.959 8.28e-07 ***\n",
       "---\n",
       "Signif. codes:  0 '***' 0.001 '**' 0.01 '*' 0.05 '.' 0.1 ' ' 1\n",
       "\n",
       "Residual standard error: 427300 on 1038 degrees of freedom\n",
       "Multiple R-squared:  0.3722,\tAdjusted R-squared:  0.3703 \n",
       "F-statistic: 205.1 on 3 and 1038 DF,  p-value: < 2.2e-16\n"
      ]
     },
     "metadata": {},
     "output_type": "display_data"
    },
    {
     "data": {
      "text/plain": [
       "\n",
       "Call:\n",
       "lm(formula = Price ~ floor.sq + Lot.Size + floor.sq * Lot.Size, \n",
       "    data = mydata.train)\n",
       "\n",
       "Residuals:\n",
       "     Min       1Q   Median       3Q      Max \n",
       "-1215738  -317053   -88104   270629  1295735 \n",
       "\n",
       "Coefficients:\n",
       "                    Estimate Std. Error t value Pr(>|t|)    \n",
       "(Intercept)        5.445e+05  8.553e+04   6.367 2.90e-10 ***\n",
       "floor.sq           1.232e-01  1.018e-02  12.100  < 2e-16 ***\n",
       "Lot.Size           1.727e+02  1.913e+01   9.024  < 2e-16 ***\n",
       "floor.sq:Lot.Size -1.080e-05  1.882e-06  -5.740 1.24e-08 ***\n",
       "---\n",
       "Signif. codes:  0 '***' 0.001 '**' 0.01 '*' 0.05 '.' 0.1 ' ' 1\n",
       "\n",
       "Residual standard error: 425600 on 1038 degrees of freedom\n",
       "Multiple R-squared:  0.377,\tAdjusted R-squared:  0.3752 \n",
       "F-statistic: 209.3 on 3 and 1038 DF,  p-value: < 2.2e-16\n"
      ]
     },
     "metadata": {},
     "output_type": "display_data"
    },
    {
     "data": {
      "text/plain": [
       "\n",
       "Call:\n",
       "lm(formula = Price ~ Total.floor.area + lot.log + Total.floor.area * \n",
       "    lot.log, data = mydata.train)\n",
       "\n",
       "Residuals:\n",
       "     Min       1Q   Median       3Q      Max \n",
       "-1245685  -318964   -83994   288076  1585613 \n",
       "\n",
       "Coefficients:\n",
       "                           Estimate Std. Error t value Pr(>|t|)    \n",
       "(Intercept)              -3.717e+06  1.306e+06  -2.845 0.004522 ** \n",
       "Total.floor.area          9.402e+02  5.008e+02   1.878 0.060721 .  \n",
       "lot.log                   5.422e+05  1.565e+05   3.464 0.000555 ***\n",
       "Total.floor.area:lot.log -6.538e+01  5.938e+01  -1.101 0.271147    \n",
       "---\n",
       "Signif. codes:  0 '***' 0.001 '**' 0.01 '*' 0.05 '.' 0.1 ' ' 1\n",
       "\n",
       "Residual standard error: 427500 on 1038 degrees of freedom\n",
       "Multiple R-squared:  0.3716,\tAdjusted R-squared:  0.3698 \n",
       "F-statistic: 204.6 on 3 and 1038 DF,  p-value: < 2.2e-16\n"
      ]
     },
     "metadata": {},
     "output_type": "display_data"
    },
    {
     "data": {
      "text/plain": [
       "\n",
       "Call:\n",
       "lm(formula = Price ~ Total.floor.area + lot.sqrt + Total.floor.area * \n",
       "    lot.sqrt, data = mydata.train)\n",
       "\n",
       "Residuals:\n",
       "     Min       1Q   Median       3Q      Max \n",
       "-1243905  -312773   -83577   278740  1513745 \n",
       "\n",
       "Coefficients:\n",
       "                            Estimate Std. Error t value Pr(>|t|)    \n",
       "(Intercept)               -5.766e+05  3.150e+05  -1.831   0.0675 .  \n",
       "Total.floor.area           6.290e+02  1.173e+02   5.361 1.02e-07 ***\n",
       "lot.sqrt                   2.123e+04  4.794e+03   4.427 1.06e-05 ***\n",
       "Total.floor.area:lot.sqrt -3.584e+00  1.709e+00  -2.097   0.0362 *  \n",
       "---\n",
       "Signif. codes:  0 '***' 0.001 '**' 0.01 '*' 0.05 '.' 0.1 ' ' 1\n",
       "\n",
       "Residual standard error: 425800 on 1038 degrees of freedom\n",
       "Multiple R-squared:  0.3765,\tAdjusted R-squared:  0.3747 \n",
       "F-statistic: 208.9 on 3 and 1038 DF,  p-value: < 2.2e-16\n"
      ]
     },
     "metadata": {},
     "output_type": "display_data"
    },
    {
     "data": {
      "text/plain": [
       "\n",
       "Call:\n",
       "lm(formula = Price ~ Total.floor.area + Lot.Size + Total.floor.area * \n",
       "    Lot.Size, data = mydata.train)\n",
       "\n",
       "Residuals:\n",
       "     Min       1Q   Median       3Q      Max \n",
       "-1241506  -309967   -82244   273093  1459010 \n",
       "\n",
       "Coefficients:\n",
       "                            Estimate Std. Error t value Pr(>|t|)    \n",
       "(Intercept)                9.182e+03  1.558e+05   0.059  0.95303    \n",
       "Total.floor.area           5.539e+02  5.747e+01   9.637  < 2e-16 ***\n",
       "Lot.Size                   1.839e+02  3.480e+01   5.286 1.53e-07 ***\n",
       "Total.floor.area:Lot.Size -3.611e-02  1.173e-02  -3.079  0.00213 ** \n",
       "---\n",
       "Signif. codes:  0 '***' 0.001 '**' 0.01 '*' 0.05 '.' 0.1 ' ' 1\n",
       "\n",
       "Residual standard error: 424400 on 1038 degrees of freedom\n",
       "Multiple R-squared:  0.3804,\tAdjusted R-squared:  0.3786 \n",
       "F-statistic: 212.4 on 3 and 1038 DF,  p-value: < 2.2e-16\n"
      ]
     },
     "metadata": {},
     "output_type": "display_data"
    }
   ],
   "source": [
    "#testing our models using different forms of total floor area and lot size:\n",
    "z1 <- lm(Price ~ floor.sqrt + lot.log + floor.sqrt * lot.log, data=mydata.train)\n",
    "summary(z1)\n",
    "z2 <- lm(Price ~ floor.sqrt + lot.sqrt + floor.sqrt * lot.sqrt, data=mydata.train)\n",
    "summary(z2)\n",
    "z3 <- lm(Price ~ floor.sqrt + Lot.Size + floor.sqrt * Lot.Size, data=mydata.train)\n",
    "summary(z3)\n",
    "z4 <- lm(Price ~ floor.log + lot.log + floor.log * lot.log, data = mydata.train)\n",
    "summary(z4)\n",
    "z5 <- lm(Price ~ floor.log + lot.sqrt + floor.log * lot.sqrt, data=mydata.train)\n",
    "summary(z5)\n",
    "z6 <- lm(Price ~ floor.log + Lot.Size + floor.log * Lot.Size, data=mydata.train)\n",
    "summary(z6)\n",
    "z7 <- lm(Price ~ floor.sq + lot.log + floor.sq * lot.log, data=mydata.train)\n",
    "summary(z7)\n",
    "z8 <- lm(Price ~ floor.sq + lot.sqrt + floor.sq * lot.sqrt, data=mydata.train)\n",
    "summary(z8)\n",
    "z9 <- lm(Price ~ floor.sq + Lot.Size + floor.sq * Lot.Size, data=mydata.train)\n",
    "summary(z9)\n",
    "z10 <- lm(Price ~ Total.floor.area + lot.log + Total.floor.area * lot.log, data=mydata.train)\n",
    "summary(z10)\n",
    "z11 <- lm(Price ~ Total.floor.area + lot.sqrt + Total.floor.area * lot.sqrt, data=mydata.train)\n",
    "summary(z11)\n",
    "z12 <- lm(Price ~ Total.floor.area + Lot.Size + Total.floor.area * Lot.Size, data=mydata.train)\n",
    "summary(z12)"
   ]
  },
  {
   "cell_type": "code",
   "execution_count": 18,
   "metadata": {
    "scrolled": true
   },
   "outputs": [
    {
     "data": {
      "text/plain": [
       "\n",
       "Call:\n",
       "lm(formula = Price ~ floor.sqrt + lot.log, data = mydata.train)\n",
       "\n",
       "Residuals:\n",
       "     Min       1Q   Median       3Q      Max \n",
       "-1249279  -323357   -83077   284247  1765443 \n",
       "\n",
       "Coefficients:\n",
       "            Estimate Std. Error t value Pr(>|t|)    \n",
       "(Intercept) -3432132     431660  -7.951 4.80e-15 ***\n",
       "floor.sqrt     37149       2058  18.051  < 2e-16 ***\n",
       "lot.log       405287      55542   7.297 5.84e-13 ***\n",
       "---\n",
       "Signif. codes:  0 '***' 0.001 '**' 0.01 '*' 0.05 '.' 0.1 ' ' 1\n",
       "\n",
       "Residual standard error: 430300 on 1039 degrees of freedom\n",
       "Multiple R-squared:  0.3626,\tAdjusted R-squared:  0.3614 \n",
       "F-statistic: 295.6 on 2 and 1039 DF,  p-value: < 2.2e-16\n"
      ]
     },
     "metadata": {},
     "output_type": "display_data"
    },
    {
     "data": {
      "text/plain": [
       "\n",
       "Call:\n",
       "lm(formula = Price ~ floor.sqrt + lot.sqrt, data = mydata.train)\n",
       "\n",
       "Residuals:\n",
       "     Min       1Q   Median       3Q      Max \n",
       "-1241433  -317896   -82036   279336  1746565 \n",
       "\n",
       "Coefficients:\n",
       "            Estimate Std. Error t value Pr(>|t|)    \n",
       "(Intercept)  -859974     113168  -7.599 6.64e-14 ***\n",
       "floor.sqrt     36929       2045  18.056  < 2e-16 ***\n",
       "lot.sqrt       12539       1624   7.721 2.70e-14 ***\n",
       "---\n",
       "Signif. codes:  0 '***' 0.001 '**' 0.01 '*' 0.05 '.' 0.1 ' ' 1\n",
       "\n",
       "Residual standard error: 429000 on 1039 degrees of freedom\n",
       "Multiple R-squared:  0.3663,\tAdjusted R-squared:  0.3651 \n",
       "F-statistic: 300.3 on 2 and 1039 DF,  p-value: < 2.2e-16\n"
      ]
     },
     "metadata": {},
     "output_type": "display_data"
    },
    {
     "data": {
      "text/plain": [
       "\n",
       "Call:\n",
       "lm(formula = Price ~ floor.sqrt + Lot.Size, data = mydata.train)\n",
       "\n",
       "Residuals:\n",
       "     Min       1Q   Median       3Q      Max \n",
       "-1234283  -318773   -78173   275416  1753137 \n",
       "\n",
       "Coefficients:\n",
       "              Estimate Std. Error t value Pr(>|t|)    \n",
       "(Intercept) -433613.71   92874.11  -4.669 3.43e-06 ***\n",
       "floor.sqrt    37133.16    2027.43  18.315  < 2e-16 ***\n",
       "Lot.Size         88.07      11.21   7.856 9.83e-15 ***\n",
       "---\n",
       "Signif. codes:  0 '***' 0.001 '**' 0.01 '*' 0.05 '.' 0.1 ' ' 1\n",
       "\n",
       "Residual standard error: 428600 on 1039 degrees of freedom\n",
       "Multiple R-squared:  0.3675,\tAdjusted R-squared:  0.3663 \n",
       "F-statistic: 301.9 on 2 and 1039 DF,  p-value: < 2.2e-16\n"
      ]
     },
     "metadata": {},
     "output_type": "display_data"
    },
    {
     "data": {
      "text/plain": [
       "\n",
       "Call:\n",
       "lm(formula = Price ~ floor.log + lot.log, data = mydata.train)\n",
       "\n",
       "Residuals:\n",
       "     Min       1Q   Median       3Q      Max \n",
       "-1245389  -345409   -74142   291685  2098264 \n",
       "\n",
       "Coefficients:\n",
       "            Estimate Std. Error t value Pr(>|t|)    \n",
       "(Intercept) -8277380     469483 -17.631  < 2e-16 ***\n",
       "floor.log     801988      47986  16.713  < 2e-16 ***\n",
       "lot.log       458161      55821   8.208 6.63e-16 ***\n",
       "---\n",
       "Signif. codes:  0 '***' 0.001 '**' 0.01 '*' 0.05 '.' 0.1 ' ' 1\n",
       "\n",
       "Residual standard error: 437800 on 1039 degrees of freedom\n",
       "Multiple R-squared:  0.3401,\tAdjusted R-squared:  0.3389 \n",
       "F-statistic: 267.8 on 2 and 1039 DF,  p-value: < 2.2e-16\n"
      ]
     },
     "metadata": {},
     "output_type": "display_data"
    },
    {
     "data": {
      "text/plain": [
       "\n",
       "Call:\n",
       "lm(formula = Price ~ floor.log + lot.sqrt, data = mydata.train)\n",
       "\n",
       "Residuals:\n",
       "     Min       1Q   Median       3Q      Max \n",
       "-1236808  -339490   -73490   287621  2098726 \n",
       "\n",
       "Coefficients:\n",
       "            Estimate Std. Error t value Pr(>|t|)    \n",
       "(Intercept) -5348884     343719 -15.562   <2e-16 ***\n",
       "floor.log     798265      47638  16.757   <2e-16 ***\n",
       "lot.sqrt       14113       1630   8.657   <2e-16 ***\n",
       "---\n",
       "Signif. codes:  0 '***' 0.001 '**' 0.01 '*' 0.05 '.' 0.1 ' ' 1\n",
       "\n",
       "Residual standard error: 436300 on 1039 degrees of freedom\n",
       "Multiple R-squared:  0.3446,\tAdjusted R-squared:  0.3434 \n",
       "F-statistic: 273.2 on 2 and 1039 DF,  p-value: < 2.2e-16\n"
      ]
     },
     "metadata": {},
     "output_type": "display_data"
    },
    {
     "data": {
      "text/plain": [
       "\n",
       "Call:\n",
       "lm(formula = Price ~ floor.log + Lot.Size, data = mydata.train)\n",
       "\n",
       "Residuals:\n",
       "     Min       1Q   Median       3Q      Max \n",
       "-1228938  -334268   -75591   288814  2119382 \n",
       "\n",
       "Coefficients:\n",
       "              Estimate Std. Error t value Pr(>|t|)    \n",
       "(Intercept) -4.905e+06  3.520e+05 -13.936   <2e-16 ***\n",
       "floor.log    8.044e+05  4.723e+04  17.031   <2e-16 ***\n",
       "Lot.Size     9.889e+01  1.126e+01   8.785   <2e-16 ***\n",
       "---\n",
       "Signif. codes:  0 '***' 0.001 '**' 0.01 '*' 0.05 '.' 0.1 ' ' 1\n",
       "\n",
       "Residual standard error: 435900 on 1039 degrees of freedom\n",
       "Multiple R-squared:  0.3459,\tAdjusted R-squared:  0.3447 \n",
       "F-statistic: 274.8 on 2 and 1039 DF,  p-value: < 2.2e-16\n"
      ]
     },
     "metadata": {},
     "output_type": "display_data"
    },
    {
     "data": {
      "text/plain": [
       "\n",
       "Call:\n",
       "lm(formula = Price ~ floor.sq + lot.log, data = mydata.train)\n",
       "\n",
       "Residuals:\n",
       "     Min       1Q   Median       3Q      Max \n",
       "-1608465  -322403   -94916   275124  1366245 \n",
       "\n",
       "Coefficients:\n",
       "              Estimate Std. Error t value Pr(>|t|)    \n",
       "(Intercept) -2.007e+06  4.590e+05  -4.374 1.34e-05 ***\n",
       "floor.sq     6.913e-02  3.926e-03  17.608  < 2e-16 ***\n",
       "lot.log      3.989e+05  5.621e+04   7.096 2.37e-12 ***\n",
       "---\n",
       "Signif. codes:  0 '***' 0.001 '**' 0.01 '*' 0.05 '.' 0.1 ' ' 1\n",
       "\n",
       "Residual standard error: 432800 on 1039 degrees of freedom\n",
       "Multiple R-squared:  0.3552,\tAdjusted R-squared:  0.3539 \n",
       "F-statistic: 286.1 on 2 and 1039 DF,  p-value: < 2.2e-16\n"
      ]
     },
     "metadata": {},
     "output_type": "display_data"
    },
    {
     "data": {
      "text/plain": [
       "\n",
       "Call:\n",
       "lm(formula = Price ~ floor.sq + lot.sqrt, data = mydata.train)\n",
       "\n",
       "Residuals:\n",
       "     Min       1Q   Median       3Q      Max \n",
       "-1707959  -320970   -89890   269866  1352942 \n",
       "\n",
       "Coefficients:\n",
       "             Estimate Std. Error t value Pr(>|t|)    \n",
       "(Intercept) 5.299e+05  1.008e+05   5.255 1.79e-07 ***\n",
       "floor.sq    6.869e-02  3.922e-03  17.515  < 2e-16 ***\n",
       "lot.sqrt    1.213e+04  1.652e+03   7.345 4.16e-13 ***\n",
       "---\n",
       "Signif. codes:  0 '***' 0.001 '**' 0.01 '*' 0.05 '.' 0.1 ' ' 1\n",
       "\n",
       "Residual standard error: 432100 on 1039 degrees of freedom\n",
       "Multiple R-squared:  0.3573,\tAdjusted R-squared:  0.356 \n",
       "F-statistic: 288.8 on 2 and 1039 DF,  p-value: < 2.2e-16\n"
      ]
     },
     "metadata": {},
     "output_type": "display_data"
    },
    {
     "data": {
      "text/plain": [
       "\n",
       "Call:\n",
       "lm(formula = Price ~ floor.sq + Lot.Size, data = mydata.train)\n",
       "\n",
       "Residuals:\n",
       "     Min       1Q   Median       3Q      Max \n",
       "-1814689  -321942   -97021   270292  1359925 \n",
       "\n",
       "Coefficients:\n",
       "             Estimate Std. Error t value Pr(>|t|)    \n",
       "(Intercept) 9.553e+05  4.756e+04  20.089  < 2e-16 ***\n",
       "floor.sq    6.906e-02  3.902e-03  17.700  < 2e-16 ***\n",
       "Lot.Size    8.393e+01  1.144e+01   7.334  4.5e-13 ***\n",
       "---\n",
       "Signif. codes:  0 '***' 0.001 '**' 0.01 '*' 0.05 '.' 0.1 ' ' 1\n",
       "\n",
       "Residual standard error: 432100 on 1039 degrees of freedom\n",
       "Multiple R-squared:  0.3572,\tAdjusted R-squared:  0.356 \n",
       "F-statistic: 288.7 on 2 and 1039 DF,  p-value: < 2.2e-16\n"
      ]
     },
     "metadata": {},
     "output_type": "display_data"
    },
    {
     "data": {
      "text/plain": [
       "\n",
       "Call:\n",
       "lm(formula = Price ~ Total.floor.area + lot.log, data = mydata.train)\n",
       "\n",
       "Residuals:\n",
       "     Min       1Q   Median       3Q      Max \n",
       "-1239730  -322071   -85477   288322  1630922 \n",
       "\n",
       "Coefficients:\n",
       "                   Estimate Std. Error t value Pr(>|t|)    \n",
       "(Intercept)      -2364224.7   444131.7  -5.323 1.25e-07 ***\n",
       "Total.floor.area      389.3       21.0  18.537  < 2e-16 ***\n",
       "lot.log            381058.4    55543.5   6.861 1.18e-11 ***\n",
       "---\n",
       "Signif. codes:  0 '***' 0.001 '**' 0.01 '*' 0.05 '.' 0.1 ' ' 1\n",
       "\n",
       "Residual standard error: 427500 on 1039 degrees of freedom\n",
       "Multiple R-squared:  0.3708,\tAdjusted R-squared:  0.3696 \n",
       "F-statistic: 306.2 on 2 and 1039 DF,  p-value: < 2.2e-16\n"
      ]
     },
     "metadata": {},
     "output_type": "display_data"
    },
    {
     "data": {
      "text/plain": [
       "\n",
       "Call:\n",
       "lm(formula = Price ~ Total.floor.area + lot.sqrt, data = mydata.train)\n",
       "\n",
       "Residuals:\n",
       "     Min       1Q   Median       3Q      Max \n",
       "-1232267  -317214   -84978   275604  1613835 \n",
       "\n",
       "Coefficients:\n",
       "                 Estimate Std. Error t value Pr(>|t|)    \n",
       "(Intercept)      51552.43   97546.93   0.528    0.597    \n",
       "Total.floor.area   386.90      20.91  18.505  < 2e-16 ***\n",
       "lot.sqrt         11766.31    1626.62   7.234 9.12e-13 ***\n",
       "---\n",
       "Signif. codes:  0 '***' 0.001 '**' 0.01 '*' 0.05 '.' 0.1 ' ' 1\n",
       "\n",
       "Residual standard error: 426500 on 1039 degrees of freedom\n",
       "Multiple R-squared:  0.3739,\tAdjusted R-squared:  0.3727 \n",
       "F-statistic: 310.2 on 2 and 1039 DF,  p-value: < 2.2e-16\n"
      ]
     },
     "metadata": {},
     "output_type": "display_data"
    },
    {
     "data": {
      "text/plain": [
       "\n",
       "Call:\n",
       "lm(formula = Price ~ Total.floor.area + Lot.Size, data = mydata.train)\n",
       "\n",
       "Residuals:\n",
       "     Min       1Q   Median       3Q      Max \n",
       "-1304776  -313441   -83906   263042  1619307 \n",
       "\n",
       "Coefficients:\n",
       "                  Estimate Std. Error t value Pr(>|t|)    \n",
       "(Intercept)      457385.32   55917.30   8.180 8.25e-16 ***\n",
       "Total.floor.area    388.71      20.74  18.742  < 2e-16 ***\n",
       "Lot.Size             82.46      11.24   7.339 4.33e-13 ***\n",
       "---\n",
       "Signif. codes:  0 '***' 0.001 '**' 0.01 '*' 0.05 '.' 0.1 ' ' 1\n",
       "\n",
       "Residual standard error: 426200 on 1039 degrees of freedom\n",
       "Multiple R-squared:  0.3747,\tAdjusted R-squared:  0.3735 \n",
       "F-statistic: 311.4 on 2 and 1039 DF,  p-value: < 2.2e-16\n"
      ]
     },
     "metadata": {},
     "output_type": "display_data"
    }
   ],
   "source": [
    "# Drop the interactions to see if there are any other better models\n",
    "z1_1 <- lm(Price ~ floor.sqrt + lot.log, data=mydata.train)\n",
    "summary(z1_1)\n",
    "z2_1 <- lm(Price ~ floor.sqrt + lot.sqrt, data=mydata.train)\n",
    "summary(z2_1)\n",
    "z3_1 <- lm(Price ~ floor.sqrt + Lot.Size, data=mydata.train)\n",
    "summary(z3_1)\n",
    "z4_1 <- lm(Price ~ floor.log + lot.log, data = mydata.train)\n",
    "summary(z4_1)\n",
    "z5_1 <- lm(Price ~ floor.log + lot.sqrt, data=mydata.train)\n",
    "summary(z5_1)\n",
    "z6_1 <- lm(Price ~ floor.log + Lot.Size, data=mydata.train)\n",
    "summary(z6_1)\n",
    "z7_1 <- lm(Price ~ floor.sq + lot.log, data=mydata.train)\n",
    "summary(z7_1)\n",
    "z8_1 <- lm(Price ~ floor.sq + lot.sqrt, data=mydata.train)\n",
    "summary(z8_1)\n",
    "z9_1 <- lm(Price ~ floor.sq + Lot.Size, data=mydata.train)\n",
    "summary(z9_1)\n",
    "z10_1 <- lm(Price ~ Total.floor.area + lot.log, data=mydata.train)\n",
    "summary(z10_1)\n",
    "z11_1 <- lm(Price ~ Total.floor.area + lot.sqrt, data=mydata.train)\n",
    "summary(z11_1)\n",
    "z12_1 <- lm(Price ~ Total.floor.area + Lot.Size, data=mydata.train)\n",
    "summary(z12_1)"
   ]
  },
  {
   "cell_type": "markdown",
   "metadata": {},
   "source": [
    "Compared with other models, the overall performance of z9 model is relatively better. All variables in this model are significantly based on the P-values, the R-squared of this model is 0.377, which is relatively higher, and the residual standard error is 425600, which is slightly lower. Also, this model has a slightly higher F-statistic. The result of the F test is statistically significant so the null hypothesis can be rejected.\n",
    "\n",
    "Since models z10_1, z11_1, z12_1, z8, z11 and z12 are also good models, they are chosen to be the candidate models. Comparisons of candidate models and the final model will be performed in the end. "
   ]
  },
  {
   "cell_type": "code",
   "execution_count": 19,
   "metadata": {},
   "outputs": [
    {
     "data": {
      "text/plain": [
       "\n",
       "Call:\n",
       "lm(formula = Price ~ floor.sq + Lot.Size + floor.sq * Lot.Size, \n",
       "    data = mydata.train)\n",
       "\n",
       "Residuals:\n",
       "     Min       1Q   Median       3Q      Max \n",
       "-1215738  -317053   -88104   270629  1295735 \n",
       "\n",
       "Coefficients:\n",
       "                    Estimate Std. Error t value Pr(>|t|)    \n",
       "(Intercept)        5.445e+05  8.553e+04   6.367 2.90e-10 ***\n",
       "floor.sq           1.232e-01  1.018e-02  12.100  < 2e-16 ***\n",
       "Lot.Size           1.727e+02  1.913e+01   9.024  < 2e-16 ***\n",
       "floor.sq:Lot.Size -1.080e-05  1.882e-06  -5.740 1.24e-08 ***\n",
       "---\n",
       "Signif. codes:  0 '***' 0.001 '**' 0.01 '*' 0.05 '.' 0.1 ' ' 1\n",
       "\n",
       "Residual standard error: 425600 on 1038 degrees of freedom\n",
       "Multiple R-squared:  0.377,\tAdjusted R-squared:  0.3752 \n",
       "F-statistic: 209.3 on 3 and 1038 DF,  p-value: < 2.2e-16\n"
      ]
     },
     "metadata": {},
     "output_type": "display_data"
    }
   ],
   "source": [
    "summary(z9)"
   ]
  },
  {
   "cell_type": "code",
   "execution_count": 20,
   "metadata": {},
   "outputs": [
    {
     "data": {
      "text/html": [
       "<table class=\"dataframe\">\n",
       "<caption>A anova: 2 × 6</caption>\n",
       "<thead>\n",
       "\t<tr><th></th><th scope=col>Df</th><th scope=col>Sum of Sq</th><th scope=col>RSS</th><th scope=col>AIC</th><th scope=col>F value</th><th scope=col>Pr(&gt;F)</th></tr>\n",
       "\t<tr><th></th><th scope=col>&lt;dbl&gt;</th><th scope=col>&lt;dbl&gt;</th><th scope=col>&lt;dbl&gt;</th><th scope=col>&lt;dbl&gt;</th><th scope=col>&lt;dbl&gt;</th><th scope=col>&lt;dbl&gt;</th></tr>\n",
       "</thead>\n",
       "<tbody>\n",
       "\t<tr><th scope=row>&lt;none&gt;</th><td>NA</td><td>          NA</td><td>1.880314e+14</td><td>27015.32</td><td>      NA</td><td>          NA</td></tr>\n",
       "\t<tr><th scope=row>floor.sq:Lot.Size</th><td> 1</td><td>5.968459e+12</td><td>1.939999e+14</td><td>27045.88</td><td>32.94801</td><td>1.241811e-08</td></tr>\n",
       "</tbody>\n",
       "</table>\n"
      ],
      "text/latex": [
       "A anova: 2 × 6\n",
       "\\begin{tabular}{r|llllll}\n",
       "  & Df & Sum of Sq & RSS & AIC & F value & Pr(>F)\\\\\n",
       "  & <dbl> & <dbl> & <dbl> & <dbl> & <dbl> & <dbl>\\\\\n",
       "\\hline\n",
       "\t<none> & NA &           NA & 1.880314e+14 & 27015.32 &       NA &           NA\\\\\n",
       "\tfloor.sq:Lot.Size &  1 & 5.968459e+12 & 1.939999e+14 & 27045.88 & 32.94801 & 1.241811e-08\\\\\n",
       "\\end{tabular}\n"
      ],
      "text/markdown": [
       "\n",
       "A anova: 2 × 6\n",
       "\n",
       "| <!--/--> | Df &lt;dbl&gt; | Sum of Sq &lt;dbl&gt; | RSS &lt;dbl&gt; | AIC &lt;dbl&gt; | F value &lt;dbl&gt; | Pr(&gt;F) &lt;dbl&gt; |\n",
       "|---|---|---|---|---|---|---|\n",
       "| &lt;none&gt; | NA |           NA | 1.880314e+14 | 27015.32 |       NA |           NA |\n",
       "| floor.sq:Lot.Size |  1 | 5.968459e+12 | 1.939999e+14 | 27045.88 | 32.94801 | 1.241811e-08 |\n",
       "\n"
      ],
      "text/plain": [
       "                  Df Sum of Sq    RSS          AIC      F value  Pr(>F)      \n",
       "<none>            NA           NA 1.880314e+14 27015.32       NA           NA\n",
       "floor.sq:Lot.Size  1 5.968459e+12 1.939999e+14 27045.88 32.94801 1.241811e-08"
      ]
     },
     "metadata": {},
     "output_type": "display_data"
    }
   ],
   "source": [
    "drop1(z9, test=\"F\")"
   ]
  },
  {
   "cell_type": "markdown",
   "metadata": {},
   "source": [
    "**Write the equation of the model, replacing the co-efficients with the numbers from the output of the summary command:**\n",
    "\n",
    "predicted value for house sale price = 544500 + 0.1232 * floor.sq + 172.7 * Lot.Size - 0.0000108 floor.sq * Lot.Size\n",
    "\n",
    "*floor.sq = Squared value of total floor area"
   ]
  },
  {
   "cell_type": "markdown",
   "metadata": {},
   "source": [
    "**Interpret the value of each co-efficient assuming that the x-variables are independent of each other and describe the type of interaction (reinforcement, interference):**    \n",
    "\n",
    "Interpretation of the Co-efficients: For one unit increase in squared value of total floor area, the predicted value for the house sale price increases by 0.1232. For every square foot increase in lot size of houses in Vancouver, the predicted value for house sale price increases by 172.7. Based on the partial F test, the interaction is significant (F-value = 32.95, P-value is very low). The type of interaction is interference."
   ]
  },
  {
   "cell_type": "markdown",
   "metadata": {},
   "source": [
    "---\n",
    "## Check the assumptions \n",
    "Create plots / conduct tests and write a sentence to interpret each result."
   ]
  },
  {
   "cell_type": "code",
   "execution_count": 21,
   "metadata": {},
   "outputs": [],
   "source": [
    "# Check assumptions of linearity, equal variance, normality here.\n",
    "# Comment on any unusual observations (outliers) that are observed.\n",
    "checkresiduals <- function(z.linear) {\n",
    "  predict.values <- predict(z.linear)\n",
    "  resid.values <- resid(z.linear)\n",
    "  \n",
    "  \n",
    "  if (max(resid.values) > 3*summary(z.linear)$sigma) {\n",
    "    ymax <-  max(resid.values)\n",
    "  } else {\n",
    "    ymax <-  3*summary(z.linear)$sigma \n",
    "  }\n",
    "  \n",
    "  if (min(resid.values) < -3*summary(z.linear)$sigma) {\n",
    "    ymin <-  min(resid.values)\n",
    "  } else {\n",
    "    ymin <-  -3*summary(z.linear)$sigma \n",
    "  }\n",
    "  \n",
    "  \n",
    "  par(mfrow=c(2,2))\n",
    "  plot(resid.values ~ predict.values, ylim=c(ymin, ymax), main = \"Residual plot\")\n",
    "  abline(0,0, lty=2)\n",
    "  se <- summary(z.linear)$sigma\n",
    "  abline(2*se, 0, col=\"red\", lty=2)\n",
    "  abline(-2*se, 0, col=\"red\", lty=2)\n",
    "  \n",
    "  \n",
    "  plot(resid.values, main = \"Resid vs. obs #\")\n",
    "  abline(0,0, lty=2)\n",
    "  lines(resid.values)\n",
    "  \n",
    "    \n",
    "  hist(resid.values, prob = TRUE)\n",
    "  curve(dnorm(x, mean = mean(resid.values), sd = sd(resid.values)), col = 'red', add = TRUE)\n",
    "  \n",
    "    \n",
    "  qqnorm(resid.values, ylab= \"standardized residuals\", xlab = \"Normal scores\")\n",
    "  qqline(resid.values, col= \"red\")\n",
    "  \n",
    "  shapiro.test(resid.values)\n",
    "}"
   ]
  },
  {
   "cell_type": "code",
   "execution_count": 22,
   "metadata": {},
   "outputs": [
    {
     "data": {
      "text/plain": [
       "\n",
       "\tShapiro-Wilk normality test\n",
       "\n",
       "data:  resid.values\n",
       "W = 0.95766, p-value < 2.2e-16\n"
      ]
     },
     "metadata": {},
     "output_type": "display_data"
    },
    {
     "data": {
      "image/png": "[encoded data removed]",
      "text/plain": [
       "Plot with title \"Normal Q-Q Plot\""
      ]
     },
     "metadata": {
      "image/png": {
       "height": 420,
       "width": 420
      }
     },
     "output_type": "display_data"
    }
   ],
   "source": [
    "checkresiduals(z9)"
   ]
  },
  {
   "cell_type": "markdown",
   "metadata": {},
   "source": [
    "1. Assumption #1 - Linearity \n",
    "Based on the Residual Plot, the model lacks linearity, which means that the regression line does not fit the data well.\n",
    "Estimates of co-efficients and their standard errors might be biased.\n",
    "2. Assumption #2 - Equal Variance\n",
    "Based on the Residual Plot, the band of points on the residual plot has a semi-constant range from left to right. Therefore, this model has a rather Equal variance – Assumption #2 is met here.\n",
    "3. Assumption #3 - Normality\n",
    "According to the Histogram of residual values and Normal Q-Q Plot, the errors are nearly normally distributed. \n",
    "\n",
    "Based on the assumption checkings above, the conclusion is drawn that this model is not perfect for meeting the assumptions. However, other candidate models are also checked for assumptions and this model performs the best among all the models. "
   ]
  },
  {
   "cell_type": "markdown",
   "metadata": {},
   "source": [
    " \n",
    "**Describe how the assumption of independence could be violated for this dataset in relation to space.**  \n",
    "\n",
    "The house value varies dramatically depending on the location. According to Chan (2022), the median real estate price in different areas of Vancouver has a huge difference, ranging from 2.32 million CAD in West Vancouver to $ 653,000 CAD in New Westminster. Houses close to good schools, hospitals, supermarkets, shopping malls and parks are more expensive than houses in remote areas even though they have the same floor areas and lot sizes. Therefore, the price of the house does not only depend on the total floor areas or lot size, and the assumption of independence could be violated.\n",
    "\n",
    "Chan, K. (2022, August 11). *Metro Vancouver home prices down by up to 25% compared to early 2022*. Retrieved October 13, 2022, from https://dailyhive.com/vancouver/metro-vancouver-home-prices-july-2022 "
   ]
  },
  {
   "cell_type": "markdown",
   "metadata": {},
   "source": [
    "---\n",
    "## Goodness of fit to the training set\n"
   ]
  },
  {
   "cell_type": "code",
   "execution_count": 23,
   "metadata": {},
   "outputs": [
    {
     "data": {
      "text/plain": [
       "\n",
       "Call:\n",
       "lm(formula = Price ~ floor.sq + Lot.Size + floor.sq * Lot.Size, \n",
       "    data = mydata.train)\n",
       "\n",
       "Residuals:\n",
       "     Min       1Q   Median       3Q      Max \n",
       "-1215738  -317053   -88104   270629  1295735 \n",
       "\n",
       "Coefficients:\n",
       "                    Estimate Std. Error t value Pr(>|t|)    \n",
       "(Intercept)        5.445e+05  8.553e+04   6.367 2.90e-10 ***\n",
       "floor.sq           1.232e-01  1.018e-02  12.100  < 2e-16 ***\n",
       "Lot.Size           1.727e+02  1.913e+01   9.024  < 2e-16 ***\n",
       "floor.sq:Lot.Size -1.080e-05  1.882e-06  -5.740 1.24e-08 ***\n",
       "---\n",
       "Signif. codes:  0 '***' 0.001 '**' 0.01 '*' 0.05 '.' 0.1 ' ' 1\n",
       "\n",
       "Residual standard error: 425600 on 1038 degrees of freedom\n",
       "Multiple R-squared:  0.377,\tAdjusted R-squared:  0.3752 \n",
       "F-statistic: 209.3 on 3 and 1038 DF,  p-value: < 2.2e-16\n"
      ]
     },
     "metadata": {},
     "output_type": "display_data"
    }
   ],
   "source": [
    "summary(z9)"
   ]
  },
  {
   "cell_type": "markdown",
   "metadata": {},
   "source": [
    "Residual standard error is used to measure the error of the regression line's predictability. Thus, the smaller the residual standard error is, the smaller the difference between the observed values and the predicted values will be, in other words, the more predictive and useful the model is.\n",
    "\n",
    "R-squared explains how much a dependent variable is explained by the independent variables in a regression model. Although the R-squared of 37.7% means that only 37.7% of movements of the price can be explained by movements in the total floor area and the lot size of houses the model, this is the most reasonable model found by comparison."
   ]
  },
  {
   "cell_type": "markdown",
   "metadata": {},
   "source": [
    "---\n",
    "## Any concerns about the explanatory variables being related to each other\n",
    "\n",
    "Show plots and/or do analyses to support your conclusions. If there are associations between explanatory variables, what effect could this have on your model? How would this affect your predictions?  "
   ]
  },
  {
   "cell_type": "code",
   "execution_count": 24,
   "metadata": {},
   "outputs": [
    {
     "data": {
      "text/plain": [
       "\n",
       "Call:\n",
       "lm(formula = Price ~ floor.sq + Lot.Size + floor.sq * Lot.Size, \n",
       "    data = mydata.train)\n",
       "\n",
       "Residuals:\n",
       "     Min       1Q   Median       3Q      Max \n",
       "-1215738  -317053   -88104   270629  1295735 \n",
       "\n",
       "Coefficients:\n",
       "                    Estimate Std. Error t value Pr(>|t|)    \n",
       "(Intercept)        5.445e+05  8.553e+04   6.367 2.90e-10 ***\n",
       "floor.sq           1.232e-01  1.018e-02  12.100  < 2e-16 ***\n",
       "Lot.Size           1.727e+02  1.913e+01   9.024  < 2e-16 ***\n",
       "floor.sq:Lot.Size -1.080e-05  1.882e-06  -5.740 1.24e-08 ***\n",
       "---\n",
       "Signif. codes:  0 '***' 0.001 '**' 0.01 '*' 0.05 '.' 0.1 ' ' 1\n",
       "\n",
       "Residual standard error: 425600 on 1038 degrees of freedom\n",
       "Multiple R-squared:  0.377,\tAdjusted R-squared:  0.3752 \n",
       "F-statistic: 209.3 on 3 and 1038 DF,  p-value: < 2.2e-16\n"
      ]
     },
     "metadata": {},
     "output_type": "display_data"
    }
   ],
   "source": [
    "summary(z9)"
   ]
  },
  {
   "cell_type": "code",
   "execution_count": 25,
   "metadata": {},
   "outputs": [
    {
     "name": "stdout",
     "output_type": "stream",
     "text": [
      "'data.frame':\t1042 obs. of  21 variables:\n",
      " $ Number             : int  1 2 3 4 5 6 7 8 9 10 ...\n",
      " $ Address            : chr  \"3178 GRAVELEY STREET\" \"1438 E 28TH AVENUE\" \"2831 W 49TH AVENUE\" \"2645 TRIUMPH STREET\" ...\n",
      " $ List.Date          : chr  \"5/8/2020\" \"1/22/2020\" \"6/18/2019\" \"6/18/2019\" ...\n",
      " $ Price              : int  1500000 1300000 2650000 1385000 1590000 2565000 1303000 1150000 2500000 2400000 ...\n",
      " $ Days.on.market     : int  18 7 1 28 17 7 9 10 10 44 ...\n",
      " $ Total.floor.area   : int  2447 2146 3108 2602 1843 2439 2100 1900 2133 3989 ...\n",
      " $ Year.Built         : int  1946 1982 1929 1922 1970 1989 1979 1950 2005 2019 ...\n",
      " $ Age                : int  74 38 90 97 49 31 40 69 14 0 ...\n",
      " $ Lot.Size           : num  5674 3632 9111 4023 4026 ...\n",
      " $ Days.on.market.sq  : num  324 49 1 784 289 ...\n",
      " $ Days.on.market.log : num  2.89 1.95 0 3.33 2.83 ...\n",
      " $ Days.on.market.sqrt: num  4.24 2.65 1 5.29 4.12 ...\n",
      " $ age.sq             : num  5476 1444 8100 9409 2401 ...\n",
      " $ age.log            : num  4.3 3.64 4.5 4.57 3.89 ...\n",
      " $ age.sqrt           : num  8.6 6.16 9.49 9.85 7 ...\n",
      " $ lot.sq             : num  32194276 13191279 83010321 16182115 16208676 ...\n",
      " $ lot.log            : num  8.64 8.2 9.12 8.3 8.3 ...\n",
      " $ lot.sqrt           : num  75.3 60.3 95.5 63.4 63.5 ...\n",
      " $ floor.sq           : num  5987809 4605316 9659664 6770404 3396649 ...\n",
      " $ floor.log          : num  7.8 7.67 8.04 7.86 7.52 ...\n",
      " $ floor.sqrt         : num  49.5 46.3 55.7 51 42.9 ...\n"
     ]
    }
   ],
   "source": [
    "str(mydata.train)"
   ]
  },
  {
   "cell_type": "code",
   "execution_count": 26,
   "metadata": {},
   "outputs": [],
   "source": [
    "mydata.train.2 = subset(mydata.train, select = c('floor.sq', 'Lot.Size'))"
   ]
  },
  {
   "cell_type": "code",
   "execution_count": 27,
   "metadata": {},
   "outputs": [],
   "source": [
    "z9.vif = lm(Price ~ floor.sq + Lot.Size, data = mydata.train)"
   ]
  },
  {
   "cell_type": "code",
   "execution_count": 28,
   "metadata": {
    "scrolled": true
   },
   "outputs": [
    {
     "name": "stderr",
     "output_type": "stream",
     "text": [
      "Loading required package: carData\n",
      "\n"
     ]
    },
    {
     "data": {
      "text/html": [
       "<style>\n",
       ".dl-inline {width: auto; margin:0; padding: 0}\n",
       ".dl-inline>dt, .dl-inline>dd {float: none; width: auto; display: inline-block}\n",
       ".dl-inline>dt::after {content: \":\\0020\"; padding-right: .5ex}\n",
       ".dl-inline>dt:not(:first-of-type) {padding-left: .5ex}\n",
       "</style><dl class=dl-inline><dt>floor.sq</dt><dd>1.21313901774042</dd><dt>Lot.Size</dt><dd>1.21313901774042</dd></dl>\n"
      ],
      "text/latex": [
       "\\begin{description*}\n",
       "\\item[floor.sq] 1.21313901774042\n",
       "\\item[Lot.Size] 1.21313901774042\n",
       "\\end{description*}\n"
      ],
      "text/markdown": [
       "floor.sq\n",
       ":   1.21313901774042Lot.Size\n",
       ":   1.21313901774042\n",
       "\n"
      ],
      "text/plain": [
       "floor.sq Lot.Size \n",
       "1.213139 1.213139 "
      ]
     },
     "metadata": {},
     "output_type": "display_data"
    },
    {
     "data": {
      "image/png": "[encoded data removed]",
      "text/plain": [
       "plot without title"
      ]
     },
     "metadata": {
      "image/png": {
       "height": 420,
       "width": 420
      }
     },
     "output_type": "display_data"
    }
   ],
   "source": [
    "library(car) \n",
    "\n",
    "plot(mydata.train.2)\n",
    "vif(z9.vif)"
   ]
  },
  {
   "cell_type": "markdown",
   "metadata": {},
   "source": [
    "A variance inflation factor (VIF) is a measure of the amount of multicollinearity in regression analysis. Multicollinearity exists when there is a correlation between multiple independent variables in a multiple regression model. This can adversely affect the regression results. Thus, the variance inflation factor can estimate how much the variance of a regression coefficient is inflated due to multicollinearity. The VIF above shows that the explanatory variables contain a very weak relationship with each other."
   ]
  },
  {
   "cell_type": "markdown",
   "metadata": {},
   "source": [
    "---\n",
    "<div class=\"alert alert-block alert-warning\">\n",
    "<a id=\"Hyp_tests\"></a>\n",
    "\n",
    "# Hypothesis tests"
   ]
  },
  {
   "cell_type": "markdown",
   "metadata": {},
   "source": [
    "Conduct F-tests for regression significance and t-tests for variable significance. In case of an interaction, only test the interaction (no need to test main effects). Conclude each hypothesis test, including the test statistic and p-value (α = 0.05). Evaluate the variable contributions to the final model based on these results."
   ]
  },
  {
   "cell_type": "code",
   "execution_count": 29,
   "metadata": {},
   "outputs": [
    {
     "data": {
      "text/html": [
       "<table class=\"dataframe\">\n",
       "<caption>A anova: 2 × 6</caption>\n",
       "<thead>\n",
       "\t<tr><th></th><th scope=col>Df</th><th scope=col>Sum of Sq</th><th scope=col>RSS</th><th scope=col>AIC</th><th scope=col>F value</th><th scope=col>Pr(&gt;F)</th></tr>\n",
       "\t<tr><th></th><th scope=col>&lt;dbl&gt;</th><th scope=col>&lt;dbl&gt;</th><th scope=col>&lt;dbl&gt;</th><th scope=col>&lt;dbl&gt;</th><th scope=col>&lt;dbl&gt;</th><th scope=col>&lt;dbl&gt;</th></tr>\n",
       "</thead>\n",
       "<tbody>\n",
       "\t<tr><th scope=row>&lt;none&gt;</th><td>NA</td><td>          NA</td><td>1.880314e+14</td><td>27015.32</td><td>      NA</td><td>          NA</td></tr>\n",
       "\t<tr><th scope=row>floor.sq:Lot.Size</th><td> 1</td><td>5.968459e+12</td><td>1.939999e+14</td><td>27045.88</td><td>32.94801</td><td>1.241811e-08</td></tr>\n",
       "</tbody>\n",
       "</table>\n"
      ],
      "text/latex": [
       "A anova: 2 × 6\n",
       "\\begin{tabular}{r|llllll}\n",
       "  & Df & Sum of Sq & RSS & AIC & F value & Pr(>F)\\\\\n",
       "  & <dbl> & <dbl> & <dbl> & <dbl> & <dbl> & <dbl>\\\\\n",
       "\\hline\n",
       "\t<none> & NA &           NA & 1.880314e+14 & 27015.32 &       NA &           NA\\\\\n",
       "\tfloor.sq:Lot.Size &  1 & 5.968459e+12 & 1.939999e+14 & 27045.88 & 32.94801 & 1.241811e-08\\\\\n",
       "\\end{tabular}\n"
      ],
      "text/markdown": [
       "\n",
       "A anova: 2 × 6\n",
       "\n",
       "| <!--/--> | Df &lt;dbl&gt; | Sum of Sq &lt;dbl&gt; | RSS &lt;dbl&gt; | AIC &lt;dbl&gt; | F value &lt;dbl&gt; | Pr(&gt;F) &lt;dbl&gt; |\n",
       "|---|---|---|---|---|---|---|\n",
       "| &lt;none&gt; | NA |           NA | 1.880314e+14 | 27015.32 |       NA |           NA |\n",
       "| floor.sq:Lot.Size |  1 | 5.968459e+12 | 1.939999e+14 | 27045.88 | 32.94801 | 1.241811e-08 |\n",
       "\n"
      ],
      "text/plain": [
       "                  Df Sum of Sq    RSS          AIC      F value  Pr(>F)      \n",
       "<none>            NA           NA 1.880314e+14 27015.32       NA           NA\n",
       "floor.sq:Lot.Size  1 5.968459e+12 1.939999e+14 27045.88 32.94801 1.241811e-08"
      ]
     },
     "metadata": {},
     "output_type": "display_data"
    }
   ],
   "source": [
    "drop1(z9, test=\"F\")"
   ]
  },
  {
   "cell_type": "code",
   "execution_count": 30,
   "metadata": {},
   "outputs": [
    {
     "data": {
      "text/plain": [
       "\n",
       "Call:\n",
       "lm(formula = Price ~ floor.sq + Lot.Size + floor.sq * Lot.Size, \n",
       "    data = mydata.train)\n",
       "\n",
       "Residuals:\n",
       "     Min       1Q   Median       3Q      Max \n",
       "-1215738  -317053   -88104   270629  1295735 \n",
       "\n",
       "Coefficients:\n",
       "                    Estimate Std. Error t value Pr(>|t|)    \n",
       "(Intercept)        5.445e+05  8.553e+04   6.367 2.90e-10 ***\n",
       "floor.sq           1.232e-01  1.018e-02  12.100  < 2e-16 ***\n",
       "Lot.Size           1.727e+02  1.913e+01   9.024  < 2e-16 ***\n",
       "floor.sq:Lot.Size -1.080e-05  1.882e-06  -5.740 1.24e-08 ***\n",
       "---\n",
       "Signif. codes:  0 '***' 0.001 '**' 0.01 '*' 0.05 '.' 0.1 ' ' 1\n",
       "\n",
       "Residual standard error: 425600 on 1038 degrees of freedom\n",
       "Multiple R-squared:  0.377,\tAdjusted R-squared:  0.3752 \n",
       "F-statistic: 209.3 on 3 and 1038 DF,  p-value: < 2.2e-16\n"
      ]
     },
     "metadata": {},
     "output_type": "display_data"
    }
   ],
   "source": [
    "summary(z9)"
   ]
  },
  {
   "cell_type": "markdown",
   "metadata": {},
   "source": [
    "The variable floor.sq is significant in the final model (t statistic = 12.1, df error = 1038, p-value < 0.0001).\n",
    "The variable Lot Size is significant in the final model (t statistic = 9.024, df error = 1038, p-value < 0.0001).\n",
    "The variable floor.sq:Lot.Size is significant in the final model (t statistic = -5.74, df error = 1038, p-value < 0.0001)\n",
    "\n",
    "The results show that the variable floor.sq has a stronger effect on the price of houses in Vancouver than the variables Lot Size and floor.sq:Lot.Size, since the t statistic of floor.sq is bigger."
   ]
  },
  {
   "cell_type": "markdown",
   "metadata": {},
   "source": [
    "---\n",
    "<div class=\"alert alert-block alert-warning\">\n",
    "<a id=\"Prediction\"></a>\n",
    "\n",
    "# Using the model for prediction"
   ]
  },
  {
   "cell_type": "markdown",
   "metadata": {},
   "source": [
    "Generate predicted values using the validation set data with the final model fitted to the training set. Ensure the model remains consistent with the training data and use the validation set data solely as new x-values. Calculate the mean absolute error (MAE) and root mean squared error (root MSE) for the validation set. If the y-variable was transformed, revert the predicted values to the original units before computing these metrics."
   ]
  },
  {
   "cell_type": "code",
   "execution_count": 31,
   "metadata": {},
   "outputs": [
    {
     "ename": "ERROR",
     "evalue": "Error in eval(predvars, data, env): object 'floor.sq' not found\n",
     "output_type": "error",
     "traceback": [
      "Error in eval(predvars, data, env): object 'floor.sq' not found\nTraceback:\n",
      "1. predict(z9, newdata = mydata.valid)",
      "2. predict.lm(z9, newdata = mydata.valid)",
      "3. model.frame(Terms, newdata, na.action = na.action, xlev = object$xlevels)",
      "4. model.frame.default(Terms, newdata, na.action = na.action, xlev = object$xlevels)",
      "5. eval(predvars, data, env)",
      "6. eval(predvars, data, env)"
     ]
    }
   ],
   "source": [
    "# Include your code here\n",
    "mydata.valid$predict.z9 <- predict(z9, newdata=mydata.valid)\n",
    "RMSE.z9 <- sqrt(sum(mydata.valid$Price - mydata.valid$predict.z9)^2/nrow(mydata.valid)); RMSE.z9\n",
    "MAE.z9 <- sum(abs(mydata.valid$Price - mydata.valid$predict.z9))/nrow(mydata.valid); MAE.z9"
   ]
  },
  {
   "cell_type": "markdown",
   "metadata": {},
   "source": [
    "---\n",
    "<div class=\"alert alert-block alert-warning\">\n",
    "<a id=\"Compare\"></a>\n",
    "\n",
    "# Comparing to other candidate models"
   ]
  },
  {
   "cell_type": "markdown",
   "metadata": {},
   "source": [
    "Compare MAE and root MSE for the validation set between the final model and other candidate models.（The predicted values are reverted to their original units if the y-variable was transformed before calculating these metrics.）\n",
    "\n",
    "The result table:\n",
    "\n",
    "| Model | MAE | root MSE | model statement|\n",
    "|------|------|------|------|\n",
    "| Final model | 369383.956 | 90945.091 | Price ~ floor.sq + Lot.Size + floor.sq * Lot.Size |\n",
    "| Model z8 | 371758.608 | 102298.014 | Price ~ floor.sq + lot.sqrt + floor.sq * lot.sqrt |\n",
    "| Model z10 | 373342.005 | 230700.6872 | Price ~ Total.floor.area + lot.log + Total.floor.area * lot.log |\n",
    "| Model z11 | 370069.521 | 220271.938 | Price ~ Total.floor.area + lot.sqrt + Total.floor.area * lot.sqrt |\n",
    "| Model z12 | 366356.084 | 203838.231 | Total.floor.area + Lot.Size + Total.floor.area * Lot.Size |\n",
    "| Model z10_1 | 373887.980 | 266578.015 | Price ~ Total.floor.area + lot.log |\n",
    "| Model z11_1 | 371976.425 | 291146.284 | Price ~ Total.floor.area + lot.sqrt |\n",
    "| Model z12_1 | 370457.840 | 306948.433 | Price ~ Total.floor.area + Lot.Size |\n"
   ]
  },
  {
   "cell_type": "markdown",
   "metadata": {},
   "source": [
    "Based on the comparison with other candidate models, the final model has the lowest root MSE, and second lowest MAE, which indicates that the final model has the best performance in terms of minimizing errors. "
   ]
  },
  {
   "cell_type": "markdown",
   "metadata": {},
   "source": [
    "---\n",
    "<div class=\"alert alert-block alert-warning\">\n",
    "<a id=\"Discussion\"></a>\n",
    "\n",
    "# Discussion"
   ]
  },
  {
   "cell_type": "markdown",
   "metadata": {},
   "source": [
    "The final model addresses the goal of the analysis best among all the models after multiple comparisons. The final model only includes two variables, floor.sq and Lot.Size, because the scatterplots show that there is no linear relationship between price and age and price and days on market, no matter how we transform these two variables. Then, the F test is used to compare t stat, f stat, R squared, and every p-value of every model. The values of our final model are statistically significant, which means floor.sq, Lot. Size and their interaction have a strong impact on the price. The partial f test is also used to double confirm the impact of the interaction of the floor.sq and Lot.Size. After that, the vif analysis test shows that floor.sq and Lot.Size have no relationship so the capability of the final model to predict the price is pretty strong. Finally, we found that the RMSE of the final model is minimal and the MAE is also relatively small compared to other candidate models, which means the prediction will be pretty accurate.\n",
    "\n",
    "Based on the available data, the final model's prediction results are very reliable, which is its advantage. We can predict the sale price for a specific house and the general trend of market price changes, help house sellers find approximate the ideal sale price, and let house buyers optimize their purchase decision-making. From this data, a benchmark of home value trends can be computed.\n",
    "\n",
    "However, we have to admit that this model has limitations. The data we collected didn't include several factors that influence the house price such as physical facts about the home and land, tax assessment information, and geographic location. Since it is easy to collect the data of tax information and it is reasonable to subdivide the houses in Vancouver into micro-regions based on their geographical location, we can add these two variables to improve our final model. Technically, The lower tax rate increases the affordability and the purchasing power of a buyer. Also, if the house is in a good location, with good non-residential amenities such as shopping centers and schools around it, its price will be driven up.\n",
    "\n",
    "\n",
    "Reference: \n",
    "Zillow Research. (n.d.). Zillow Home Value Index Methodology. Retrieved October 13, 2022, from https://www.zillow.com/research/zhvi-methodology/ "
   ]
  },
  {
   "cell_type": "markdown",
   "metadata": {},
   "source": [
    "---\n",
    "<div class=\"alert alert-block alert-warning\">\n",
    "<a id=\"Transformations\"></a>\n",
    "    \n",
    "# Visualizing appropriate transformations"
   ]
  },
  {
   "cell_type": "code",
   "execution_count": 32,
   "metadata": {},
   "outputs": [],
   "source": [
    "# Include the code for visualizing appropriate transformations of the variables here"
   ]
  },
  {
   "cell_type": "code",
   "execution_count": 33,
   "metadata": {
    "scrolled": true
   },
   "outputs": [
    {
     "data": {
      "image/png": "[encoded data removed]",
      "text/plain": [
       "Plot with title \"Price vs. LotSize.sqrt\""
      ]
     },
     "metadata": {
      "image/png": {
       "height": 420,
       "width": 420
      }
     },
     "output_type": "display_data"
    }
   ],
   "source": [
    "# Plot on the newly transformed variables\n",
    "par(mfrow=c(2,2))\n",
    "lotsize.price = plot(Price ~ Lot.Size, data = mydata.train,\n",
    "                    main = \"Price vs. Lot Size\", xlab = \"Lot Size (Sq.Ft)\", ylab = \"Price($CAD)\")\n",
    "lot.log.price = plot(Price ~ lot.log, data = mydata.train,\n",
    "                 main = \"Price vs. LotSize.log\", xlab = \"LotSize.log\", ylab = \"Price($CAD)\") \n",
    "lot.sq.price = plot(Price ~ lot.sq, data = mydata.train,\n",
    "                 main = \"Price vs. LotSize.sq\", xlab = \"LotSize.sq\", ylab = \"Price($CAD)\") \n",
    "lot.sqrt.price = plot(Price ~ lot.sqrt, data = mydata.train,\n",
    "                 main = \"Price vs. LotSize.sqrt\", xlab = \"LotSize.sqrt\", ylab = \"Price($CAD)\") "
   ]
  },
  {
   "cell_type": "code",
   "execution_count": 34,
   "metadata": {
    "scrolled": true
   },
   "outputs": [
    {
     "data": {
      "image/png": "[encoded data removed]",
      "text/plain": [
       "Plot with title \"Price vs. TotalFloorAreas.sqrt\""
      ]
     },
     "metadata": {
      "image/png": {
       "height": 420,
       "width": 420
      }
     },
     "output_type": "display_data"
    }
   ],
   "source": [
    "# Plot on the newly transformed variables\n",
    "par(mfrow=c(2,2))\n",
    "area.price = plot(Price ~ Total.floor.area, data = mydata.train, \n",
    "                  main = \"Price vs. Total Floor Area\", xlab = \"Total Floor Area (Sq.ft)\", ylab = \"Price($CAD)\")\n",
    "area.log.price = plot(Price ~ floor.log, data = mydata.train,\n",
    "                 main = \"Price vs. TotalFloorAreas.log\", xlab = \"TotalFloorAreas.log\", ylab = \"Price($CAD)\") \n",
    "area.sq.price = plot(Price ~ floor.sq, data = mydata.train,\n",
    "                 main = \"Price vs. TotalFloorAreas.sq\", xlab = \"TotalFloorAreas.sq\", ylab = \"Price($CAD)\") \n",
    "area.sqrt.price = plot(Price ~ floor.sqrt, data = mydata.train,\n",
    "                 main = \"Price vs. TotalFloorAreas.sqrt\", xlab = \"TotalFloorAreas.sqrt\", ylab = \"Price($CAD)\") "
   ]
  },
  {
   "cell_type": "markdown",
   "metadata": {},
   "source": [
    "---\n",
    "<div class=\"alert alert-block alert-warning\">\n",
    "<a id=\"Other_models\"></a>\n",
    "    \n",
    "# Other candidate models"
   ]
  },
  {
   "cell_type": "markdown",
   "metadata": {},
   "source": [
    "While we were testing for the best models, there were some models that also showed significance in the F-tests. We picked z10_1, z11_1, z12_1, z8, z11 and z12 models based on their performances in the following categories:\n",
    "1. Multiple R-sqaured and adjusted R-squared; 2. P-value of each variable; 3. F-statistics; 4. P-value of the whole model; 5. Residual Standard Errors.\n",
    "\n",
    "We did not choose these candidate models becasue flaws exist on some of the criterion above. But they are still capable of predicting housing price in Vancouver."
   ]
  },
  {
   "cell_type": "code",
   "execution_count": 35,
   "metadata": {},
   "outputs": [],
   "source": [
    "#Transformation on the variables total floor area and lot size in validation dataset\n",
    "mydata.valid$lot.sq <- (mydata.valid$Lot.Size)^2\n",
    "mydata.valid$lot.log <- log(mydata.valid$Lot.Size)\n",
    "mydata.valid$lot.sqrt <- sqrt(mydata.valid$Lot.Size)\n",
    "\n",
    "mydata.valid$floor.sq <- (mydata.valid$Total.floor.area)^2\n",
    "mydata.valid$floor.log <- log(mydata.valid$Total.floor.area)\n",
    "mydata.valid$floor.sqrt <- sqrt(mydata.valid$Total.floor.area)"
   ]
  },
  {
   "cell_type": "code",
   "execution_count": 36,
   "metadata": {
    "scrolled": false
   },
   "outputs": [
    {
     "data": {
      "text/plain": [
       "\n",
       "Call:\n",
       "lm(formula = Price ~ floor.sq + lot.sqrt + floor.sq * lot.sqrt, \n",
       "    data = mydata.train)\n",
       "\n",
       "Residuals:\n",
       "     Min       1Q   Median       3Q      Max \n",
       "-1221425  -322105   -93960   277148  1293767 \n",
       "\n",
       "Coefficients:\n",
       "                    Estimate Std. Error t value Pr(>|t|)    \n",
       "(Intercept)       -1.841e+05  1.751e+05  -1.051    0.293    \n",
       "floor.sq           1.707e-01  2.093e-02   8.155 1.00e-15 ***\n",
       "lot.sqrt           2.262e+04  2.673e+03   8.465  < 2e-16 ***\n",
       "floor.sq:lot.sqrt -1.445e-03  2.914e-04  -4.959 8.28e-07 ***\n",
       "---\n",
       "Signif. codes:  0 '***' 0.001 '**' 0.01 '*' 0.05 '.' 0.1 ' ' 1\n",
       "\n",
       "Residual standard error: 427300 on 1038 degrees of freedom\n",
       "Multiple R-squared:  0.3722,\tAdjusted R-squared:  0.3703 \n",
       "F-statistic: 205.1 on 3 and 1038 DF,  p-value: < 2.2e-16\n"
      ]
     },
     "metadata": {},
     "output_type": "display_data"
    },
    {
     "data": {
      "text/html": [
       "102298.014054558"
      ],
      "text/latex": [
       "102298.014054558"
      ],
      "text/markdown": [
       "102298.014054558"
      ],
      "text/plain": [
       "[1] 102298"
      ]
     },
     "metadata": {},
     "output_type": "display_data"
    },
    {
     "data": {
      "text/html": [
       "371758.608519442"
      ],
      "text/latex": [
       "371758.608519442"
      ],
      "text/markdown": [
       "371758.608519442"
      ],
      "text/plain": [
       "[1] 371758.6"
      ]
     },
     "metadata": {},
     "output_type": "display_data"
    }
   ],
   "source": [
    "# Include the code for your other candidate models here.\n",
    "z8 <- lm(Price ~ floor.sq + lot.sqrt + floor.sq * lot.sqrt, data=mydata.train)\n",
    "summary(z8)\n",
    "mydata.valid$predict.z8 <- predict(z8, newdata=mydata.valid)\n",
    "RMSE.z8 <- sqrt(sum(mydata.valid$Price - mydata.valid$predict.z8)^2/nrow(mydata.valid)); RMSE.z8\n",
    "MAE.z8 <- sum(abs(mydata.valid$Price - mydata.valid$predict.z8))/nrow(mydata.valid); MAE.z8"
   ]
  },
  {
   "cell_type": "code",
   "execution_count": 37,
   "metadata": {},
   "outputs": [
    {
     "data": {
      "text/plain": [
       "\n",
       "Call:\n",
       "lm(formula = Price ~ Total.floor.area + lot.log + Total.floor.area * \n",
       "    lot.log, data = mydata.train)\n",
       "\n",
       "Residuals:\n",
       "     Min       1Q   Median       3Q      Max \n",
       "-1245685  -318964   -83994   288076  1585613 \n",
       "\n",
       "Coefficients:\n",
       "                           Estimate Std. Error t value Pr(>|t|)    \n",
       "(Intercept)              -3.717e+06  1.306e+06  -2.845 0.004522 ** \n",
       "Total.floor.area          9.402e+02  5.008e+02   1.878 0.060721 .  \n",
       "lot.log                   5.422e+05  1.565e+05   3.464 0.000555 ***\n",
       "Total.floor.area:lot.log -6.538e+01  5.938e+01  -1.101 0.271147    \n",
       "---\n",
       "Signif. codes:  0 '***' 0.001 '**' 0.01 '*' 0.05 '.' 0.1 ' ' 1\n",
       "\n",
       "Residual standard error: 427500 on 1038 degrees of freedom\n",
       "Multiple R-squared:  0.3716,\tAdjusted R-squared:  0.3698 \n",
       "F-statistic: 204.6 on 3 and 1038 DF,  p-value: < 2.2e-16\n"
      ]
     },
     "metadata": {},
     "output_type": "display_data"
    },
    {
     "data": {
      "text/html": [
       "230700.687949232"
      ],
      "text/latex": [
       "230700.687949232"
      ],
      "text/markdown": [
       "230700.687949232"
      ],
      "text/plain": [
       "[1] 230700.7"
      ]
     },
     "metadata": {},
     "output_type": "display_data"
    },
    {
     "data": {
      "text/html": [
       "373342.005444515"
      ],
      "text/latex": [
       "373342.005444515"
      ],
      "text/markdown": [
       "373342.005444515"
      ],
      "text/plain": [
       "[1] 373342"
      ]
     },
     "metadata": {},
     "output_type": "display_data"
    }
   ],
   "source": [
    "z10 <- lm(Price ~ Total.floor.area + lot.log + Total.floor.area * lot.log, data=mydata.train)\n",
    "summary(z10)\n",
    "mydata.valid$predict.z10 <- predict(z10, newdata=mydata.valid)\n",
    "RMSE.z10 <- sqrt(sum(mydata.valid$Price - mydata.valid$predict.z10)^2/nrow(mydata.valid)); RMSE.z10\n",
    "MAE.z10 <- sum(abs(mydata.valid$Price - mydata.valid$predict.z10))/nrow(mydata.valid); MAE.z10"
   ]
  },
  {
   "cell_type": "code",
   "execution_count": 38,
   "metadata": {},
   "outputs": [
    {
     "data": {
      "text/plain": [
       "\n",
       "Call:\n",
       "lm(formula = Price ~ Total.floor.area + lot.sqrt + Total.floor.area * \n",
       "    lot.sqrt, data = mydata.train)\n",
       "\n",
       "Residuals:\n",
       "     Min       1Q   Median       3Q      Max \n",
       "-1243905  -312773   -83577   278740  1513745 \n",
       "\n",
       "Coefficients:\n",
       "                            Estimate Std. Error t value Pr(>|t|)    \n",
       "(Intercept)               -5.766e+05  3.150e+05  -1.831   0.0675 .  \n",
       "Total.floor.area           6.290e+02  1.173e+02   5.361 1.02e-07 ***\n",
       "lot.sqrt                   2.123e+04  4.794e+03   4.427 1.06e-05 ***\n",
       "Total.floor.area:lot.sqrt -3.584e+00  1.709e+00  -2.097   0.0362 *  \n",
       "---\n",
       "Signif. codes:  0 '***' 0.001 '**' 0.01 '*' 0.05 '.' 0.1 ' ' 1\n",
       "\n",
       "Residual standard error: 425800 on 1038 degrees of freedom\n",
       "Multiple R-squared:  0.3765,\tAdjusted R-squared:  0.3747 \n",
       "F-statistic: 208.9 on 3 and 1038 DF,  p-value: < 2.2e-16\n"
      ]
     },
     "metadata": {},
     "output_type": "display_data"
    },
    {
     "data": {
      "text/html": [
       "220271.938362282"
      ],
      "text/latex": [
       "220271.938362282"
      ],
      "text/markdown": [
       "220271.938362282"
      ],
      "text/plain": [
       "[1] 220271.9"
      ]
     },
     "metadata": {},
     "output_type": "display_data"
    },
    {
     "data": {
      "text/html": [
       "370069.521006646"
      ],
      "text/latex": [
       "370069.521006646"
      ],
      "text/markdown": [
       "370069.521006646"
      ],
      "text/plain": [
       "[1] 370069.5"
      ]
     },
     "metadata": {},
     "output_type": "display_data"
    }
   ],
   "source": [
    "z11 <- lm(Price ~ Total.floor.area + lot.sqrt + Total.floor.area * lot.sqrt, data=mydata.train)\n",
    "summary(z11)\n",
    "mydata.valid$predict.z11 <- predict(z11, newdata=mydata.valid)\n",
    "RMSE.z11 <- sqrt(sum(mydata.valid$Price - mydata.valid$predict.z11)^2/nrow(mydata.valid)); RMSE.z11\n",
    "MAE.z11 <- sum(abs(mydata.valid$Price - mydata.valid$predict.z11))/nrow(mydata.valid); MAE.z11"
   ]
  },
  {
   "cell_type": "code",
   "execution_count": 39,
   "metadata": {},
   "outputs": [
    {
     "data": {
      "text/plain": [
       "\n",
       "Call:\n",
       "lm(formula = Price ~ Total.floor.area + Lot.Size + Total.floor.area * \n",
       "    Lot.Size, data = mydata.train)\n",
       "\n",
       "Residuals:\n",
       "     Min       1Q   Median       3Q      Max \n",
       "-1241506  -309967   -82244   273093  1459010 \n",
       "\n",
       "Coefficients:\n",
       "                            Estimate Std. Error t value Pr(>|t|)    \n",
       "(Intercept)                9.182e+03  1.558e+05   0.059  0.95303    \n",
       "Total.floor.area           5.539e+02  5.747e+01   9.637  < 2e-16 ***\n",
       "Lot.Size                   1.839e+02  3.480e+01   5.286 1.53e-07 ***\n",
       "Total.floor.area:Lot.Size -3.611e-02  1.173e-02  -3.079  0.00213 ** \n",
       "---\n",
       "Signif. codes:  0 '***' 0.001 '**' 0.01 '*' 0.05 '.' 0.1 ' ' 1\n",
       "\n",
       "Residual standard error: 424400 on 1038 degrees of freedom\n",
       "Multiple R-squared:  0.3804,\tAdjusted R-squared:  0.3786 \n",
       "F-statistic: 212.4 on 3 and 1038 DF,  p-value: < 2.2e-16\n"
      ]
     },
     "metadata": {},
     "output_type": "display_data"
    },
    {
     "data": {
      "text/html": [
       "203838.231053178"
      ],
      "text/latex": [
       "203838.231053178"
      ],
      "text/markdown": [
       "203838.231053178"
      ],
      "text/plain": [
       "[1] 203838.2"
      ]
     },
     "metadata": {},
     "output_type": "display_data"
    },
    {
     "data": {
      "text/html": [
       "366356.084578413"
      ],
      "text/latex": [
       "366356.084578413"
      ],
      "text/markdown": [
       "366356.084578413"
      ],
      "text/plain": [
       "[1] 366356.1"
      ]
     },
     "metadata": {},
     "output_type": "display_data"
    }
   ],
   "source": [
    "z12 <- lm(Price ~ Total.floor.area + Lot.Size + Total.floor.area * Lot.Size, data=mydata.train)\n",
    "summary(z12)\n",
    "mydata.valid$predict.z12 <- predict(z12, newdata=mydata.valid)\n",
    "RMSE.z12 <- sqrt(sum(mydata.valid$Price - mydata.valid$predict.z12)^2/nrow(mydata.valid)); RMSE.z12\n",
    "MAE.z12 <- sum(abs(mydata.valid$Price - mydata.valid$predict.z12))/nrow(mydata.valid); MAE.z12"
   ]
  },
  {
   "cell_type": "code",
   "execution_count": 40,
   "metadata": {},
   "outputs": [
    {
     "data": {
      "text/plain": [
       "\n",
       "Call:\n",
       "lm(formula = Price ~ Total.floor.area + lot.log, data = mydata.train)\n",
       "\n",
       "Residuals:\n",
       "     Min       1Q   Median       3Q      Max \n",
       "-1239730  -322071   -85477   288322  1630922 \n",
       "\n",
       "Coefficients:\n",
       "                   Estimate Std. Error t value Pr(>|t|)    \n",
       "(Intercept)      -2364224.7   444131.7  -5.323 1.25e-07 ***\n",
       "Total.floor.area      389.3       21.0  18.537  < 2e-16 ***\n",
       "lot.log            381058.4    55543.5   6.861 1.18e-11 ***\n",
       "---\n",
       "Signif. codes:  0 '***' 0.001 '**' 0.01 '*' 0.05 '.' 0.1 ' ' 1\n",
       "\n",
       "Residual standard error: 427500 on 1039 degrees of freedom\n",
       "Multiple R-squared:  0.3708,\tAdjusted R-squared:  0.3696 \n",
       "F-statistic: 306.2 on 2 and 1039 DF,  p-value: < 2.2e-16\n"
      ]
     },
     "metadata": {},
     "output_type": "display_data"
    },
    {
     "data": {
      "text/html": [
       "266578.015396082"
      ],
      "text/latex": [
       "266578.015396082"
      ],
      "text/markdown": [
       "266578.015396082"
      ],
      "text/plain": [
       "[1] 266578"
      ]
     },
     "metadata": {},
     "output_type": "display_data"
    },
    {
     "data": {
      "text/html": [
       "373887.980079756"
      ],
      "text/latex": [
       "373887.980079756"
      ],
      "text/markdown": [
       "373887.980079756"
      ],
      "text/plain": [
       "[1] 373888"
      ]
     },
     "metadata": {},
     "output_type": "display_data"
    }
   ],
   "source": [
    "z10_1 <- lm(Price ~ Total.floor.area + lot.log, data=mydata.train)\n",
    "summary(z10_1)\n",
    "mydata.valid$predict.z10_1 <- predict(z10_1, newdata=mydata.valid)\n",
    "RMSE.z10_1 <- sqrt(sum(mydata.valid$Price - mydata.valid$predict.z10_1)^2/nrow(mydata.valid)); RMSE.z10_1\n",
    "MAE.z10_1 <- sum(abs(mydata.valid$Price - mydata.valid$predict.z10_1))/nrow(mydata.valid); MAE.z10_1"
   ]
  },
  {
   "cell_type": "code",
   "execution_count": 41,
   "metadata": {},
   "outputs": [
    {
     "data": {
      "text/plain": [
       "\n",
       "Call:\n",
       "lm(formula = Price ~ Total.floor.area + lot.sqrt, data = mydata.train)\n",
       "\n",
       "Residuals:\n",
       "     Min       1Q   Median       3Q      Max \n",
       "-1232267  -317214   -84978   275604  1613835 \n",
       "\n",
       "Coefficients:\n",
       "                 Estimate Std. Error t value Pr(>|t|)    \n",
       "(Intercept)      51552.43   97546.93   0.528    0.597    \n",
       "Total.floor.area   386.90      20.91  18.505  < 2e-16 ***\n",
       "lot.sqrt         11766.31    1626.62   7.234 9.12e-13 ***\n",
       "---\n",
       "Signif. codes:  0 '***' 0.001 '**' 0.01 '*' 0.05 '.' 0.1 ' ' 1\n",
       "\n",
       "Residual standard error: 426500 on 1039 degrees of freedom\n",
       "Multiple R-squared:  0.3739,\tAdjusted R-squared:  0.3727 \n",
       "F-statistic: 310.2 on 2 and 1039 DF,  p-value: < 2.2e-16\n"
      ]
     },
     "metadata": {},
     "output_type": "display_data"
    },
    {
     "data": {
      "text/html": [
       "291146.284291361"
      ],
      "text/latex": [
       "291146.284291361"
      ],
      "text/markdown": [
       "291146.284291361"
      ],
      "text/plain": [
       "[1] 291146.3"
      ]
     },
     "metadata": {},
     "output_type": "display_data"
    },
    {
     "data": {
      "text/html": [
       "371976.425349004"
      ],
      "text/latex": [
       "371976.425349004"
      ],
      "text/markdown": [
       "371976.425349004"
      ],
      "text/plain": [
       "[1] 371976.4"
      ]
     },
     "metadata": {},
     "output_type": "display_data"
    }
   ],
   "source": [
    "z11_1 <- lm(Price ~ Total.floor.area + lot.sqrt, data=mydata.train)\n",
    "summary(z11_1)\n",
    "mydata.valid$predict.z11_1 <- predict(z11_1, newdata=mydata.valid)\n",
    "RMSE.z11_1 <- sqrt(sum(mydata.valid$Price - mydata.valid$predict.z11_1)^2/nrow(mydata.valid)); RMSE.z11_1\n",
    "MAE.z11_1 <- sum(abs(mydata.valid$Price - mydata.valid$predict.z11_1))/nrow(mydata.valid); MAE.z11_1"
   ]
  },
  {
   "cell_type": "code",
   "execution_count": 42,
   "metadata": {},
   "outputs": [
    {
     "data": {
      "text/plain": [
       "\n",
       "Call:\n",
       "lm(formula = Price ~ Total.floor.area + Lot.Size, data = mydata.train)\n",
       "\n",
       "Residuals:\n",
       "     Min       1Q   Median       3Q      Max \n",
       "-1304776  -313441   -83906   263042  1619307 \n",
       "\n",
       "Coefficients:\n",
       "                  Estimate Std. Error t value Pr(>|t|)    \n",
       "(Intercept)      457385.32   55917.30   8.180 8.25e-16 ***\n",
       "Total.floor.area    388.71      20.74  18.742  < 2e-16 ***\n",
       "Lot.Size             82.46      11.24   7.339 4.33e-13 ***\n",
       "---\n",
       "Signif. codes:  0 '***' 0.001 '**' 0.01 '*' 0.05 '.' 0.1 ' ' 1\n",
       "\n",
       "Residual standard error: 426200 on 1039 degrees of freedom\n",
       "Multiple R-squared:  0.3747,\tAdjusted R-squared:  0.3735 \n",
       "F-statistic: 311.4 on 2 and 1039 DF,  p-value: < 2.2e-16\n"
      ]
     },
     "metadata": {},
     "output_type": "display_data"
    },
    {
     "data": {
      "text/html": [
       "306948.433193718"
      ],
      "text/latex": [
       "306948.433193718"
      ],
      "text/markdown": [
       "306948.433193718"
      ],
      "text/plain": [
       "[1] 306948.4"
      ]
     },
     "metadata": {},
     "output_type": "display_data"
    },
    {
     "data": {
      "text/html": [
       "370457.840469517"
      ],
      "text/latex": [
       "370457.840469517"
      ],
      "text/markdown": [
       "370457.840469517"
      ],
      "text/plain": [
       "[1] 370457.8"
      ]
     },
     "metadata": {},
     "output_type": "display_data"
    }
   ],
   "source": [
    "z12_1 <- lm(Price ~ Total.floor.area + Lot.Size, data=mydata.train)\n",
    "summary(z12_1)\n",
    "mydata.valid$predict.z12_1 <- predict(z12_1, newdata=mydata.valid)\n",
    "RMSE.z12_1 <- sqrt(sum(mydata.valid$Price - mydata.valid$predict.z12_1)^2/nrow(mydata.valid)); RMSE.z12_1\n",
    "MAE.z12_1 <- sum(abs(mydata.valid$Price - mydata.valid$predict.z12_1))/nrow(mydata.valid); MAE.z12_1"
   ]
  },
  {
   "cell_type": "code",
   "execution_count": null,
   "metadata": {},
   "outputs": [],
   "source": []
  }
 ],
 "metadata": {
  "kernelspec": {
   "display_name": "R",
   "language": "R",
   "name": "ir"
  },
  "language_info": {
   "codemirror_mode": "r",
   "file_extension": ".r",
   "mimetype": "text/x-r-source",
   "name": "R",
   "pygments_lexer": "r",
   "version": "3.6.1"
  }
 },
 "nbformat": 4,
 "nbformat_minor": 4
}
